{
 "cells": [
  {
   "cell_type": "markdown",
   "id": "7a013d2e-d323-429e-99a2-2b77b4b017fa",
   "metadata": {},
   "source": [
    "# PYTHON VARIABLES"
   ]
  },
  {
   "cell_type": "code",
   "execution_count": 9,
   "id": "1e0bf5f8-2ff1-4561-a892-7066c337ca2a",
   "metadata": {},
   "outputs": [],
   "source": [
    "x = 5"
   ]
  },
  {
   "cell_type": "code",
   "execution_count": 10,
   "id": "c7f61ec1-042b-4948-9882-b46cf45ea553",
   "metadata": {},
   "outputs": [],
   "source": [
    "age = 25"
   ]
  },
  {
   "cell_type": "code",
   "execution_count": 11,
   "id": "39c23ca9-6ae9-4b8d-a9a6-01509638be67",
   "metadata": {},
   "outputs": [],
   "source": [
    "address = \"4 random street, lagos\""
   ]
  },
  {
   "cell_type": "markdown",
   "id": "36a1c6fd-8674-4489-92a2-864849e65d4a",
   "metadata": {},
   "source": [
    "### VARIABLES NAMING CONVENTION"
   ]
  },
  {
   "cell_type": "markdown",
   "id": "29779c35-0016-49bf-9366-9ccf3834c716",
   "metadata": {},
   "source": [
    "- A variable name must start with a letter or the underscore character\n",
    "- A variable name cannot start with a number\n",
    "- A variable name can only contain alpha-numeric characters and underscore ( A-Z, 0-9, _)\n",
    "- Avariable name are case-sentive e.g AGE,Age and age are different"
   ]
  },
  {
   "cell_type": "markdown",
   "id": "99efbca5-bca1-41fe-8ecf-1d3447e67eaa",
   "metadata": {},
   "source": [
    "### PRINT KEYWORD"
   ]
  },
  {
   "cell_type": "markdown",
   "id": "7eb2ec24-ac9b-4dc0-a6ed-971c543c34f2",
   "metadata": {},
   "source": [
    "we use print keyword to output value of a variable\n",
    "\n",
    "NOTE;\n",
    "- ()is called parenthesis\n",
    "- [  ] is called square bracket\n",
    " - { } is called curly braces\n",
    "      "
   ]
  },
  {
   "cell_type": "code",
   "execution_count": 12,
   "id": "31e9d338-7ac6-44ec-be07-2fb1f55cdeac",
   "metadata": {},
   "outputs": [],
   "source": [
    "x = 10"
   ]
  },
  {
   "cell_type": "code",
   "execution_count": 13,
   "id": "19657bc3-d34a-4eee-8634-532784451d09",
   "metadata": {},
   "outputs": [
    {
     "name": "stdout",
     "output_type": "stream",
     "text": [
      "10\n"
     ]
    }
   ],
   "source": [
    "print(x)"
   ]
  },
  {
   "cell_type": "code",
   "execution_count": 14,
   "id": "7e446a5c-bac7-47e7-a457-20f91930323c",
   "metadata": {},
   "outputs": [
    {
     "name": "stdout",
     "output_type": "stream",
     "text": [
      "4 random street, lagos\n"
     ]
    }
   ],
   "source": [
    "print(address)"
   ]
  },
  {
   "cell_type": "code",
   "execution_count": 15,
   "id": "ae533aa1-1902-44a9-a39d-a0fc15898fe6",
   "metadata": {},
   "outputs": [],
   "source": [
    "is_married = True"
   ]
  },
  {
   "cell_type": "code",
   "execution_count": 16,
   "id": "def4cc97-a5a3-4a57-9aa9-4f018519ff84",
   "metadata": {},
   "outputs": [
    {
     "name": "stdout",
     "output_type": "stream",
     "text": [
      "True\n"
     ]
    }
   ],
   "source": [
    "print(is_married)"
   ]
  },
  {
   "cell_type": "markdown",
   "id": "43f53276-3709-4456-ad02-f7c61ccc0ffc",
   "metadata": {},
   "source": [
    "### PYTHON COMMENTS"
   ]
  },
  {
   "cell_type": "code",
   "execution_count": 17,
   "id": "654aa642-417e-4b17-b293-ab1c83538ba4",
   "metadata": {},
   "outputs": [],
   "source": [
    "# This is a comment"
   ]
  },
  {
   "cell_type": "code",
   "execution_count": 18,
   "id": "4ba880ef-148b-45ef-8498-f4efd47b6e25",
   "metadata": {},
   "outputs": [],
   "source": [
    "# this is a variable with value called mayowa\n",
    "first_name = \"mayowa\""
   ]
  },
  {
   "cell_type": "code",
   "execution_count": 19,
   "id": "e26282bb-5191-4da2-a67a-1aba391a5bae",
   "metadata": {},
   "outputs": [
    {
     "name": "stdout",
     "output_type": "stream",
     "text": [
      "mayowa\n"
     ]
    }
   ],
   "source": [
    "print(first_name)"
   ]
  },
  {
   "cell_type": "markdown",
   "id": "fb71dbc8-c8b1-4a40-8c96-b8df54363f16",
   "metadata": {},
   "source": [
    "### DATA TYPE CHECKS"
   ]
  },
  {
   "cell_type": "code",
   "execution_count": 20,
   "id": "330f5377-38d4-43db-a5b9-1ccb1181e1a7",
   "metadata": {},
   "outputs": [],
   "source": [
    "age = 25"
   ]
  },
  {
   "cell_type": "code",
   "execution_count": 21,
   "id": "33f27f19-52d9-4152-891d-6806707e1433",
   "metadata": {},
   "outputs": [
    {
     "name": "stdout",
     "output_type": "stream",
     "text": [
      "25\n"
     ]
    }
   ],
   "source": [
    "print(age)"
   ]
  },
  {
   "cell_type": "code",
   "execution_count": 22,
   "id": "d9c39e42-d9f8-4520-b4ab-bfa7cddc066a",
   "metadata": {},
   "outputs": [
    {
     "name": "stdout",
     "output_type": "stream",
     "text": [
      "<class 'int'>\n"
     ]
    }
   ],
   "source": [
    "# checkingthe data type of variable age\n",
    "print(type(age))\n",
    "\n"
   ]
  },
  {
   "cell_type": "code",
   "execution_count": 23,
   "id": "5d6e0b1e-63b0-40aa-9620-3dc3db2c5d7f",
   "metadata": {},
   "outputs": [],
   "source": [
    "is_student = False"
   ]
  },
  {
   "cell_type": "code",
   "execution_count": 24,
   "id": "be778b89-c263-4bab-a69a-a326093f5c0d",
   "metadata": {},
   "outputs": [
    {
     "name": "stdout",
     "output_type": "stream",
     "text": [
      "<class 'bool'>\n"
     ]
    }
   ],
   "source": [
    "print(type(is_student))"
   ]
  },
  {
   "cell_type": "code",
   "execution_count": 25,
   "id": "54c2a566-2f83-498b-9aba-09407acfeb28",
   "metadata": {},
   "outputs": [],
   "source": [
    "height = 8.3"
   ]
  },
  {
   "cell_type": "code",
   "execution_count": 26,
   "id": "6f858b1e-2338-45a3-acd8-2c15f98c2d87",
   "metadata": {},
   "outputs": [
    {
     "name": "stdout",
     "output_type": "stream",
     "text": [
      "<class 'float'>\n"
     ]
    }
   ],
   "source": [
    "print(type(height))"
   ]
  },
  {
   "cell_type": "code",
   "execution_count": 27,
   "id": "86ea0ae5-bc4b-448f-bfff-69500da0670a",
   "metadata": {},
   "outputs": [],
   "source": [
    "name = \"amanda\""
   ]
  },
  {
   "cell_type": "code",
   "execution_count": 28,
   "id": "a602f5e4-3c2a-447c-ac2f-3f132f27871f",
   "metadata": {},
   "outputs": [
    {
     "name": "stdout",
     "output_type": "stream",
     "text": [
      "<class 'str'>\n"
     ]
    }
   ],
   "source": [
    "print(type(name))"
   ]
  },
  {
   "cell_type": "code",
   "execution_count": 35,
   "id": "68c7d3e6-aa65-46fa-8a01-7a1ddfe5c30a",
   "metadata": {},
   "outputs": [],
   "source": [
    "corrupt_number = \"5\""
   ]
  },
  {
   "cell_type": "code",
   "execution_count": 36,
   "id": "b4e023a5-db09-4354-845d-7a95b6d9691a",
   "metadata": {},
   "outputs": [
    {
     "name": "stdout",
     "output_type": "stream",
     "text": [
      "5\n"
     ]
    }
   ],
   "source": [
    "print(corrupt_number)"
   ]
  },
  {
   "cell_type": "code",
   "execution_count": 31,
   "id": "218e796f-85ad-4d11-948d-59575fa0c702",
   "metadata": {},
   "outputs": [
    {
     "name": "stdout",
     "output_type": "stream",
     "text": [
      "<class 'str'>\n"
     ]
    }
   ],
   "source": [
    "print(type(corrupt_number))"
   ]
  },
  {
   "cell_type": "markdown",
   "id": "f78260f1-0a2a-45df-80e7-afc044b8f2bc",
   "metadata": {},
   "source": [
    "### DATA TYPE CASTING OR CONVERSION"
   ]
  },
  {
   "cell_type": "code",
   "execution_count": 39,
   "id": "bf8f075f-8e40-4efe-a6b3-473d6b3a0b26",
   "metadata": {},
   "outputs": [],
   "source": [
    "corrupt_number = \"29\""
   ]
  },
  {
   "cell_type": "code",
   "execution_count": 33,
   "id": "b9e64b71-181b-4de7-adc3-b39e14e20c5a",
   "metadata": {},
   "outputs": [
    {
     "ename": "TypeError",
     "evalue": "can only concatenate str (not \"int\") to str",
     "output_type": "error",
     "traceback": [
      "\u001b[0;31m---------------------------------------------------------------------------\u001b[0m",
      "\u001b[0;31mTypeError\u001b[0m                                 Traceback (most recent call last)",
      "Cell \u001b[0;32mIn[33], line 1\u001b[0m\n\u001b[0;32m----> 1\u001b[0m \u001b[38;5;28mprint\u001b[39m(\u001b[43mcorrupt_number\u001b[49m\u001b[43m \u001b[49m\u001b[38;5;241;43m+\u001b[39;49m\u001b[43m \u001b[49m\u001b[38;5;241;43m1\u001b[39;49m)\n",
      "\u001b[0;31mTypeError\u001b[0m: can only concatenate str (not \"int\") to str"
     ]
    }
   ],
   "source": [
    "print(corrupt_number + 1)"
   ]
  },
  {
   "cell_type": "code",
   "execution_count": 40,
   "id": "bc669037-c31a-4624-ad6a-917a5b42c475",
   "metadata": {},
   "outputs": [],
   "source": [
    "cleaned_data = int(corrupt_number)"
   ]
  },
  {
   "cell_type": "code",
   "execution_count": 41,
   "id": "9899c053-3afe-4615-850a-655acca25dfe",
   "metadata": {},
   "outputs": [
    {
     "name": "stdout",
     "output_type": "stream",
     "text": [
      "29\n"
     ]
    }
   ],
   "source": [
    "print(cleaned_data)"
   ]
  },
  {
   "cell_type": "code",
   "execution_count": 42,
   "id": "6b28af41-2e57-4822-b554-2c38ebfe2303",
   "metadata": {},
   "outputs": [
    {
     "name": "stdout",
     "output_type": "stream",
     "text": [
      "<class 'int'>\n"
     ]
    }
   ],
   "source": [
    "print(type(cleaned_data))"
   ]
  },
  {
   "cell_type": "code",
   "execution_count": 43,
   "id": "8477ebad-5c46-4264-93ed-3561b35d23ba",
   "metadata": {},
   "outputs": [
    {
     "name": "stdout",
     "output_type": "stream",
     "text": [
      "<class 'str'>\n"
     ]
    }
   ],
   "source": [
    "print(type(corrupt_number))"
   ]
  },
  {
   "cell_type": "code",
   "execution_count": 44,
   "id": "de2a6d2c-0a2c-42a5-976b-d6a849b08711",
   "metadata": {},
   "outputs": [],
   "source": [
    "weight = \"56.7\""
   ]
  },
  {
   "cell_type": "code",
   "execution_count": 45,
   "id": "cc1e4f39-35fc-4b97-b4d6-7342a55d06c0",
   "metadata": {},
   "outputs": [
    {
     "name": "stdout",
     "output_type": "stream",
     "text": [
      "56.7\n"
     ]
    }
   ],
   "source": [
    "print(weight)"
   ]
  },
  {
   "cell_type": "code",
   "execution_count": 46,
   "id": "2683124c-8d86-44c9-9ff3-959033f82ace",
   "metadata": {},
   "outputs": [
    {
     "name": "stdout",
     "output_type": "stream",
     "text": [
      "<class 'str'>\n"
     ]
    }
   ],
   "source": [
    "print(type(weight))"
   ]
  },
  {
   "cell_type": "code",
   "execution_count": 47,
   "id": "d8b5a1b4-1b29-40b2-af4f-f79b6b7b5a35",
   "metadata": {},
   "outputs": [],
   "source": [
    "cleaned_weight = float(weight)"
   ]
  },
  {
   "cell_type": "code",
   "execution_count": 48,
   "id": "b13afcbd-6b90-4883-a286-8180ad1c710a",
   "metadata": {},
   "outputs": [
    {
     "name": "stdout",
     "output_type": "stream",
     "text": [
      "56.7\n"
     ]
    }
   ],
   "source": [
    "print(cleaned_weight)"
   ]
  },
  {
   "cell_type": "code",
   "execution_count": 49,
   "id": "5302a0b9-ab68-457e-baba-af66bc61ad42",
   "metadata": {},
   "outputs": [
    {
     "name": "stdout",
     "output_type": "stream",
     "text": [
      "<class 'float'>\n"
     ]
    }
   ],
   "source": [
    "print(type(cleaned_weight))"
   ]
  },
  {
   "cell_type": "code",
   "execution_count": 50,
   "id": "efac24e3-215f-42f5-9fea-59b1a6e45e0d",
   "metadata": {},
   "outputs": [],
   "source": [
    "number = 10"
   ]
  },
  {
   "cell_type": "code",
   "execution_count": 51,
   "id": "6049fdfd-bbd9-426c-85d8-a0fb74f48dac",
   "metadata": {},
   "outputs": [],
   "source": [
    "new_number = float(number)"
   ]
  },
  {
   "cell_type": "code",
   "execution_count": 52,
   "id": "b6c3abff-5505-455a-abf3-b7ca56eb937a",
   "metadata": {},
   "outputs": [
    {
     "name": "stdout",
     "output_type": "stream",
     "text": [
      "10.0\n"
     ]
    }
   ],
   "source": [
    "print(new_number)"
   ]
  },
  {
   "cell_type": "code",
   "execution_count": 53,
   "id": "345bbb39-514f-412f-a513-4aa521ef4c3a",
   "metadata": {},
   "outputs": [
    {
     "name": "stdout",
     "output_type": "stream",
     "text": [
      "<class 'float'>\n"
     ]
    }
   ],
   "source": [
    "print(type(new_number))"
   ]
  },
  {
   "cell_type": "code",
   "execution_count": 54,
   "id": "1ed71097-ebe0-43da-bda5-00f1b1159f8c",
   "metadata": {},
   "outputs": [],
   "source": [
    "x = 5.9"
   ]
  },
  {
   "cell_type": "code",
   "execution_count": 55,
   "id": "34b8dd8d-9ba8-492f-b7a2-1823188e187d",
   "metadata": {},
   "outputs": [],
   "source": [
    "new_x = int(x)"
   ]
  },
  {
   "cell_type": "code",
   "execution_count": 56,
   "id": "47e982a9-6201-45e8-8ec7-249df823e77c",
   "metadata": {},
   "outputs": [
    {
     "name": "stdout",
     "output_type": "stream",
     "text": [
      "5\n"
     ]
    }
   ],
   "source": [
    "print(new_x)"
   ]
  },
  {
   "cell_type": "code",
   "execution_count": 58,
   "id": "ef14fe8a-54aa-435d-9c89-cf50ace0916c",
   "metadata": {},
   "outputs": [],
   "source": [
    "rounded_x = round(x)"
   ]
  },
  {
   "cell_type": "code",
   "execution_count": 59,
   "id": "6c03cb74-abff-42d5-9b25-bf8996dc6b0f",
   "metadata": {},
   "outputs": [
    {
     "name": "stdout",
     "output_type": "stream",
     "text": [
      "6\n"
     ]
    }
   ],
   "source": [
    "print(rounded_x)"
   ]
  },
  {
   "cell_type": "code",
   "execution_count": 60,
   "id": "7213301e-0e82-484f-94f0-953a88b23fa4",
   "metadata": {},
   "outputs": [],
   "source": [
    "y = 11.767"
   ]
  },
  {
   "cell_type": "code",
   "execution_count": 61,
   "id": "974b611a-64e4-462c-979c-237dd7d278b6",
   "metadata": {},
   "outputs": [],
   "source": [
    "rounded_x_two_decimal = round(y, 2)"
   ]
  },
  {
   "cell_type": "code",
   "execution_count": 62,
   "id": "1cdcd8b7-ca81-46c9-b4cf-219ef4630dca",
   "metadata": {},
   "outputs": [
    {
     "name": "stdout",
     "output_type": "stream",
     "text": [
      "11.77\n"
     ]
    }
   ],
   "source": [
    "print(rounded_x_two_decimal)"
   ]
  },
  {
   "cell_type": "code",
   "execution_count": 63,
   "id": "0471d87a-86c3-49c2-b04d-af3e24a2007e",
   "metadata": {},
   "outputs": [],
   "source": [
    "rounded_x_1_decimal = round(y, 1)"
   ]
  },
  {
   "cell_type": "code",
   "execution_count": 64,
   "id": "34e7844b-0d3c-44b9-820e-1863b7cf1c12",
   "metadata": {},
   "outputs": [
    {
     "name": "stdout",
     "output_type": "stream",
     "text": [
      "11.8\n"
     ]
    }
   ],
   "source": [
    "print(rounded_x_1_decimal)"
   ]
  },
  {
   "cell_type": "code",
   "execution_count": null,
   "id": "9aabe2fb-2c7a-4342-8f1d-108e86868c27",
   "metadata": {},
   "outputs": [],
   "source": []
  },
  {
   "cell_type": "code",
   "execution_count": null,
   "id": "1af6ca29-76f8-4024-93d5-e3ff5c0f4d23",
   "metadata": {},
   "outputs": [],
   "source": []
  },
  {
   "cell_type": "markdown",
   "id": "ec745654-88ba-4c8b-8acd-60582552e356",
   "metadata": {},
   "source": [
    "## concatenation"
   ]
  },
  {
   "cell_type": "code",
   "execution_count": 1,
   "id": "e15fbf78-656e-49ba-a28e-d8c35595a404",
   "metadata": {},
   "outputs": [],
   "source": [
    "first_name = \"mayowa \""
   ]
  },
  {
   "cell_type": "code",
   "execution_count": 5,
   "id": "d2a98d94-fc5d-4a00-ab7f-51bdb504831a",
   "metadata": {},
   "outputs": [],
   "source": [
    "last_name= \" akinyele\""
   ]
  },
  {
   "cell_type": "code",
   "execution_count": 6,
   "id": "f411b188-7502-4a0e-b2a6-daf8f26d19e2",
   "metadata": {},
   "outputs": [
    {
     "name": "stdout",
     "output_type": "stream",
     "text": [
      "mayowa akinyele\n"
     ]
    }
   ],
   "source": [
    "print(first_name + last_name)"
   ]
  },
  {
   "cell_type": "code",
   "execution_count": 7,
   "id": "c2cc8770-7655-4953-b62e-fd87742e2ef8",
   "metadata": {},
   "outputs": [
    {
     "name": "stdout",
     "output_type": "stream",
     "text": [
      "how are you\n"
     ]
    }
   ],
   "source": [
    "print(\"how \" + \"are\" + \" you\")"
   ]
  },
  {
   "cell_type": "markdown",
   "id": "f4448e7a-1e7a-4719-a41e-4d3b7c50904a",
   "metadata": {},
   "source": [
    "## Multiline strings"
   ]
  },
  {
   "cell_type": "code",
   "execution_count": 15,
   "id": "57cf3745-006b-4207-b05f-e87d0287757b",
   "metadata": {},
   "outputs": [],
   "source": [
    "name = \"\"\"how are you,\n",
    "my name is yinka, \n",
    "i live in germany\"\"\"\n"
   ]
  },
  {
   "cell_type": "code",
   "execution_count": 16,
   "id": "59f57fdc-3457-41ea-905f-00aaa5aacb6d",
   "metadata": {},
   "outputs": [
    {
     "name": "stdout",
     "output_type": "stream",
     "text": [
      "how are you,\n",
      "my name is yinka, \n",
      "i live in germany\n"
     ]
    }
   ],
   "source": [
    "print(name)"
   ]
  },
  {
   "cell_type": "markdown",
   "id": "8e3cbb12-28c8-42af-9d45-8bdc967525be",
   "metadata": {},
   "source": [
    "## User Input"
   ]
  },
  {
   "cell_type": "code",
   "execution_count": 19,
   "id": "bc4fa415-0752-41cc-9909-5b5990a4cac0",
   "metadata": {},
   "outputs": [
    {
     "name": "stdin",
     "output_type": "stream",
     "text": [
      "please what is your age:  20\n"
     ]
    }
   ],
   "source": [
    "question = int(input(\"please what is your age: \"))"
   ]
  },
  {
   "cell_type": "code",
   "execution_count": 20,
   "id": "a521c6c3-f5ad-4392-a904-02223c02c513",
   "metadata": {},
   "outputs": [
    {
     "name": "stdout",
     "output_type": "stream",
     "text": [
      "<class 'int'>\n"
     ]
    }
   ],
   "source": [
    "print(type(question))"
   ]
  },
  {
   "cell_type": "code",
   "execution_count": 21,
   "id": "3644cf29-1052-439b-a4f7-654c352e99d1",
   "metadata": {},
   "outputs": [],
   "source": [
    "new_age = question + 10"
   ]
  },
  {
   "cell_type": "markdown",
   "id": "bebe2d9d-21b7-4632-b716-29d90c7124e5",
   "metadata": {},
   "source": [
    "## String Interpolation"
   ]
  },
  {
   "cell_type": "code",
   "execution_count": 22,
   "id": "d3eb1cd6-e64d-41d4-942c-6df1d983d8d0",
   "metadata": {},
   "outputs": [],
   "source": [
    "age = 30 "
   ]
  },
  {
   "cell_type": "code",
   "execution_count": 23,
   "id": "6a511f62-f7e6-41f9-a1c6-c2b0f49acc9d",
   "metadata": {},
   "outputs": [
    {
     "name": "stdout",
     "output_type": "stream",
     "text": [
      "30\n"
     ]
    }
   ],
   "source": [
    "print(age)"
   ]
  },
  {
   "cell_type": "code",
   "execution_count": 25,
   "id": "64e635dc-799e-4c87-b784-be314df6731b",
   "metadata": {},
   "outputs": [
    {
     "name": "stdout",
     "output_type": "stream",
     "text": [
      "my age is 30\n"
     ]
    }
   ],
   "source": [
    "print(\"my age is\", age)"
   ]
  },
  {
   "cell_type": "code",
   "execution_count": 26,
   "id": "4d76ea56-28e7-4530-9bd7-f191a54d9b45",
   "metadata": {},
   "outputs": [
    {
     "name": "stdout",
     "output_type": "stream",
     "text": [
      "my name is yinka, i am 30 years old\n"
     ]
    }
   ],
   "source": [
    "print(f\"my name is yinka, i am {age} years old\")"
   ]
  },
  {
   "cell_type": "code",
   "execution_count": null,
   "id": "f6b380de-7778-46cc-a89c-e9719f80411f",
   "metadata": {},
   "outputs": [],
   "source": []
  }
 ],
 "metadata": {
  "kernelspec": {
   "display_name": "Python 3 (ipykernel)",
   "language": "python",
   "name": "python3"
  },
  "language_info": {
   "codemirror_mode": {
    "name": "ipython",
    "version": 3
   },
   "file_extension": ".py",
   "mimetype": "text/x-python",
   "name": "python",
   "nbconvert_exporter": "python",
   "pygments_lexer": "ipython3",
   "version": "3.12.1"
  }
 },
 "nbformat": 4,
 "nbformat_minor": 5
}
