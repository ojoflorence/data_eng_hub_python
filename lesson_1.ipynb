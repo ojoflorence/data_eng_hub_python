{
 "cells": [
  {
   "cell_type": "markdown",
   "id": "7a013d2e-d323-429e-99a2-2b77b4b017fa",
   "metadata": {},
   "source": [
    "# PYTHON VARIABLES"
   ]
  },
  {
   "cell_type": "code",
   "execution_count": 1,
   "id": "1e0bf5f8-2ff1-4561-a892-7066c337ca2a",
   "metadata": {},
   "outputs": [],
   "source": [
    "x = 5"
   ]
  },
  {
   "cell_type": "code",
   "execution_count": 5,
   "id": "c7f61ec1-042b-4948-9882-b46cf45ea553",
   "metadata": {},
   "outputs": [],
   "source": [
    "age = 25"
   ]
  },
  {
   "cell_type": "code",
   "execution_count": 3,
   "id": "39c23ca9-6ae9-4b8d-a9a6-01509638be67",
   "metadata": {},
   "outputs": [],
   "source": [
    "address = \"4 random street, lagos\""
   ]
  },
  {
   "cell_type": "markdown",
   "id": "36a1c6fd-8674-4489-92a2-864849e65d4a",
   "metadata": {},
   "source": [
    "# VARIABLES NAMING CONVENTION"
   ]
  },
  {
   "cell_type": "code",
   "execution_count": null,
   "id": "04731ab8-883f-4864-ab2c-bb1c17300ca3",
   "metadata": {},
   "outputs": [],
   "source": []
  },
  {
   "cell_type": "markdown",
   "id": "29779c35-0016-49bf-9366-9ccf3834c716",
   "metadata": {},
   "source": [
    "- A variable name must start with a letter or the underscore character\n",
    "- A variable name cannot start with a number\n",
    "- A variable name can only contain alpha-numeric characters and underscore ( A-Z, 0-9, _)\n",
    "- Avariable name are case-sentive e.g AGE,Age and age are different"
   ]
  },
  {
   "cell_type": "markdown",
   "id": "99efbca5-bca1-41fe-8ecf-1d3447e67eaa",
   "metadata": {},
   "source": [
    "### PRINT KEYWORD"
   ]
  },
  {
   "cell_type": "markdown",
   "id": "7eb2ec24-ac9b-4dc0-a6ed-971c543c34f2",
   "metadata": {},
   "source": [
    "we use print keyword to output value of a variable\n",
    "\n",
    "NOTE;\n",
    "- ()is called parenthesis\n",
    "- [ ] is called square bracket\n",
    " - { } is called curly braces\n",
    "      "
   ]
  },
  {
   "cell_type": "code",
   "execution_count": 8,
   "id": "31e9d338-7ac6-44ec-be07-2fb1f55cdeac",
   "metadata": {},
   "outputs": [],
   "source": [
    "x = 10"
   ]
  },
  {
   "cell_type": "code",
   "execution_count": 9,
   "id": "19657bc3-d34a-4eee-8634-532784451d09",
   "metadata": {},
   "outputs": [
    {
     "name": "stdout",
     "output_type": "stream",
     "text": [
      "10\n"
     ]
    }
   ],
   "source": [
    "print (x)"
   ]
  },
  {
   "cell_type": "code",
   "execution_count": 10,
   "id": "7e446a5c-bac7-47e7-a457-20f91930323c",
   "metadata": {},
   "outputs": [
    {
     "name": "stdout",
     "output_type": "stream",
     "text": [
      "4 random street, lagos\n"
     ]
    }
   ],
   "source": [
    "print (address)"
   ]
  },
  {
   "cell_type": "code",
   "execution_count": 11,
   "id": "ae533aa1-1902-44a9-a39d-a0fc15898fe6",
   "metadata": {},
   "outputs": [],
   "source": [
    "is_married = True"
   ]
  },
  {
   "cell_type": "code",
   "execution_count": 12,
   "id": "def4cc97-a5a3-4a57-9aa9-4f018519ff84",
   "metadata": {},
   "outputs": [
    {
     "name": "stdout",
     "output_type": "stream",
     "text": [
      "True\n"
     ]
    }
   ],
   "source": [
    "print(is_married)"
   ]
  },
  {
   "cell_type": "code",
   "execution_count": null,
   "id": "7f776d18-d219-4df7-a1c0-254be91f76ee",
   "metadata": {},
   "outputs": [],
   "source": []
  }
 ],
 "metadata": {
  "kernelspec": {
   "display_name": "Python 3 (ipykernel)",
   "language": "python",
   "name": "python3"
  },
  "language_info": {
   "codemirror_mode": {
    "name": "ipython",
    "version": 3
   },
   "file_extension": ".py",
   "mimetype": "text/x-python",
   "name": "python",
   "nbconvert_exporter": "python",
   "pygments_lexer": "ipython3",
   "version": "3.12.1"
  }
 },
 "nbformat": 4,
 "nbformat_minor": 5
}
