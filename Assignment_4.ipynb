{
 "cells": [
  {
   "cell_type": "markdown",
   "id": "8eac019e-a351-4dff-bfab-d4952f251b5c",
   "metadata": {},
   "source": [
    "#### PROJECT 1\n",
    "Build a navigation system that tells any individual the total commute time it will take to get to Lekki from the Lagos International Airport, based on some factors that includes rain and traffic using the below parameters/variables. We dont't need to get any user input, only using the varibales below. "
   ]
  },
  {
   "cell_type": "code",
   "execution_count": 4,
   "id": "320d0d48-3f2e-4d3d-8fc7-f7fb0096eaed",
   "metadata": {},
   "outputs": [
    {
     "name": "stdout",
     "output_type": "stream",
     "text": [
      "The total commute time from MM2  to Lekki will be 60 minutes due to the heavy rains and traffic.\n"
     ]
    }
   ],
   "source": [
    "normal_commute_time = 30\n",
    "is_raining = True\n",
    "is_traffic = True\n",
    "\n",
    "# using the if statements to set the possiblities\n",
    "\n",
    "if is_raining == False and is_traffic == False :\n",
    "    print(f\"The total commute time from MM2  to Lekki will be {normal_commute_time} minutes.\")\n",
    "    \n",
    "elif is_raining == True and is_traffic == False :\n",
    "    normal_commute_time += 10\n",
    "    print(f\"The total commute time from MM2  to Lekki will be {normal_commute_time} minutes due to the Rains\")\n",
    "    \n",
    "elif is_raining == False and is_traffic == True:\n",
    "    normal_commute_time += 20\n",
    "    print(f\"The total commute time from MM2  to Lekki will be {normal_commute_time} minutes due to the heavy traffic.\")\n",
    "    \n",
    "else:\n",
    "    normal_commute_time += 30\n",
    "    print(f\"The total commute time from MM2  to Lekki will be {normal_commute_time} minutes due to the heavy rains and traffic.\")"
   ]
  },
  {
   "cell_type": "code",
   "execution_count": null,
   "id": "e6a7ddd5-b68a-4e15-ac44-b996adaa8380",
   "metadata": {},
   "outputs": [],
   "source": []
  },
  {
   "cell_type": "code",
   "execution_count": null,
   "id": "579dd195-6653-474c-9eb1-f1add4237d6d",
   "metadata": {},
   "outputs": [],
   "source": []
  },
  {
   "cell_type": "code",
   "execution_count": 8,
   "id": "361062ed-a629-4903-a9c5-69bfced7eb2f",
   "metadata": {},
   "outputs": [
    {
     "name": "stdout",
     "output_type": "stream",
     "text": [
      "It is raining and there is traffic, the total commute time from MM2  to Lekki will be 60 minutes.\n"
     ]
    }
   ],
   "source": [
    "normal_commute_time = 30\n",
    "is_raining = True\n",
    "is_traffic = True\n",
    "\n",
    "# using the if statements to set the 1st possiblity\n",
    "\n",
    "if is_raining == False and is_traffic == False :\n",
    "    print(f\"It is not raining and there is no traffic ,the total commute time from MM2  to Lekki will be {normal_commute_time} minutes.\")\n",
    "    \n",
    "# using the if statements to set the 2nd possiblity\n",
    "\n",
    "elif is_raining == True and is_traffic == False:\n",
    "    normal_commute_time = normal_commute_time + 10\n",
    "    print(f\"It is raining but there is no traffic, The total commute time from MM2  to Lekki will be {normal_commute_time} minutes.\")\n",
    "\n",
    "# using the if statements to set the 3rd possiblity\n",
    "    \n",
    "elif is_raining == False and is_traffic == True:\n",
    "    normal_commute_time = normal_commute_time + 20\n",
    "    print(f\"It is not raining but there is no traffic, the total commute time from MM2  to Lekki will be {normal_commute_time} minutes.\")\n",
    "\n",
    "# using the if statements to set the 4th possiblity\n",
    "\n",
    "else:\n",
    "    normal_commute_time = normal_commute_time + 30\n",
    "    print(f\"It is raining and there is traffic, the total commute time from MM2  to Lekki will be {normal_commute_time} minutes.\")"
   ]
  },
  {
   "cell_type": "code",
   "execution_count": null,
   "id": "e041f413-fbf5-4327-97bd-70a930fdcf85",
   "metadata": {},
   "outputs": [],
   "source": []
  },
  {
   "cell_type": "code",
   "execution_count": null,
   "id": "089f34f5-8cda-46c3-9184-971e67da2e41",
   "metadata": {},
   "outputs": [],
   "source": []
  },
  {
   "cell_type": "code",
   "execution_count": null,
   "id": "88bf286c-7edd-4ce6-a397-b73ea1543e6e",
   "metadata": {},
   "outputs": [],
   "source": []
  },
  {
   "cell_type": "markdown",
   "id": "22379c9f-390f-4e3c-80b6-6c11b558d15a",
   "metadata": {},
   "source": [
    "\n",
    "#### PROJECT\n",
    "Build a loan application system for a Bank in Nigeria that either approves or declines a loan application based on some data about the applicant. The bank only wants to approve any loan application, if the applicant is employed, and their salary is greater than 500,000 naira.\n"
   ]
  },
  {
   "cell_type": "code",
   "execution_count": 16,
   "id": "1569a091-1fbc-43d7-be8f-3c7f314033c4",
   "metadata": {},
   "outputs": [],
   "source": [
    "import time"
   ]
  },
  {
   "cell_type": "code",
   "execution_count": 3,
   "id": "449fb294-1e25-4bf8-9744-d17bc0123851",
   "metadata": {},
   "outputs": [
    {
     "name": "stdin",
     "output_type": "stream",
     "text": [
      "Enter your full name:  Ojo Oluwayinka\n",
      "Are you currently employed? (yes or no)  yes\n",
      "enter your annual salary:  600000\n"
     ]
    },
    {
     "name": "stdout",
     "output_type": "stream",
     "text": [
      "Please wait while we confirm eligibility for the loan application\n",
      "congratulations Ojo Oluwayinka, your loan has been approved!!!.\n"
     ]
    }
   ],
   "source": [
    "import time\n",
    "cust_name = input(\"Enter your full name: \")\n",
    "is_employed = bool(input(\"Are you currently employed? (yes or no) \").lower())\n",
    "\n",
    "salary = float(input(\"enter your annual salary: \"))\n",
    "\n",
    "salary_threshold = 500000\n",
    "print(\"Please wait while we confirm eligibility for the loan application\")\n",
    "\n",
    "time.sleep(3)\n",
    "\n",
    "if is_employed == True and salary > salary_threshold :\n",
    "    print(f\"congratulations {cust_name}, your loan has been approved!!!.\")\n",
    "else:\n",
    "    print(f\"We are sorry {cust_name}, your loan was not approved. you do not meet the requirements.\")\n",
    "          \n"
   ]
  },
  {
   "cell_type": "code",
   "execution_count": null,
   "id": "2bfc5d7d-429d-4d07-9157-65dc879e713d",
   "metadata": {},
   "outputs": [],
   "source": []
  }
 ],
 "metadata": {
  "kernelspec": {
   "display_name": "Python 3 (ipykernel)",
   "language": "python",
   "name": "python3"
  },
  "language_info": {
   "codemirror_mode": {
    "name": "ipython",
    "version": 3
   },
   "file_extension": ".py",
   "mimetype": "text/x-python",
   "name": "python",
   "nbconvert_exporter": "python",
   "pygments_lexer": "ipython3",
   "version": "3.12.1"
  }
 },
 "nbformat": 4,
 "nbformat_minor": 5
}
