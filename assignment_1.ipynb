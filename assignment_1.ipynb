{
 "cells": [
  {
   "cell_type": "markdown",
   "id": "b0351380-bbee-4da6-85f9-c5dd891cd85f",
   "metadata": {},
   "source": [
    "#### round 10.67246 to 3 decimal place"
   ]
  },
  {
   "cell_type": "markdown",
   "id": "615a8e4f-31e5-46bc-8837-b1fd8029aea3",
   "metadata": {},
   "source": [
    "Ist approach"
   ]
  },
  {
   "cell_type": "code",
   "execution_count": 1,
   "id": "1cbdd2c7-b0c9-457f-8607-84162472a9e5",
   "metadata": {},
   "outputs": [],
   "source": [
    "yinka = 10.67246"
   ]
  },
  {
   "cell_type": "code",
   "execution_count": 27,
   "id": "3e1b789c-f0f1-48fd-b7c0-a4d6e12845c5",
   "metadata": {},
   "outputs": [],
   "source": [
    "yinka_4_decimal = round(yinka, 4)"
   ]
  },
  {
   "cell_type": "code",
   "execution_count": 31,
   "id": "68b67cba-4ead-4509-9c21-0780aaab1f75",
   "metadata": {},
   "outputs": [
    {
     "name": "stdout",
     "output_type": "stream",
     "text": [
      "10.6725\n"
     ]
    }
   ],
   "source": [
    "print(yinka_4_decimal)"
   ]
  },
  {
   "cell_type": "code",
   "execution_count": 32,
   "id": "910c1202-870e-4e02-987e-2a2c9fa5c017",
   "metadata": {},
   "outputs": [],
   "source": [
    "yinka_3_decimal = round(yinka, 3)"
   ]
  },
  {
   "cell_type": "code",
   "execution_count": 33,
   "id": "b99fde57-c781-4aee-9d34-ca081ccf231c",
   "metadata": {},
   "outputs": [
    {
     "name": "stdout",
     "output_type": "stream",
     "text": [
      "10.672\n"
     ]
    }
   ],
   "source": [
    "print(yinka_3_decimal)"
   ]
  },
  {
   "cell_type": "code",
   "execution_count": 34,
   "id": "5935a184-2e84-4ac5-a5ee-3ead54337c5e",
   "metadata": {},
   "outputs": [
    {
     "name": "stdout",
     "output_type": "stream",
     "text": [
      "<class 'float'>\n"
     ]
    }
   ],
   "source": [
    "print(type(yinka_3_decimal))"
   ]
  },
  {
   "cell_type": "markdown",
   "id": "0965594d-bd46-4ef5-b88c-222d8ec02d36",
   "metadata": {},
   "source": [
    "2nd approach"
   ]
  },
  {
   "cell_type": "code",
   "execution_count": 35,
   "id": "3bc920be-c7e0-44a0-9a1a-7a8ccd5b3a24",
   "metadata": {},
   "outputs": [],
   "source": [
    "yinka = 10.67246"
   ]
  },
  {
   "cell_type": "code",
   "execution_count": 36,
   "id": "c78ab37e-c85c-45a5-9f68-d15b92a60f01",
   "metadata": {},
   "outputs": [],
   "source": [
    "rounded_yinka_3_decimal = round(yinka, 3)"
   ]
  },
  {
   "cell_type": "code",
   "execution_count": 37,
   "id": "e483557c-10cb-4d93-8d78-ccf1a8788529",
   "metadata": {},
   "outputs": [
    {
     "name": "stdout",
     "output_type": "stream",
     "text": [
      "10.672\n"
     ]
    }
   ],
   "source": [
    "print(rounded_yinka_3_decimal)"
   ]
  },
  {
   "cell_type": "code",
   "execution_count": 38,
   "id": "517b4d10-e4c7-4833-a4c7-097ee823bddf",
   "metadata": {},
   "outputs": [
    {
     "name": "stdout",
     "output_type": "stream",
     "text": [
      "<class 'float'>\n"
     ]
    }
   ],
   "source": [
    "print(type(rounded_yinka_3_decimal))"
   ]
  },
  {
   "cell_type": "code",
   "execution_count": null,
   "id": "b6323cf9-0b14-4fff-8974-c65eb56b158b",
   "metadata": {},
   "outputs": [],
   "source": []
  },
  {
   "cell_type": "markdown",
   "id": "e6dbea83-e7ad-44af-a287-12bfcf5523bb",
   "metadata": {},
   "source": [
    "#### convert string \"4.6\" to and integer "
   ]
  },
  {
   "cell_type": "code",
   "execution_count": 14,
   "id": "c5cf9bf2-a6a8-4028-af58-853846ed16bc",
   "metadata": {},
   "outputs": [],
   "source": [
    "lenght = \"4.6\""
   ]
  },
  {
   "cell_type": "code",
   "execution_count": 8,
   "id": "138c6201-4b26-4b1d-a66f-77bb69fae67b",
   "metadata": {},
   "outputs": [
    {
     "name": "stdout",
     "output_type": "stream",
     "text": [
      "4.6\n"
     ]
    }
   ],
   "source": [
    "print(lenght)"
   ]
  },
  {
   "cell_type": "code",
   "execution_count": 10,
   "id": "58bc6fc6-c0a1-42c6-b9cc-12fe2647f800",
   "metadata": {},
   "outputs": [
    {
     "name": "stdout",
     "output_type": "stream",
     "text": [
      "<class 'str'>\n"
     ]
    }
   ],
   "source": [
    "print(type(lenght))"
   ]
  },
  {
   "cell_type": "code",
   "execution_count": 12,
   "id": "7edcab67-3c19-408e-8b7b-e6b0a55934dc",
   "metadata": {},
   "outputs": [],
   "source": [
    "new_lenght = float(lenght)"
   ]
  },
  {
   "cell_type": "code",
   "execution_count": 13,
   "id": "1e56bdd5-1c70-479c-9ca8-249f96f799a0",
   "metadata": {},
   "outputs": [
    {
     "name": "stdout",
     "output_type": "stream",
     "text": [
      "4.6\n"
     ]
    }
   ],
   "source": [
    "print(new_lenght)"
   ]
  },
  {
   "cell_type": "code",
   "execution_count": 18,
   "id": "dd67b6e8-a2d4-439b-b669-232ad7c63564",
   "metadata": {},
   "outputs": [
    {
     "name": "stdout",
     "output_type": "stream",
     "text": [
      "<class 'float'>\n"
     ]
    }
   ],
   "source": [
    "print(type(new_lenght))"
   ]
  },
  {
   "cell_type": "code",
   "execution_count": 22,
   "id": "3c986e51-429f-47a6-a757-2944d000e798",
   "metadata": {},
   "outputs": [],
   "source": [
    "change_new_lenght = round(new_lenght)"
   ]
  },
  {
   "cell_type": "code",
   "execution_count": 23,
   "id": "fd97959c-517f-483b-9260-c1ec56410c0e",
   "metadata": {},
   "outputs": [
    {
     "name": "stdout",
     "output_type": "stream",
     "text": [
      "5\n"
     ]
    }
   ],
   "source": [
    "print(change_new_lenght)"
   ]
  },
  {
   "cell_type": "code",
   "execution_count": 24,
   "id": "340d9e28-f1b9-40c5-b285-1ff98a123ffa",
   "metadata": {},
   "outputs": [
    {
     "name": "stdout",
     "output_type": "stream",
     "text": [
      "<class 'int'>\n"
     ]
    }
   ],
   "source": [
    "print(type(change_new_lenght))"
   ]
  },
  {
   "cell_type": "code",
   "execution_count": null,
   "id": "2dc80b86-fa5f-4b71-9f23-b71fb1825f14",
   "metadata": {},
   "outputs": [],
   "source": []
  }
 ],
 "metadata": {
  "kernelspec": {
   "display_name": "Python 3 (ipykernel)",
   "language": "python",
   "name": "python3"
  },
  "language_info": {
   "codemirror_mode": {
    "name": "ipython",
    "version": 3
   },
   "file_extension": ".py",
   "mimetype": "text/x-python",
   "name": "python",
   "nbconvert_exporter": "python",
   "pygments_lexer": "ipython3",
   "version": "3.12.1"
  }
 },
 "nbformat": 4,
 "nbformat_minor": 5
}
