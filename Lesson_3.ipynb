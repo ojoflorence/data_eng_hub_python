{
 "cells": [
  {
   "cell_type": "markdown",
   "id": "bf1ac316-e9c6-4c9b-acef-dba7d7b15734",
   "metadata": {},
   "source": [
    "#### CONTROL FLOW"
   ]
  },
  {
   "cell_type": "markdown",
   "id": "47a744d1-1419-4a71-849e-ab5e0fc26def",
   "metadata": {},
   "source": [
    "#### conditional statements"
   ]
  },
  {
   "cell_type": "code",
   "execution_count": 1,
   "id": "868a3980-9478-40a2-8e32-94e0efaf8b65",
   "metadata": {},
   "outputs": [
    {
     "name": "stdout",
     "output_type": "stream",
     "text": [
      "True\n"
     ]
    }
   ],
   "source": [
    "print(\"a\" == \"a\") # equality sign"
   ]
  },
  {
   "cell_type": "code",
   "execution_count": 2,
   "id": "e0759ce3-4495-42fe-bfbc-50a112cfee7d",
   "metadata": {},
   "outputs": [
    {
     "name": "stdout",
     "output_type": "stream",
     "text": [
      "True\n"
     ]
    }
   ],
   "source": [
    "print(5 != 3)  #not equal"
   ]
  },
  {
   "cell_type": "code",
   "execution_count": 3,
   "id": "a7097e81-9cd7-43f4-af31-5ffffe824d2c",
   "metadata": {},
   "outputs": [
    {
     "name": "stdout",
     "output_type": "stream",
     "text": [
      "False\n"
     ]
    }
   ],
   "source": [
    "print(4 > 8) # greater than"
   ]
  },
  {
   "cell_type": "code",
   "execution_count": 4,
   "id": "d8061878-8e60-498b-8245-059a12541b6f",
   "metadata": {},
   "outputs": [
    {
     "name": "stdout",
     "output_type": "stream",
     "text": [
      "True\n"
     ]
    }
   ],
   "source": [
    "print(20 <= 20) # less or equal to"
   ]
  },
  {
   "cell_type": "code",
   "execution_count": 5,
   "id": "39ecceb7-a83e-4094-8c90-c7cb94973378",
   "metadata": {},
   "outputs": [
    {
     "name": "stdout",
     "output_type": "stream",
     "text": [
      "False\n"
     ]
    }
   ],
   "source": [
    "print(25 >= 100) "
   ]
  },
  {
   "cell_type": "markdown",
   "id": "3a08ba74-3cd0-4a06-9fc5-aacbc63bf1b9",
   "metadata": {},
   "source": [
    "#### Logical Operators"
   ]
  },
  {
   "cell_type": "markdown",
   "id": "659b2177-26f3-4f3c-bb8e-9a3b53456832",
   "metadata": {},
   "source": [
    "- and\n",
    "- or"
   ]
  },
  {
   "cell_type": "code",
   "execution_count": 9,
   "id": "2ba12eb1-511a-41de-8c55-1e68822df888",
   "metadata": {},
   "outputs": [
    {
     "name": "stdout",
     "output_type": "stream",
     "text": [
      "True\n"
     ]
    }
   ],
   "source": [
    "print(2 > 5 or 10 == 10) # either of the conditions needs to be True to get overall True"
   ]
  },
  {
   "cell_type": "code",
   "execution_count": 10,
   "id": "c988dc3b-cb9e-4eb1-9b4b-8bc639c1f0ab",
   "metadata": {},
   "outputs": [
    {
     "name": "stdout",
     "output_type": "stream",
     "text": [
      "True\n"
     ]
    }
   ],
   "source": [
    "print(10 > 3 or 6 < 10)"
   ]
  },
  {
   "cell_type": "code",
   "execution_count": 11,
   "id": "14c44a9d-7cab-4d11-83f8-eded49641388",
   "metadata": {},
   "outputs": [
    {
     "name": "stdout",
     "output_type": "stream",
     "text": [
      "True\n"
     ]
    }
   ],
   "source": [
    "print(10 < 100 and 6 < 10)"
   ]
  },
  {
   "cell_type": "code",
   "execution_count": 13,
   "id": "bf3ad3a6-fd4e-4de8-8404-5f907d3b1444",
   "metadata": {},
   "outputs": [
    {
     "name": "stdout",
     "output_type": "stream",
     "text": [
      "True\n"
     ]
    }
   ],
   "source": [
    "print(10 >= 3 and 10 <= 10) # both condition must be correct to make the answer True"
   ]
  },
  {
   "cell_type": "markdown",
   "id": "1c63b4a4-fd33-49b0-b036-5bc41564b45f",
   "metadata": {},
   "source": [
    "## IF and ELSE statements"
   ]
  },
  {
   "cell_type": "code",
   "execution_count": null,
   "id": "65159d30-10da-473d-8f70-a98e3f455d34",
   "metadata": {},
   "outputs": [],
   "source": [
    "if # condition to check:\n",
    "    # action to perform"
   ]
  },
  {
   "cell_type": "code",
   "execution_count": 23,
   "id": "d77832e9-5b0b-4ea5-b86e-a3a044463899",
   "metadata": {},
   "outputs": [],
   "source": [
    "student_complete_assignment = False"
   ]
  },
  {
   "cell_type": "code",
   "execution_count": 21,
   "id": "03705831-8e6d-46be-ae71-eefb1a745c80",
   "metadata": {},
   "outputs": [
    {
     "name": "stdout",
     "output_type": "stream",
     "text": [
      "you are eligible to be in the next class\n"
     ]
    }
   ],
   "source": [
    "if student_complete_assignment == True:\n",
    "    print(\"you are eligible to be in the next class\")\n",
    "    "
   ]
  },
  {
   "cell_type": "code",
   "execution_count": 24,
   "id": "36924c3a-bdef-47d3-a303-2247f733fd08",
   "metadata": {},
   "outputs": [
    {
     "name": "stdout",
     "output_type": "stream",
     "text": [
      "you are not eligible to be in the next class\n"
     ]
    }
   ],
   "source": [
    "if student_complete_assignment == True:\n",
    "    print(\"you are eligible to be in the next class\")\n",
    "else:\n",
    "    print(\"you are not eligible to be in the next class\")"
   ]
  },
  {
   "cell_type": "code",
   "execution_count": 25,
   "id": "15798ff0-16a7-4682-8afb-0ee3f3b45e06",
   "metadata": {},
   "outputs": [],
   "source": [
    "number = 10"
   ]
  },
  {
   "cell_type": "code",
   "execution_count": 28,
   "id": "c601e9fc-168e-4aa2-bc75-9b725e6934ae",
   "metadata": {},
   "outputs": [
    {
     "name": "stdout",
     "output_type": "stream",
     "text": [
      "That is too expensive\n"
     ]
    }
   ],
   "source": [
    "if number >= 10:\n",
    "    print(\"That is too expensive\")\n",
    "else:\n",
    "    print(\"That's cheap\")"
   ]
  },
  {
   "cell_type": "code",
   "execution_count": 31,
   "id": "0bb4f3c0-0533-4c6b-89bd-bf5dafabe031",
   "metadata": {},
   "outputs": [],
   "source": [
    "amanda_age = 15"
   ]
  },
  {
   "cell_type": "code",
   "execution_count": 32,
   "id": "5a47dab3-177f-442b-9a1e-0cbf78f349d6",
   "metadata": {},
   "outputs": [],
   "source": [
    "yinka_age = 15"
   ]
  },
  {
   "cell_type": "code",
   "execution_count": 35,
   "id": "3d371160-c81a-4bc5-bb20-ab606afcc301",
   "metadata": {},
   "outputs": [
    {
     "name": "stdout",
     "output_type": "stream",
     "text": [
      "They are of the same age\n"
     ]
    }
   ],
   "source": [
    "if amanda_age > yinka_age:\n",
    "    print(\"amanda is older than yinka\")\n",
    "elif amanda_age == yinka_age:\n",
    "    print(\"They are of the same age\")\n",
    "else:\n",
    "    print(\"yinka is older than amanda\")"
   ]
  },
  {
   "cell_type": "code",
   "execution_count": 37,
   "id": "24f6d004-f28b-4b9d-8632-5a27b515fd52",
   "metadata": {},
   "outputs": [
    {
     "name": "stdout",
     "output_type": "stream",
     "text": [
      "welcome to this movie website,\n",
      "please this movie contain some abusive language,\n",
      "you need to be older than 18, please parental guide is advised.\n"
     ]
    },
    {
     "name": "stdin",
     "output_type": "stream",
     "text": [
      "How old are you:  20\n"
     ]
    },
    {
     "name": "stdout",
     "output_type": "stream",
     "text": [
      "checking customer age for eligibility, hold on a sec\n"
     ]
    },
    {
     "ename": "TypeError",
     "evalue": "'>=' not supported between instances of 'str' and 'int'",
     "output_type": "error",
     "traceback": [
      "\u001b[0;31m---------------------------------------------------------------------------\u001b[0m",
      "\u001b[0;31mTypeError\u001b[0m                                 Traceback (most recent call last)",
      "Cell \u001b[0;32mIn[37], line 9\u001b[0m\n\u001b[1;32m      5\u001b[0m customer_age \u001b[38;5;241m=\u001b[39m \u001b[38;5;28minput\u001b[39m(\u001b[38;5;124m\"\u001b[39m\u001b[38;5;124mHow old are you: \u001b[39m\u001b[38;5;124m\"\u001b[39m)\n\u001b[1;32m      7\u001b[0m \u001b[38;5;28mprint\u001b[39m(\u001b[38;5;124m\"\u001b[39m\u001b[38;5;124mchecking customer age for eligibility, hold on a sec\u001b[39m\u001b[38;5;124m\"\u001b[39m)\n\u001b[0;32m----> 9\u001b[0m \u001b[38;5;28;01mif\u001b[39;00m \u001b[43mcustomer_age\u001b[49m\u001b[43m \u001b[49m\u001b[38;5;241;43m>\u001b[39;49m\u001b[38;5;241;43m=\u001b[39;49m\u001b[43m \u001b[49m\u001b[38;5;241;43m18\u001b[39;49m:\n\u001b[1;32m     10\u001b[0m     \u001b[38;5;28mprint\u001b[39m(\u001b[38;5;124m\"\u001b[39m\u001b[38;5;124mwelcome, you are eligible to watch this movie\u001b[39m\u001b[38;5;124m\"\u001b[39m)\n\u001b[1;32m     11\u001b[0m \u001b[38;5;28;01melse\u001b[39;00m:\n",
      "\u001b[0;31mTypeError\u001b[0m: '>=' not supported between instances of 'str' and 'int'"
     ]
    }
   ],
   "source": [
    "print(\"\"\"welcome to this movie website,\n",
    "please this movie contain some abusive language,\n",
    "you need to be older than 18, please parental guide is advised.\"\"\")\n",
    "\n",
    "customer_age = input(\"How old are you: \")\n",
    "\n",
    "print(\"checking customer age for eligibility, hold on a sec\")\n",
    "\n",
    "if customer_age >= 18:\n",
    "    print(\"welcome, you are eligible to watch this movie\")\n",
    "else:\n",
    "    print(\"please, you are to young to watch this movie\")\n"
   ]
  },
  {
   "cell_type": "code",
   "execution_count": 38,
   "id": "638773f4-388b-47ac-bc73-fed0490c68eb",
   "metadata": {},
   "outputs": [
    {
     "name": "stdout",
     "output_type": "stream",
     "text": [
      "welcome to this movie website,\n",
      "please this movie contain some abusive language,\n",
      "you need to be older than 18, please parental guide is advised.\n"
     ]
    },
    {
     "name": "stdin",
     "output_type": "stream",
     "text": [
      "How old are you:  20\n"
     ]
    },
    {
     "name": "stdout",
     "output_type": "stream",
     "text": [
      "checking customer age for eligibility, hold on a sec\n",
      "welcome, you are eligible to watch this movie\n"
     ]
    }
   ],
   "source": [
    "print(\"\"\"welcome to this movie website,\n",
    "please this movie contain some abusive language,\n",
    "you need to be older than 18, please parental guide is advised.\"\"\")\n",
    "\n",
    "customer_age = int(input(\"How old are you: \"))\n",
    "\n",
    "print(\"checking customer age for eligibility, hold on a sec\")\n",
    "\n",
    "if customer_age >= 18:\n",
    "    print(\"welcome, you are eligible to watch this movie\")\n",
    "else:\n",
    "    print(\"please, you are to young to watch this movie\")\n"
   ]
  },
  {
   "cell_type": "code",
   "execution_count": null,
   "id": "98bd75c6-4bf0-4c97-9101-15f96fcd9354",
   "metadata": {},
   "outputs": [],
   "source": []
  },
  {
   "cell_type": "markdown",
   "id": "0afa9d81-620f-4dbb-a444-9495f2cb5272",
   "metadata": {},
   "source": [
    "## GUESSING GAME SYSTEM"
   ]
  },
  {
   "cell_type": "code",
   "execution_count": 4,
   "id": "a970899c-b643-4a4c-9d26-5cd6254c7614",
   "metadata": {},
   "outputs": [
    {
     "name": "stdin",
     "output_type": "stream",
     "text": [
      "what is your name:  yinka\n",
      "Please provide your magic number:  66\n"
     ]
    },
    {
     "name": "stdout",
     "output_type": "stream",
     "text": [
      " Please Wait and see if you have the lucky number\n",
      "Hooray, yinka just won a jackpot!!!\n"
     ]
    }
   ],
   "source": [
    "import time\n",
    "import random\n",
    "\n",
    "actual_magic_number = 66\n",
    "\n",
    "first_name = input (\"what is your name: \")\n",
    "\n",
    "user_magic_number = int(input(\"Please provide your magic number: \"))\n",
    "\n",
    "print(\" Please Wait and see if you have the lucky number\")\n",
    "\n",
    "if user_magic_number == actual_magic_number:\n",
    "    print(f\"Hooray, {first_name} just won a jackpot!!!\")\n",
    "else:\n",
    "    print(f\"Oops, wrong magic number {first_name}, Try again later\")"
   ]
  },
  {
   "cell_type": "code",
   "execution_count": 10,
   "id": "e01e31b9-cb40-4028-91be-c6412d4c053a",
   "metadata": {},
   "outputs": [],
   "source": [
    "import random"
   ]
  },
  {
   "cell_type": "code",
   "execution_count": 7,
   "id": "71e94443-0ffc-474d-abff-8ebaffdd2ade",
   "metadata": {},
   "outputs": [
    {
     "name": "stdout",
     "output_type": "stream",
     "text": [
      "7\n"
     ]
    }
   ],
   "source": [
    "print(random.randint(5, 8)) #this is to generate random numbers between 5 and 8"
   ]
  },
  {
   "cell_type": "code",
   "execution_count": 11,
   "id": "1e75bb9c-d198-4198-b221-cf0a13ca34c0",
   "metadata": {},
   "outputs": [],
   "source": [
    "import time"
   ]
  },
  {
   "cell_type": "code",
   "execution_count": 12,
   "id": "79a6d7ec-ed98-4e5c-b856-96709d3f644a",
   "metadata": {},
   "outputs": [
    {
     "name": "stdin",
     "output_type": "stream",
     "text": [
      "what is your name:  yinka\n",
      "Please provide your magic number:  9\n"
     ]
    },
    {
     "name": "stdout",
     "output_type": "stream",
     "text": [
      " Please Wait and see if you have the lucky number\n",
      "Oops, wrong magic number yinka, the correct magic number is 5\n"
     ]
    }
   ],
   "source": [
    "actual_magic_number = random.randint(1, 100)\n",
    "\n",
    "first_name = input (\"what is your name: \")\n",
    "\n",
    "user_magic_number = int(input(\"Please provide your magic number: \"))\n",
    "\n",
    "print(\" Please Wait and see if you have the lucky number\")\n",
    "\n",
    "time.sleep(3)\n",
    "\n",
    "if user_magic_number == actual_magic_number:\n",
    "    print(f\"Congratulations {first_name}, the magic number is {actual_magic_number}, just won a jackpot!!!\")\n",
    "else:\n",
    "    print(f\"Oops, wrong magic number {first_name}, the correct magic number is {actual_magic_number}\")"
   ]
  },
  {
   "cell_type": "code",
   "execution_count": null,
   "id": "0f23ba22-2648-4276-9368-feea9520a5ae",
   "metadata": {},
   "outputs": [],
   "source": []
  }
 ],
 "metadata": {
  "kernelspec": {
   "display_name": "Python 3 (ipykernel)",
   "language": "python",
   "name": "python3"
  },
  "language_info": {
   "codemirror_mode": {
    "name": "ipython",
    "version": 3
   },
   "file_extension": ".py",
   "mimetype": "text/x-python",
   "name": "python",
   "nbconvert_exporter": "python",
   "pygments_lexer": "ipython3",
   "version": "3.12.1"
  }
 },
 "nbformat": 4,
 "nbformat_minor": 5
}
