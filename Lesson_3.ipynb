{
 "cells": [
  {
   "cell_type": "markdown",
   "id": "bf1ac316-e9c6-4c9b-acef-dba7d7b15734",
   "metadata": {},
   "source": [
    "#### CONTROL FLOW"
   ]
  },
  {
   "cell_type": "markdown",
   "id": "47a744d1-1419-4a71-849e-ab5e0fc26def",
   "metadata": {},
   "source": [
    "#### conditional statements"
   ]
  },
  {
   "cell_type": "code",
   "execution_count": 1,
   "id": "868a3980-9478-40a2-8e32-94e0efaf8b65",
   "metadata": {},
   "outputs": [
    {
     "name": "stdout",
     "output_type": "stream",
     "text": [
      "True\n"
     ]
    }
   ],
   "source": [
    "print(\"a\" == \"a\") # equality sign"
   ]
  },
  {
   "cell_type": "code",
   "execution_count": 2,
   "id": "e0759ce3-4495-42fe-bfbc-50a112cfee7d",
   "metadata": {},
   "outputs": [
    {
     "name": "stdout",
     "output_type": "stream",
     "text": [
      "True\n"
     ]
    }
   ],
   "source": [
    "print(5 != 3)  #not equal"
   ]
  },
  {
   "cell_type": "code",
   "execution_count": 3,
   "id": "a7097e81-9cd7-43f4-af31-5ffffe824d2c",
   "metadata": {},
   "outputs": [
    {
     "name": "stdout",
     "output_type": "stream",
     "text": [
      "False\n"
     ]
    }
   ],
   "source": [
    "print(4 > 8) # greater than"
   ]
  },
  {
   "cell_type": "code",
   "execution_count": 4,
   "id": "d8061878-8e60-498b-8245-059a12541b6f",
   "metadata": {},
   "outputs": [
    {
     "name": "stdout",
     "output_type": "stream",
     "text": [
      "True\n"
     ]
    }
   ],
   "source": [
    "print(20 <= 20) # less or equal to"
   ]
  },
  {
   "cell_type": "code",
   "execution_count": 5,
   "id": "39ecceb7-a83e-4094-8c90-c7cb94973378",
   "metadata": {},
   "outputs": [
    {
     "name": "stdout",
     "output_type": "stream",
     "text": [
      "False\n"
     ]
    }
   ],
   "source": [
    "print(25 >= 100) "
   ]
  },
  {
   "cell_type": "markdown",
   "id": "3a08ba74-3cd0-4a06-9fc5-aacbc63bf1b9",
   "metadata": {},
   "source": [
    "#### Logical Operators"
   ]
  },
  {
   "cell_type": "markdown",
   "id": "659b2177-26f3-4f3c-bb8e-9a3b53456832",
   "metadata": {},
   "source": [
    "- and\n",
    "- or"
   ]
  },
  {
   "cell_type": "code",
   "execution_count": 9,
   "id": "2ba12eb1-511a-41de-8c55-1e68822df888",
   "metadata": {},
   "outputs": [
    {
     "name": "stdout",
     "output_type": "stream",
     "text": [
      "True\n"
     ]
    }
   ],
   "source": [
    "print(2 > 5 or 10 == 10) # either of the conditions needs to be True to get overall True"
   ]
  },
  {
   "cell_type": "code",
   "execution_count": 10,
   "id": "c988dc3b-cb9e-4eb1-9b4b-8bc639c1f0ab",
   "metadata": {},
   "outputs": [
    {
     "name": "stdout",
     "output_type": "stream",
     "text": [
      "True\n"
     ]
    }
   ],
   "source": [
    "print(10 > 3 or 6 < 10)"
   ]
  },
  {
   "cell_type": "code",
   "execution_count": 11,
   "id": "14c44a9d-7cab-4d11-83f8-eded49641388",
   "metadata": {},
   "outputs": [
    {
     "name": "stdout",
     "output_type": "stream",
     "text": [
      "True\n"
     ]
    }
   ],
   "source": [
    "print(10 < 100 and 6 < 10)"
   ]
  },
  {
   "cell_type": "code",
   "execution_count": 13,
   "id": "bf3ad3a6-fd4e-4de8-8404-5f907d3b1444",
   "metadata": {},
   "outputs": [
    {
     "name": "stdout",
     "output_type": "stream",
     "text": [
      "True\n"
     ]
    }
   ],
   "source": [
    "print(10 >= 3 and 10 <= 10) # both condition must be correct to make the answer True"
   ]
  },
  {
   "cell_type": "markdown",
   "id": "1c63b4a4-fd33-49b0-b036-5bc41564b45f",
   "metadata": {},
   "source": [
    "## IF and ELSE statements"
   ]
  },
  {
   "cell_type": "code",
   "execution_count": 5,
   "id": "65159d30-10da-473d-8f70-a98e3f455d34",
   "metadata": {},
   "outputs": [
    {
     "ename": "SyntaxError",
     "evalue": "invalid syntax (2797015889.py, line 1)",
     "output_type": "error",
     "traceback": [
      "\u001b[0;36m  Cell \u001b[0;32mIn[5], line 1\u001b[0;36m\u001b[0m\n\u001b[0;31m    if #condition to check:\u001b[0m\n\u001b[0m       ^\u001b[0m\n\u001b[0;31mSyntaxError\u001b[0m\u001b[0;31m:\u001b[0m invalid syntax\n"
     ]
    }
   ],
   "source": [
    "if #condition to check:\n",
    "    else:\n",
    "    #condition to perform"
   ]
  },
  {
   "cell_type": "code",
   "execution_count": 23,
   "id": "d77832e9-5b0b-4ea5-b86e-a3a044463899",
   "metadata": {},
   "outputs": [],
   "source": [
    "student_complete_assignment = False"
   ]
  },
  {
   "cell_type": "code",
   "execution_count": 21,
   "id": "03705831-8e6d-46be-ae71-eefb1a745c80",
   "metadata": {},
   "outputs": [
    {
     "name": "stdout",
     "output_type": "stream",
     "text": [
      "you are eligible to be in the next class\n"
     ]
    }
   ],
   "source": [
    "if student_complete_assignment == True:\n",
    "    print(\"you are eligible to be in the next class\")\n",
    "    "
   ]
  },
  {
   "cell_type": "code",
   "execution_count": 24,
   "id": "36924c3a-bdef-47d3-a303-2247f733fd08",
   "metadata": {},
   "outputs": [
    {
     "name": "stdout",
     "output_type": "stream",
     "text": [
      "you are not eligible to be in the next class\n"
     ]
    }
   ],
   "source": [
    "if student_complete_assignment == True:\n",
    "    print(\"you are eligible to be in the next class\")\n",
    "else:\n",
    "    print(\"you are not eligible to be in the next class\")"
   ]
  },
  {
   "cell_type": "code",
   "execution_count": 25,
   "id": "15798ff0-16a7-4682-8afb-0ee3f3b45e06",
   "metadata": {},
   "outputs": [],
   "source": [
    "number = 10"
   ]
  },
  {
   "cell_type": "code",
   "execution_count": 28,
   "id": "c601e9fc-168e-4aa2-bc75-9b725e6934ae",
   "metadata": {},
   "outputs": [
    {
     "name": "stdout",
     "output_type": "stream",
     "text": [
      "That is too expensive\n"
     ]
    }
   ],
   "source": [
    "if number >= 10:\n",
    "    print(\"That is too expensive\")\n",
    "else:\n",
    "    print(\"That's cheap\")"
   ]
  },
  {
   "cell_type": "code",
   "execution_count": 31,
   "id": "0bb4f3c0-0533-4c6b-89bd-bf5dafabe031",
   "metadata": {},
   "outputs": [],
   "source": [
    "amanda_age = 15"
   ]
  },
  {
   "cell_type": "code",
   "execution_count": 32,
   "id": "5a47dab3-177f-442b-9a1e-0cbf78f349d6",
   "metadata": {},
   "outputs": [],
   "source": [
    "yinka_age = 15"
   ]
  },
  {
   "cell_type": "code",
   "execution_count": 35,
   "id": "3d371160-c81a-4bc5-bb20-ab606afcc301",
   "metadata": {},
   "outputs": [
    {
     "name": "stdout",
     "output_type": "stream",
     "text": [
      "They are of the same age\n"
     ]
    }
   ],
   "source": [
    "if amanda_age > yinka_age:\n",
    "    print(\"amanda is older than yinka\")\n",
    "elif amanda_age == yinka_age:\n",
    "    print(\"They are of the same age\")\n",
    "else:\n",
    "    print(\"yinka is older than amanda\")"
   ]
  },
  {
   "cell_type": "code",
   "execution_count": 37,
   "id": "24f6d004-f28b-4b9d-8632-5a27b515fd52",
   "metadata": {},
   "outputs": [
    {
     "name": "stdout",
     "output_type": "stream",
     "text": [
      "welcome to this movie website,\n",
      "please this movie contain some abusive language,\n",
      "you need to be older than 18, please parental guide is advised.\n"
     ]
    },
    {
     "name": "stdin",
     "output_type": "stream",
     "text": [
      "How old are you:  20\n"
     ]
    },
    {
     "name": "stdout",
     "output_type": "stream",
     "text": [
      "checking customer age for eligibility, hold on a sec\n"
     ]
    },
    {
     "ename": "TypeError",
     "evalue": "'>=' not supported between instances of 'str' and 'int'",
     "output_type": "error",
     "traceback": [
      "\u001b[0;31m---------------------------------------------------------------------------\u001b[0m",
      "\u001b[0;31mTypeError\u001b[0m                                 Traceback (most recent call last)",
      "Cell \u001b[0;32mIn[37], line 9\u001b[0m\n\u001b[1;32m      5\u001b[0m customer_age \u001b[38;5;241m=\u001b[39m \u001b[38;5;28minput\u001b[39m(\u001b[38;5;124m\"\u001b[39m\u001b[38;5;124mHow old are you: \u001b[39m\u001b[38;5;124m\"\u001b[39m)\n\u001b[1;32m      7\u001b[0m \u001b[38;5;28mprint\u001b[39m(\u001b[38;5;124m\"\u001b[39m\u001b[38;5;124mchecking customer age for eligibility, hold on a sec\u001b[39m\u001b[38;5;124m\"\u001b[39m)\n\u001b[0;32m----> 9\u001b[0m \u001b[38;5;28;01mif\u001b[39;00m \u001b[43mcustomer_age\u001b[49m\u001b[43m \u001b[49m\u001b[38;5;241;43m>\u001b[39;49m\u001b[38;5;241;43m=\u001b[39;49m\u001b[43m \u001b[49m\u001b[38;5;241;43m18\u001b[39;49m:\n\u001b[1;32m     10\u001b[0m     \u001b[38;5;28mprint\u001b[39m(\u001b[38;5;124m\"\u001b[39m\u001b[38;5;124mwelcome, you are eligible to watch this movie\u001b[39m\u001b[38;5;124m\"\u001b[39m)\n\u001b[1;32m     11\u001b[0m \u001b[38;5;28;01melse\u001b[39;00m:\n",
      "\u001b[0;31mTypeError\u001b[0m: '>=' not supported between instances of 'str' and 'int'"
     ]
    }
   ],
   "source": [
    "print(\"\"\"welcome to this movie website,\n",
    "please this movie contain some abusive language,\n",
    "you need to be older than 18, please parental guide is advised.\"\"\")\n",
    "\n",
    "customer_age = input(\"How old are you: \")\n",
    "\n",
    "print(\"checking customer age for eligibility, hold on a sec\")\n",
    "\n",
    "if customer_age >= 18:\n",
    "    print(\"welcome, you are eligible to watch this movie\")\n",
    "else:\n",
    "    print(\"please, you are to young to watch this movie\")\n"
   ]
  },
  {
   "cell_type": "code",
   "execution_count": 38,
   "id": "638773f4-388b-47ac-bc73-fed0490c68eb",
   "metadata": {},
   "outputs": [
    {
     "name": "stdout",
     "output_type": "stream",
     "text": [
      "welcome to this movie website,\n",
      "please this movie contain some abusive language,\n",
      "you need to be older than 18, please parental guide is advised.\n"
     ]
    },
    {
     "name": "stdin",
     "output_type": "stream",
     "text": [
      "How old are you:  20\n"
     ]
    },
    {
     "name": "stdout",
     "output_type": "stream",
     "text": [
      "checking customer age for eligibility, hold on a sec\n",
      "welcome, you are eligible to watch this movie\n"
     ]
    }
   ],
   "source": [
    "print(\"\"\"welcome to this movie website,\n",
    "please this movie contain some abusive language,\n",
    "you need to be older than 18, please parental guide is advised.\"\"\")\n",
    "\n",
    "customer_age = int(input(\"How old are you: \"))\n",
    "\n",
    "print(\"checking customer age for eligibility, hold on a sec\")\n",
    "\n",
    "if customer_age >= 18:\n",
    "    print(\"welcome, you are eligible to watch this movie\")\n",
    "else:\n",
    "    print(\"please, you are to young to watch this movie\")\n"
   ]
  },
  {
   "cell_type": "code",
   "execution_count": null,
   "id": "98bd75c6-4bf0-4c97-9101-15f96fcd9354",
   "metadata": {},
   "outputs": [],
   "source": []
  },
  {
   "cell_type": "markdown",
   "id": "0afa9d81-620f-4dbb-a444-9495f2cb5272",
   "metadata": {},
   "source": [
    "## GUESSING GAME SYSTEM"
   ]
  },
  {
   "cell_type": "code",
   "execution_count": 6,
   "id": "a970899c-b643-4a4c-9d26-5cd6254c7614",
   "metadata": {},
   "outputs": [
    {
     "name": "stdin",
     "output_type": "stream",
     "text": [
      "what is your name:  yinka\n",
      "Please provide your magic number:  66\n"
     ]
    },
    {
     "name": "stdout",
     "output_type": "stream",
     "text": [
      " Please Wait and see if you have the lucky number\n",
      "Hooray, yinka just won a jackpot!!!\n"
     ]
    }
   ],
   "source": [
    "import time\n",
    "import random\n",
    "\n",
    "actual_magic_number = 66\n",
    "\n",
    "first_name = input (\"what is your name: \")\n",
    "\n",
    "user_magic_number = int(input(\"Please provide your magic number: \"))\n",
    "\n",
    "print(\" Please Wait and see if you have the lucky number\")\n",
    "\n",
    "if user_magic_number == actual_magic_number:\n",
    "    print(f\"Hooray, {first_name} just won a jackpot!!!\")\n",
    "else:\n",
    "    print(f\"Oops, wrong magic number {first_name}, Try again later\")"
   ]
  },
  {
   "cell_type": "code",
   "execution_count": 10,
   "id": "e01e31b9-cb40-4028-91be-c6412d4c053a",
   "metadata": {},
   "outputs": [],
   "source": [
    "import random"
   ]
  },
  {
   "cell_type": "code",
   "execution_count": 7,
   "id": "71e94443-0ffc-474d-abff-8ebaffdd2ade",
   "metadata": {},
   "outputs": [
    {
     "name": "stdout",
     "output_type": "stream",
     "text": [
      "7\n"
     ]
    }
   ],
   "source": [
    "print(random.randint(5, 8)) #this is to generate random numbers between 5 and 8"
   ]
  },
  {
   "cell_type": "code",
   "execution_count": 11,
   "id": "1e75bb9c-d198-4198-b221-cf0a13ca34c0",
   "metadata": {},
   "outputs": [],
   "source": [
    "import time"
   ]
  },
  {
   "cell_type": "code",
   "execution_count": 7,
   "id": "79a6d7ec-ed98-4e5c-b856-96709d3f644a",
   "metadata": {},
   "outputs": [
    {
     "name": "stdin",
     "output_type": "stream",
     "text": [
      "what is your name:   yinka\n",
      "Please provide your magic number:  14\n"
     ]
    },
    {
     "name": "stdout",
     "output_type": "stream",
     "text": [
      " Please Wait and see if you have the lucky number\n",
      "Oops, wrong magic number yinka, the correct magic number is 88\n"
     ]
    }
   ],
   "source": [
    "actual_magic_number = random.randint(1, 100)\n",
    "\n",
    "first_name = input (\"what is your name:  \")\n",
    "\n",
    "user_magic_number = int(input(\"Please provide your magic number: \"))\n",
    "\n",
    "print(\" Please Wait and see if you have the lucky number\")\n",
    "\n",
    "time.sleep(3)\n",
    "\n",
    "if user_magic_number == actual_magic_number:\n",
    "    print(f\"Congratulations {first_name}, the magic number is {actual_magic_number}, just won a jackpot!!!\")\n",
    "else:\n",
    "    print(f\"Oops, wrong magic number {first_name}, the correct magic number is {actual_magic_number}\")"
   ]
  },
  {
   "cell_type": "code",
   "execution_count": null,
   "id": "0f23ba22-2648-4276-9368-feea9520a5ae",
   "metadata": {},
   "outputs": [],
   "source": []
  },
  {
   "cell_type": "code",
   "execution_count": 1,
   "id": "092a4a96-f797-4860-a8f7-91dbdd911446",
   "metadata": {},
   "outputs": [],
   "source": [
    "name = \"mayowa\""
   ]
  },
  {
   "cell_type": "code",
   "execution_count": 6,
   "id": "e909bc01-3be9-4eba-98a1-7656e31fd93e",
   "metadata": {},
   "outputs": [
    {
     "name": "stdout",
     "output_type": "stream",
     "text": [
      "The name starts with m\n"
     ]
    }
   ],
   "source": [
    "if name.startswith(\"m\"):\n",
    "    print(\"The name starts with m\")\n",
    "else:\n",
    "    print(\"The name does not starts with m\")"
   ]
  },
  {
   "cell_type": "code",
   "execution_count": 5,
   "id": "743711fe-b5f8-4cd7-92b9-86726ccc8603",
   "metadata": {},
   "outputs": [
    {
     "name": "stdout",
     "output_type": "stream",
     "text": [
      "The name starts with m\n"
     ]
    }
   ],
   "source": [
    "if name[0] == \"m\":\n",
    "    print(\"The name starts with m\")\n",
    "else:\n",
    "    print(\"The name does not start with m\")"
   ]
  },
  {
   "cell_type": "markdown",
   "id": "ce754c68-5bc5-47ee-aaa2-ee8885abcdaa",
   "metadata": {},
   "source": [
    "### Navigation system"
   ]
  },
  {
   "cell_type": "code",
   "execution_count": 7,
   "id": "e60c9baa-14f1-4360-8806-716ddd696570",
   "metadata": {},
   "outputs": [],
   "source": [
    "normal_commute_time = 30\n",
    "\n",
    "is_raining = True\n",
    "\n",
    "is_traffic = True"
   ]
  },
  {
   "cell_type": "markdown",
   "id": "c75143fe-69ea-4f01-acb8-2c8f64a94674",
   "metadata": {},
   "source": [
    "## For loop"
   ]
  },
  {
   "cell_type": "markdown",
   "id": "146c3e6d-5883-44c3-9c79-f075b5b13ad1",
   "metadata": {},
   "source": [
    " This is a concept in python, that allows us to iterate/go-over a sequence like list, tuple, dictionary, string\n",
    "and set."
   ]
  },
  {
   "cell_type": "code",
   "execution_count": 8,
   "id": "70a4d5ac-855c-4753-8edc-5db3a7819564",
   "metadata": {},
   "outputs": [],
   "source": [
    "students = [\"mayowa\", \"amanda\", \"segun\", \"jekwu\", \"yinka\",\"chinyere\", \"joachim\"]"
   ]
  },
  {
   "cell_type": "code",
   "execution_count": 13,
   "id": "bbe70f71-36b4-4790-a2bf-dea6c0f9fc28",
   "metadata": {},
   "outputs": [
    {
     "name": "stdout",
     "output_type": "stream",
     "text": [
      "mayowa\n"
     ]
    }
   ],
   "source": [
    "print(students[0])"
   ]
  },
  {
   "cell_type": "code",
   "execution_count": 14,
   "id": "04928b4b-4144-4091-b5bb-15629ca415a0",
   "metadata": {},
   "outputs": [
    {
     "name": "stdout",
     "output_type": "stream",
     "text": [
      "amanda\n"
     ]
    }
   ],
   "source": [
    "print(students[1])"
   ]
  },
  {
   "cell_type": "code",
   "execution_count": 11,
   "id": "571ff325-a8ae-4019-8c4b-146561b37459",
   "metadata": {},
   "outputs": [
    {
     "name": "stdout",
     "output_type": "stream",
     "text": [
      "mayowa\n",
      "amanda\n",
      "segun\n",
      "jekwu\n",
      "yinka\n",
      "chinyere\n",
      "joachim\n"
     ]
    }
   ],
   "source": [
    "for names in students:\n",
    "    print(names) #the way it is listing or going to next line is called indentation\n",
    "    "
   ]
  },
  {
   "cell_type": "code",
   "execution_count": 16,
   "id": "8c948b77-9410-4e7c-873c-af70ef6532b3",
   "metadata": {},
   "outputs": [
    {
     "name": "stdout",
     "output_type": "stream",
     "text": [
      "6\n",
      "6\n",
      "5\n",
      "5\n",
      "5\n",
      "8\n",
      "7\n"
     ]
    }
   ],
   "source": [
    "for names in students:\n",
    "    print(len(names))"
   ]
  },
  {
   "cell_type": "code",
   "execution_count": 17,
   "id": "ad2fb5ef-6a58-49ad-b166-837a52a6cc1f",
   "metadata": {},
   "outputs": [
    {
     "name": "stdout",
     "output_type": "stream",
     "text": [
      "how are you\n",
      "how are you\n",
      "how are you\n",
      "how are you\n",
      "how are you\n",
      "how are you\n",
      "how are you\n"
     ]
    }
   ],
   "source": [
    "for names in students:\n",
    "    print(\"how are you\")"
   ]
  },
  {
   "cell_type": "code",
   "execution_count": 19,
   "id": "f93bb7fa-2e41-4a49-bbb6-6fec8006dbed",
   "metadata": {},
   "outputs": [
    {
     "name": "stdout",
     "output_type": "stream",
     "text": [
      "hello\n",
      "hello\n",
      "hello\n",
      "hello\n",
      "hello\n",
      "hello\n",
      "hello\n",
      "hello\n",
      "hello\n",
      "hello\n"
     ]
    }
   ],
   "source": [
    "for number in range(1,11):\n",
    "    print(\"hello\")"
   ]
  },
  {
   "cell_type": "code",
   "execution_count": null,
   "id": "3574d0ef-2e4b-4e91-b123-22967d82327c",
   "metadata": {},
   "outputs": [],
   "source": [
    "students = [\"mayowa\", \"amanda\", \"segun\", \"jekwu\", \"yinka\",\"chinyere\", \"joachim\"]"
   ]
  },
  {
   "cell_type": "code",
   "execution_count": 22,
   "id": "fca1dda5-8970-433b-9a06-25a0604a290e",
   "metadata": {},
   "outputs": [
    {
     "name": "stdout",
     "output_type": "stream",
     "text": [
      "How are you mayowa, you are welcome\n",
      "How are you amanda, you are welcome\n",
      "How are you segun, you are welcome\n",
      "How are you jekwu, you are welcome\n",
      "How are you yinka, you are welcome\n",
      "How are you chinyere, you are welcome\n",
      "How are you joachim, you are welcome\n"
     ]
    }
   ],
   "source": [
    "for individuals in students:\n",
    "    print(f\"How are you {individuals}, you are welcome\")"
   ]
  },
  {
   "cell_type": "code",
   "execution_count": 23,
   "id": "1bb6beaf-4e67-4bf8-be5c-535d497b51a8",
   "metadata": {},
   "outputs": [
    {
     "name": "stdout",
     "output_type": "stream",
     "text": [
      "jekwu\n",
      "joachim\n"
     ]
    }
   ],
   "source": [
    "for dudes in students:\n",
    "    if dudes.startswith(\"j\"):\n",
    "        print(dudes)"
   ]
  },
  {
   "cell_type": "code",
   "execution_count": 25,
   "id": "4fe50114-ae7a-4aeb-a8d0-226d4f4f5a19",
   "metadata": {},
   "outputs": [
    {
     "name": "stdout",
     "output_type": "stream",
     "text": [
      " The name doesn't starts with j, this student name is mayowa\n",
      " The name doesn't starts with j, this student name is amanda\n",
      " The name doesn't starts with j, this student name is segun\n",
      "jekwu\n",
      " The name doesn't starts with j, this student name is yinka\n",
      " The name doesn't starts with j, this student name is chinyere\n",
      "joachim\n"
     ]
    }
   ],
   "source": [
    "for dudes in students:\n",
    "    if dudes.startswith(\"j\"):\n",
    "        print(dudes)\n",
    "    else:\n",
    "        print(f\" The name doesn't starts with j, this student name is {dudes}\")"
   ]
  },
  {
   "cell_type": "code",
   "execution_count": 8,
   "id": "39ab86cd-2545-4f77-81ac-a24aa0a3384e",
   "metadata": {},
   "outputs": [
    {
     "name": "stdout",
     "output_type": "stream",
     "text": [
      "chukwu is a man\n",
      "chichi is a woman\n",
      "mayowa is a man\n",
      "yinka is a woman\n",
      "segun is a man\n",
      "amanda's gender is not defined\n"
     ]
    }
   ],
   "source": [
    "#using for loop and if statements to unpack dictionaries\n",
    "\n",
    "students_bio = {\"chukwu\":\"male\", \"chichi\":\"female\", \"mayowa\":\"male\", \"yinka\":\"female\", \"segun\":\"male\", \"amanda\":\" \"}\n",
    "\n",
    "for key, value in students_bio.items():\n",
    "    if value == \"female\":\n",
    "        print(f\"{key} is a woman\")\n",
    "    elif value == \"male\":\n",
    "        print(f\"{key} is a man\")\n",
    "    else:\n",
    "        print(f\"{key}'s gender is not defined\")\n",
    "        \n"
   ]
  },
  {
   "cell_type": "code",
   "execution_count": 9,
   "id": "6a51f0bc-df34-47fb-920b-d99f7c71cd9f",
   "metadata": {},
   "outputs": [
    {
     "data": {
      "text/plain": [
       "dict_items([('chukwu', 'male'), ('chichi', 'female'), ('mayowa', 'male'), ('yinka', 'female'), ('segun', 'male'), ('amanda', ' ')])"
      ]
     },
     "execution_count": 9,
     "metadata": {},
     "output_type": "execute_result"
    }
   ],
   "source": [
    "# check\n",
    "students_bio.items()"
   ]
  },
  {
   "cell_type": "code",
   "execution_count": 26,
   "id": "8beb9078-3622-494f-97ff-1bfe8331755e",
   "metadata": {},
   "outputs": [],
   "source": [
    "numbers = [2, 5, 8, 23, 9, 4, 7, 2, 1]"
   ]
  },
  {
   "cell_type": "code",
   "execution_count": 27,
   "id": "c3b0966d-bc1f-43ce-902f-e87e81e515a6",
   "metadata": {},
   "outputs": [
    {
     "name": "stdout",
     "output_type": "stream",
     "text": [
      "23\n"
     ]
    }
   ],
   "source": [
    "for n in numbers:\n",
    "    if n > 10:\n",
    "        print(n)"
   ]
  },
  {
   "cell_type": "code",
   "execution_count": 36,
   "id": "0fe8a4f7-ea24-4737-bdfd-b3698dfb94bd",
   "metadata": {},
   "outputs": [],
   "source": [
    "numbers = [2, 5, 8, 23, 15, 11, 10.5, 9, 4, 7, 2, 1, 10]"
   ]
  },
  {
   "cell_type": "code",
   "execution_count": 37,
   "id": "b939c96f-67ed-47bb-989e-f9c31646ce71",
   "metadata": {},
   "outputs": [],
   "source": [
    "values_less_than_10 = []\n",
    "values_greater_equal_than_10 = []\n",
    "\n",
    "for numerics in numbers:\n",
    "    if numerics < 10:\n",
    "        values_less_than_10.append(numerics)\n",
    "    else:\n",
    "        values_greater_equal_than_10.append(numerics)\n"
   ]
  },
  {
   "cell_type": "code",
   "execution_count": 38,
   "id": "dfdaa69c-08f0-4acf-9639-9d048c651089",
   "metadata": {},
   "outputs": [
    {
     "name": "stdout",
     "output_type": "stream",
     "text": [
      "[2, 5, 8, 9, 4, 7, 2, 1]\n"
     ]
    }
   ],
   "source": [
    "print(values_less_than_10)"
   ]
  },
  {
   "cell_type": "code",
   "execution_count": 39,
   "id": "5c55a398-3126-48f8-86c7-b50f15c01747",
   "metadata": {},
   "outputs": [
    {
     "name": "stdout",
     "output_type": "stream",
     "text": [
      "[23, 15, 11, 10.5, 10]\n"
     ]
    }
   ],
   "source": [
    "print(values_greater_equal_than_10)"
   ]
  },
  {
   "cell_type": "markdown",
   "id": "ab4ec1cf-255a-401f-9b66-a0d8d0735e86",
   "metadata": {},
   "source": [
    "#### MODULO USAGE %"
   ]
  },
  {
   "cell_type": "code",
   "execution_count": 1,
   "id": "2801327e-0acd-4f6c-9979-77edc535c4d9",
   "metadata": {},
   "outputs": [
    {
     "name": "stdout",
     "output_type": "stream",
     "text": [
      "1\n"
     ]
    }
   ],
   "source": [
    "print(33 % 2)"
   ]
  },
  {
   "cell_type": "code",
   "execution_count": 3,
   "id": "18848297-3fd3-4382-a714-26a629dc227e",
   "metadata": {},
   "outputs": [
    {
     "name": "stdout",
     "output_type": "stream",
     "text": [
      "0\n"
     ]
    }
   ],
   "source": [
    "print(100 % 2)"
   ]
  },
  {
   "cell_type": "code",
   "execution_count": 9,
   "id": "49017214-84f6-4874-8f2a-6e54f9399eac",
   "metadata": {},
   "outputs": [],
   "source": [
    "numbers = [2, 5, 4, 6, 8, 7, 9, 7, 10, 5]"
   ]
  },
  {
   "cell_type": "code",
   "execution_count": 8,
   "id": "0ca0582c-5162-4abc-8227-3af8e7bbb3d5",
   "metadata": {},
   "outputs": [
    {
     "name": "stdout",
     "output_type": "stream",
     "text": [
      "[2, 4, 6, 8, 10, 76]\n"
     ]
    }
   ],
   "source": [
    "# create a list of number\n",
    "\n",
    "numbers = [2, 5, 4, 6, 8, 7, 9, 7, 10, 5, 7.2, 47, 76]\n",
    "# using for loop, if statements and the modulo opertaor to pick out the even numbers\n",
    "\n",
    "empty_list = []\n",
    "\n",
    "for i in numbers:\n",
    "    if i % 2 == 0:\n",
    "        empty_list.append(i)\n",
    "        \n",
    "print(empty_list)"
   ]
  },
  {
   "cell_type": "markdown",
   "id": "f3b38f96-fcc1-4ab2-8dbc-4d8791863844",
   "metadata": {},
   "source": [
    "####  Create a Simple CALCULATOR"
   ]
  },
  {
   "cell_type": "code",
   "execution_count": 10,
   "id": "e288160b-db9c-41cb-82fd-6bb91f1edb92",
   "metadata": {},
   "outputs": [
    {
     "name": "stdin",
     "output_type": "stream",
     "text": [
      "\n",
      "What arithmetic opertaion, do you want to do?\n",
      "press a for Addition\n",
      "press m for Multiplication\n",
      "press s for Subtraction\n",
      "press d for Division:  d\n",
      "please input your first number:  9\n",
      "please input your second number:  4\n"
     ]
    },
    {
     "name": "stdout",
     "output_type": "stream",
     "text": [
      "2.25\n"
     ]
    }
   ],
   "source": [
    "arithmetic_type = input(\"\"\"\n",
    "What arithmetic opertaion, do you want to do?\n",
    "press a for Addition\n",
    "press m for Multiplication\n",
    "press s for Subtraction\n",
    "press d for Division: \"\"\").lower()\n",
    "\n",
    "# recieve the two numbers to be operated on\n",
    "first_num = int(input(\"please input your first number: \"))\n",
    "second_num = int(input(\"please input your second number: \"))\n",
    "\n",
    "# use if statement to check the operator selected\n",
    "if arithmetic_type == \"a\":\n",
    "    print(first_num + second_num)\n",
    "elif arithmetic_type == \"m\":\n",
    "    print(first_num * second_num)\n",
    "elif arithmetic_type == \"s\":\n",
    "    print(first_num - second_num)\n",
    "else:\n",
    "    result = first_num / second_num\n",
    "    if str(result).endswith(\".0\"):\n",
    "        print(int(result))\n",
    "    else:\n",
    "        print(result)\n"
   ]
  },
  {
   "cell_type": "code",
   "execution_count": 12,
   "id": "a24adc48-2305-47e0-8019-d0414a2defc2",
   "metadata": {},
   "outputs": [
    {
     "name": "stdout",
     "output_type": "stream",
     "text": [
      "[14, 24, 32, 22, 16, 36]\n"
     ]
    }
   ],
   "source": [
    "# nested if statements\n",
    "nums = [2, 5, 10, 14, 17, 24, 32, 22, 16, 36]\n",
    "even_num = []\n",
    "for i in nums:\n",
    "    if i > 10:\n",
    "        if i % 2 == 0:\n",
    "            even_num.append(i)\n",
    "\n",
    "print(even_num)\n",
    "    "
   ]
  },
  {
   "cell_type": "markdown",
   "id": "5fb169e7-124b-45e2-9f5d-1049b6cfb3d4",
   "metadata": {},
   "source": [
    "### While loop "
   ]
  },
  {
   "cell_type": "code",
   "execution_count": 13,
   "id": "ff59d6b5-9eae-4bef-987e-96a71d08bb59",
   "metadata": {},
   "outputs": [
    {
     "name": "stdout",
     "output_type": "stream",
     "text": [
      "6\n",
      "7\n",
      "8\n",
      "9\n",
      "10\n"
     ]
    }
   ],
   "source": [
    "# using while loop\n",
    "x = 5\n",
    "\n",
    "while x < 10:\n",
    "    x += 1\n",
    "    print(x)"
   ]
  },
  {
   "cell_type": "markdown",
   "id": "2f386033-4d39-413b-9fd5-eff7c227fd9d",
   "metadata": {},
   "source": [
    "### Break, Continue"
   ]
  },
  {
   "cell_type": "code",
   "execution_count": 14,
   "id": "294d5b6f-26f8-47ed-b11e-a7f83c3039e0",
   "metadata": {},
   "outputs": [
    {
     "name": "stdout",
     "output_type": "stream",
     "text": [
      "yinka\n",
      "mayowa\n",
      "amanda\n"
     ]
    }
   ],
   "source": [
    "names = [\"yinka\", \"mayowa\", \"chichi\", \"segun\", \"amanda\", \"chukwu\"]\n",
    "\n",
    "for i in names:\n",
    "    if \"a\" in i:\n",
    "        print(i)\n",
    "        "
   ]
  },
  {
   "cell_type": "code",
   "execution_count": 15,
   "id": "5e1e36a9-b8ee-48e9-89d8-a2dcd8958a56",
   "metadata": {},
   "outputs": [
    {
     "name": "stdout",
     "output_type": "stream",
     "text": [
      "yinka\n"
     ]
    }
   ],
   "source": [
    "names = [\"yinka\", \"mayowa\", \"chichi\", \"segun\", \"amanda\", \"chukwu\"]\n",
    "\n",
    "for i in names:\n",
    "    if \"a\" in i:\n",
    "        print(i)\n",
    "        break"
   ]
  },
  {
   "cell_type": "code",
   "execution_count": null,
   "id": "1f8fe0e4-1fa0-4459-9582-3ac8d5abdf50",
   "metadata": {},
   "outputs": [],
   "source": []
  },
  {
   "cell_type": "code",
   "execution_count": 41,
   "id": "fbcf0ae3-9817-4263-a5d6-7b04e7be6c87",
   "metadata": {},
   "outputs": [],
   "source": [
    "students = [\"amanda\", \"segun\", \"chukwujekwu\", \"yinka\", \"joachim\", \"chinyere\"]"
   ]
  },
  {
   "cell_type": "code",
   "execution_count": 44,
   "id": "6044ecf6-cfbc-4b7d-8c8b-6d6a5df1e657",
   "metadata": {},
   "outputs": [
    {
     "name": "stdout",
     "output_type": "stream",
     "text": [
      "amanda belong to group 1\n",
      "segun belong to group 1\n",
      "chukwujekwu belong to group 1\n",
      "yinka belong to group 2\n",
      "joachim belong to group 2\n",
      "chinyere belong to group 2\n"
     ]
    }
   ],
   "source": [
    "import random\n",
    "\n",
    "for name in students:\n",
    "    print(f\"{name} belong to group {random.randint(1,2)}\")"
   ]
  },
  {
   "cell_type": "code",
   "execution_count": null,
   "id": "35cae3cf-37ef-4190-9d18-7b3daefdbaf2",
   "metadata": {},
   "outputs": [],
   "source": []
  },
  {
   "cell_type": "code",
   "execution_count": null,
   "id": "f9849574-4fe2-4a00-ac87-356c8842cb99",
   "metadata": {},
   "outputs": [],
   "source": []
  },
  {
   "cell_type": "code",
   "execution_count": null,
   "id": "6947ccbd-ea5f-4dac-9ecf-f354e1d33fd3",
   "metadata": {},
   "outputs": [],
   "source": []
  }
 ],
 "metadata": {
  "kernelspec": {
   "display_name": "Python 3 (ipykernel)",
   "language": "python",
   "name": "python3"
  },
  "language_info": {
   "codemirror_mode": {
    "name": "ipython",
    "version": 3
   },
   "file_extension": ".py",
   "mimetype": "text/x-python",
   "name": "python",
   "nbconvert_exporter": "python",
   "pygments_lexer": "ipython3",
   "version": "3.12.1"
  }
 },
 "nbformat": 4,
 "nbformat_minor": 5
}
