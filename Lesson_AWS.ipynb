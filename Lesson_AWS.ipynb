{
 "cells": [
  {
   "cell_type": "markdown",
   "id": "8d7b0b8a-a770-424e-ab5a-70fc330c071f",
   "metadata": {},
   "source": [
    "#### ACCESS KEY"
   ]
  },
  {
   "cell_type": "markdown",
   "id": "0a4eb16d-200a-4064-ae98-7a5184758b12",
   "metadata": {},
   "source": [
    "#### SECRET ACCESS KEY"
   ]
  },
  {
   "cell_type": "code",
   "execution_count": 2,
   "id": "850dd314-8a50-4277-ae2e-6ca7f2ae304d",
   "metadata": {},
   "outputs": [
    {
     "data": {
      "text/plain": [
       "{'Version': '2012-10-17',\n",
       " 'Statement': [{'Effect': 'Allow',\n",
       "   'Action': ['iam:GenerateCredentialReport',\n",
       "    'iam:GenerateServiceLastAccessedDetails',\n",
       "    'iam:Get*',\n",
       "    'iam:List*',\n",
       "    'iam:SimulateCustomPolicy',\n",
       "    'iam:SimulatePrincipalPolicy'],\n",
       "   'Resource': '*'}]}"
      ]
     },
     "execution_count": 2,
     "metadata": {},
     "output_type": "execute_result"
    }
   ],
   "source": [
    "{\n",
    "    \"Version\": \"2012-10-17\",\n",
    "    \"Statement\": [\n",
    "        {\n",
    "            \"Effect\": \"Allow\",\n",
    "            \"Action\": [\n",
    "                \"iam:GenerateCredentialReport\",\n",
    "                \"iam:GenerateServiceLastAccessedDetails\",\n",
    "                \"iam:Get*\",\n",
    "                \"iam:List*\",\n",
    "                \"iam:SimulateCustomPolicy\",\n",
    "                \"iam:SimulatePrincipalPolicy\"\n",
    "            ],\n",
    "            \"Resource\": \"*\"\n",
    "        }\n",
    "    ]\n",
    "}"
   ]
  },
  {
   "cell_type": "code",
   "execution_count": 5,
   "id": "eebc20ce-7202-463b-ae99-80390c6baeab",
   "metadata": {},
   "outputs": [],
   "source": [
    "#amanda yinka mayowa segun jekwu yetunde"
   ]
  },
  {
   "cell_type": "code",
   "execution_count": null,
   "id": "c125c31b-8951-4750-8fb1-7a2c3d658a62",
   "metadata": {},
   "outputs": [],
   "source": [
    "#1.  ye* -- Any name that starts with ye, in ths case, only yetunde will be retrieved"
   ]
  },
  {
   "cell_type": "code",
   "execution_count": 6,
   "id": "a46f8fa8-8d5a-4196-b460-68a6b69550ad",
   "metadata": {},
   "outputs": [],
   "source": [
    "#2.  *a* -- anywhere there is letter a, in this case amanda, mayowa and yinka will be retrieved"
   ]
  },
  {
   "cell_type": "code",
   "execution_count": 7,
   "id": "7493f27d-25d4-4e71-8af4-3425b2818f31",
   "metadata": {},
   "outputs": [],
   "source": [
    "#3.  *un -- anywhere that ends with un, only segun will be retrieved"
   ]
  },
  {
   "cell_type": "code",
   "execution_count": 8,
   "id": "ebc1fe55-70de-47dc-ab6c-e35e5c74e766",
   "metadata": {},
   "outputs": [],
   "source": [
    "#4.  * -- everything, means every name is retrieved"
   ]
  },
  {
   "cell_type": "code",
   "execution_count": 9,
   "id": "cfb153da-9d86-4804-b161-c8d4549625f1",
   "metadata": {},
   "outputs": [],
   "source": [
    "#5.  any where we see list or Get means anywhere the two is found the user can list and get everything or data or information"
   ]
  },
  {
   "cell_type": "code",
   "execution_count": null,
   "id": "4c6c5552-9ce5-4768-86c4-4ebcf3933be5",
   "metadata": {},
   "outputs": [],
   "source": []
  }
 ],
 "metadata": {
  "kernelspec": {
   "display_name": "Python 3 (ipykernel)",
   "language": "python",
   "name": "python3"
  },
  "language_info": {
   "codemirror_mode": {
    "name": "ipython",
    "version": 3
   },
   "file_extension": ".py",
   "mimetype": "text/x-python",
   "name": "python",
   "nbconvert_exporter": "python",
   "pygments_lexer": "ipython3",
   "version": "3.12.1"
  }
 },
 "nbformat": 4,
 "nbformat_minor": 5
}
