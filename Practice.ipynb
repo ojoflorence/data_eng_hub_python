{
 "cells": [
  {
   "cell_type": "markdown",
   "id": "1ec6ad4f-9ed7-430d-9c29-c606293d39ee",
   "metadata": {},
   "source": [
    "#### CONVERSION and concatenation"
   ]
  },
  {
   "cell_type": "code",
   "execution_count": 9,
   "id": "9157a53c-0c5d-47e8-bf1a-e5befced9dec",
   "metadata": {},
   "outputs": [],
   "source": [
    "my_weight = \"5.9\""
   ]
  },
  {
   "cell_type": "code",
   "execution_count": 2,
   "id": "7b6a5743-70f7-441a-bfa2-eb020f863da0",
   "metadata": {},
   "outputs": [],
   "source": [
    "gained_weight = 1"
   ]
  },
  {
   "cell_type": "code",
   "execution_count": 11,
   "id": "eff31975-bd21-4e83-8392-3ceeae8db66c",
   "metadata": {},
   "outputs": [],
   "source": [
    "new_my_weight = float(my_weight)"
   ]
  },
  {
   "cell_type": "code",
   "execution_count": 12,
   "id": "39ceef63-71c9-43ac-ae2b-b015e6f5fbe5",
   "metadata": {},
   "outputs": [
    {
     "name": "stdout",
     "output_type": "stream",
     "text": [
      "5.9\n"
     ]
    }
   ],
   "source": [
    "print(new_my_weight)"
   ]
  },
  {
   "cell_type": "code",
   "execution_count": 19,
   "id": "9e63ebf6-2ae9-49e7-9410-634305027dc0",
   "metadata": {},
   "outputs": [],
   "source": [
    "current_weight = (new_my_weight + gained_weight)"
   ]
  },
  {
   "cell_type": "code",
   "execution_count": 20,
   "id": "43a54b86-ab62-4670-8fdf-3cbc5efd03ec",
   "metadata": {},
   "outputs": [
    {
     "name": "stdout",
     "output_type": "stream",
     "text": [
      "6.9\n"
     ]
    }
   ],
   "source": [
    "print(current_weight)"
   ]
  },
  {
   "cell_type": "code",
   "execution_count": 21,
   "id": "effb6c99-c415-4f2c-8fff-c71fe8518247",
   "metadata": {},
   "outputs": [],
   "source": [
    "#to concatenate two or words we do this"
   ]
  },
  {
   "cell_type": "code",
   "execution_count": 22,
   "id": "de09d962-c9e0-4157-93de-b29842477911",
   "metadata": {},
   "outputs": [
    {
     "name": "stdout",
     "output_type": "stream",
     "text": [
      "how are you\n"
     ]
    }
   ],
   "source": [
    "print(\"how\" + \" are\" + \" you\")"
   ]
  },
  {
   "cell_type": "markdown",
   "id": "91418049-00d8-42e9-9c65-8b595bb26b3f",
   "metadata": {},
   "source": [
    "#### MULTI LINE STRINGS"
   ]
  },
  {
   "cell_type": "code",
   "execution_count": 23,
   "id": "8be51e98-789a-4cbd-8943-45a8c4f5efb8",
   "metadata": {},
   "outputs": [],
   "source": [
    "about_me = \"\"\"my name is Yinka,\n",
    "i live in Germany,\n",
    "i am 16 years old,\n",
    "and i love to cook\"\"\"\n"
   ]
  },
  {
   "cell_type": "code",
   "execution_count": 24,
   "id": "27b8fe52-3470-4760-bfda-d9057be259fe",
   "metadata": {},
   "outputs": [
    {
     "name": "stdout",
     "output_type": "stream",
     "text": [
      "my name is Yinka,\n",
      "i live in Germany,\n",
      "i am 16 years old,\n",
      "and i love to cook\n"
     ]
    }
   ],
   "source": [
    "print(about_me)"
   ]
  },
  {
   "cell_type": "code",
   "execution_count": null,
   "id": "096da7f4-2038-4979-b3e3-319baa8fc741",
   "metadata": {},
   "outputs": [],
   "source": []
  }
 ],
 "metadata": {
  "kernelspec": {
   "display_name": "Python 3 (ipykernel)",
   "language": "python",
   "name": "python3"
  },
  "language_info": {
   "codemirror_mode": {
    "name": "ipython",
    "version": 3
   },
   "file_extension": ".py",
   "mimetype": "text/x-python",
   "name": "python",
   "nbconvert_exporter": "python",
   "pygments_lexer": "ipython3",
   "version": "3.12.1"
  }
 },
 "nbformat": 4,
 "nbformat_minor": 5
}
