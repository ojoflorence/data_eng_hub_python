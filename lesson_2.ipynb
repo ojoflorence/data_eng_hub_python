{
 "cells": [
  {
   "cell_type": "markdown",
   "id": "a07592c6-4ebc-408f-b66b-51414d4d884a",
   "metadata": {},
   "source": [
    "## Python Data Structures"
   ]
  },
  {
   "cell_type": "markdown",
   "id": "72eca2f8-e8fd-4aa8-9896-272b9d4accb6",
   "metadata": {},
   "source": [
    "- List\n",
    "- Dictionary\n",
    "- Tuple\n",
    "- Set"
   ]
  },
  {
   "cell_type": "markdown",
   "id": "32136bb9-7fb0-48e9-a1bc-7eea62401e9f",
   "metadata": {},
   "source": [
    "##### List"
   ]
  },
  {
   "cell_type": "code",
   "execution_count": 6,
   "id": "09717d34-efcb-498d-bbe9-c528a204e0fa",
   "metadata": {},
   "outputs": [],
   "source": [
    "students = [\"yinka\", \"mayowa\", \"chukwu\", \"amanda\", \"chinyere\", \"joachim\"]"
   ]
  },
  {
   "cell_type": "code",
   "execution_count": 7,
   "id": "8db072b7-ff45-467b-9fe0-76c12c728c83",
   "metadata": {},
   "outputs": [
    {
     "name": "stdout",
     "output_type": "stream",
     "text": [
      "['yinka', 'mayowa', 'chukwu', 'amanda', 'chinyere', 'joachim']\n"
     ]
    }
   ],
   "source": [
    "print(students)"
   ]
  },
  {
   "cell_type": "code",
   "execution_count": 8,
   "id": "e212d491-12b7-41b6-8aae-9f853693d35e",
   "metadata": {},
   "outputs": [
    {
     "name": "stdout",
     "output_type": "stream",
     "text": [
      "<class 'list'>\n"
     ]
    }
   ],
   "source": [
    "print(type(students))"
   ]
  },
  {
   "cell_type": "code",
   "execution_count": 9,
   "id": "b32c20b7-d100-48b8-92a0-5e81b7311aa2",
   "metadata": {},
   "outputs": [],
   "source": [
    "age = [23, 44, 45, 26, 32, 35]"
   ]
  },
  {
   "cell_type": "code",
   "execution_count": 10,
   "id": "4759b286-9774-41a1-b1e8-ee7ffdc4abba",
   "metadata": {},
   "outputs": [
    {
     "name": "stdout",
     "output_type": "stream",
     "text": [
      "<class 'list'>\n"
     ]
    }
   ],
   "source": [
    "print(type(age))"
   ]
  },
  {
   "cell_type": "code",
   "execution_count": 11,
   "id": "10cc7bdc-ab80-4f97-8ae1-5c4a5b2ca637",
   "metadata": {},
   "outputs": [],
   "source": [
    "yinka_info = [\"yinka\", \"1.56\", \"16\", \"data engineer\", True]"
   ]
  },
  {
   "cell_type": "code",
   "execution_count": 12,
   "id": "b4dee91b-9814-4aac-9de0-359af43cbd55",
   "metadata": {},
   "outputs": [
    {
     "name": "stdout",
     "output_type": "stream",
     "text": [
      "<class 'list'>\n"
     ]
    }
   ],
   "source": [
    "print(type(yinka_info))"
   ]
  },
  {
   "cell_type": "markdown",
   "id": "46c8d9af-eb06-4ae0-a816-dc5232687503",
   "metadata": {},
   "source": [
    "### index/position"
   ]
  },
  {
   "cell_type": "code",
   "execution_count": null,
   "id": "47e9ba4e-b40a-4b13-9008-1de915ebfec3",
   "metadata": {},
   "outputs": [],
   "source": [
    "Y I M I K A\n",
    "1 2 3 4 5 6  # human numbering\n",
    "0 1 2 3 4 5  # python numbering"
   ]
  },
  {
   "cell_type": "code",
   "execution_count": 13,
   "id": "ee844b0b-8eb9-4ef9-86e8-f61b21c032f4",
   "metadata": {},
   "outputs": [],
   "source": [
    "cars = [\"toyota\", \"bmw\", \"benz\", \"honda\"] # items in a list is called element"
   ]
  },
  {
   "cell_type": "code",
   "execution_count": 14,
   "id": "086b6bc7-0a3e-4609-a929-ed72c541455e",
   "metadata": {},
   "outputs": [
    {
     "name": "stdout",
     "output_type": "stream",
     "text": [
      "bmw\n"
     ]
    }
   ],
   "source": [
    "print(cars[1])"
   ]
  },
  {
   "cell_type": "code",
   "execution_count": 15,
   "id": "c6daaf74-c695-48a2-892c-0c1459153cc9",
   "metadata": {},
   "outputs": [
    {
     "name": "stdout",
     "output_type": "stream",
     "text": [
      "benz\n"
     ]
    }
   ],
   "source": [
    "print(cars[2])"
   ]
  },
  {
   "cell_type": "code",
   "execution_count": 16,
   "id": "a47270be-e582-4380-99dc-4543ea5c7222",
   "metadata": {},
   "outputs": [
    {
     "name": "stdout",
     "output_type": "stream",
     "text": [
      "honda\n"
     ]
    }
   ],
   "source": [
    "print(cars[3])"
   ]
  },
  {
   "cell_type": "code",
   "execution_count": 17,
   "id": "45ffd15e-9879-4ee1-8bdd-46ac791a5061",
   "metadata": {},
   "outputs": [
    {
     "name": "stdout",
     "output_type": "stream",
     "text": [
      "toyota\n"
     ]
    }
   ],
   "source": [
    "print(cars[0])"
   ]
  },
  {
   "cell_type": "code",
   "execution_count": 19,
   "id": "802aa137-4dbe-413b-915d-10d0a19aba71",
   "metadata": {},
   "outputs": [
    {
     "ename": "IndexError",
     "evalue": "list index out of range",
     "output_type": "error",
     "traceback": [
      "\u001b[0;31m---------------------------------------------------------------------------\u001b[0m",
      "\u001b[0;31mIndexError\u001b[0m                                Traceback (most recent call last)",
      "Cell \u001b[0;32mIn[19], line 1\u001b[0m\n\u001b[0;32m----> 1\u001b[0m \u001b[38;5;28mprint\u001b[39m(\u001b[43mcars\u001b[49m\u001b[43m[\u001b[49m\u001b[38;5;241;43m4\u001b[39;49m\u001b[43m]\u001b[49m) \u001b[38;5;66;03m# 0bviosly failed due to list doesn't have index/positioin 4 \u001b[39;00m\n",
      "\u001b[0;31mIndexError\u001b[0m: list index out of range"
     ]
    }
   ],
   "source": [
    "print(cars[4]) # 0bviosly failed due to list doesn't have index/positioin 4 "
   ]
  },
  {
   "cell_type": "code",
   "execution_count": 27,
   "id": "b3ec69a2-1622-4230-84cf-45ba58404c05",
   "metadata": {},
   "outputs": [],
   "source": [
    "cars = [\"toyota\", \"bmw\", \"benz\", \"honda\"] # we have four elements in the list but position starts from zero"
   ]
  },
  {
   "cell_type": "code",
   "execution_count": 24,
   "id": "3989d8b3-192c-486f-8a5b-e91229b8205b",
   "metadata": {},
   "outputs": [
    {
     "name": "stdout",
     "output_type": "stream",
     "text": [
      "honda\n"
     ]
    }
   ],
   "source": [
    "print(cars[-1])  # only to retrieve the last element in the list"
   ]
  },
  {
   "cell_type": "code",
   "execution_count": 29,
   "id": "819a383c-61f6-48c0-8a29-d62a5bdbca2d",
   "metadata": {},
   "outputs": [
    {
     "name": "stdout",
     "output_type": "stream",
     "text": [
      "4\n"
     ]
    }
   ],
   "source": [
    "print(len(cars)) # len is to know number of element"
   ]
  },
  {
   "cell_type": "code",
   "execution_count": 32,
   "id": "d756196a-e7b4-4676-ad7c-83bf59a359d7",
   "metadata": {},
   "outputs": [],
   "source": [
    "name = \"yimika\""
   ]
  },
  {
   "cell_type": "code",
   "execution_count": 33,
   "id": "68f897ac-5975-4cac-9bfe-8b99c3dfe138",
   "metadata": {},
   "outputs": [
    {
     "name": "stdout",
     "output_type": "stream",
     "text": [
      "6\n"
     ]
    }
   ],
   "source": [
    "print(len(name))"
   ]
  },
  {
   "cell_type": "code",
   "execution_count": 36,
   "id": "216949be-2141-47f2-af06-5bc650788193",
   "metadata": {},
   "outputs": [],
   "source": [
    "age = 45 "
   ]
  },
  {
   "cell_type": "code",
   "execution_count": 35,
   "id": "490e50e7-2dce-4772-9762-db65029f9e25",
   "metadata": {},
   "outputs": [
    {
     "ename": "TypeError",
     "evalue": "object of type 'int' has no len()",
     "output_type": "error",
     "traceback": [
      "\u001b[0;31m---------------------------------------------------------------------------\u001b[0m",
      "\u001b[0;31mTypeError\u001b[0m                                 Traceback (most recent call last)",
      "Cell \u001b[0;32mIn[35], line 1\u001b[0m\n\u001b[0;32m----> 1\u001b[0m \u001b[38;5;28mprint\u001b[39m(\u001b[38;5;28;43mlen\u001b[39;49m\u001b[43m(\u001b[49m\u001b[43mage\u001b[49m\u001b[43m)\u001b[49m)\n",
      "\u001b[0;31mTypeError\u001b[0m: object of type 'int' has no len()"
     ]
    }
   ],
   "source": [
    "print(len(age))"
   ]
  },
  {
   "cell_type": "code",
   "execution_count": 37,
   "id": "864dc43b-385d-401f-8bed-7138992aabd6",
   "metadata": {},
   "outputs": [],
   "source": [
    "bad_age_define = \"45\" "
   ]
  },
  {
   "cell_type": "code",
   "execution_count": 38,
   "id": "c8a38600-2645-4ed8-9b3e-78cec1a7d00c",
   "metadata": {},
   "outputs": [
    {
     "name": "stdout",
     "output_type": "stream",
     "text": [
      "2\n"
     ]
    }
   ],
   "source": [
    "print(len(bad_age_define))"
   ]
  },
  {
   "cell_type": "code",
   "execution_count": 39,
   "id": "ea9ec17c-1195-43d4-a5cb-3d0e3d29298c",
   "metadata": {},
   "outputs": [],
   "source": [
    "list = [\" \", \"25\", 30, \"yellow\"]"
   ]
  },
  {
   "cell_type": "code",
   "execution_count": 42,
   "id": "2b70f85a-917b-44da-acf0-af8da9331e12",
   "metadata": {},
   "outputs": [
    {
     "name": "stdout",
     "output_type": "stream",
     "text": [
      " \n"
     ]
    }
   ],
   "source": [
    "print(list[0])"
   ]
  },
  {
   "cell_type": "markdown",
   "id": "759428ce-667a-48da-84d4-a3d56aae547c",
   "metadata": {},
   "source": [
    "### Slicing"
   ]
  },
  {
   "cell_type": "code",
   "execution_count": 50,
   "id": "bf318e1f-c787-4008-83ef-bba865097ea7",
   "metadata": {},
   "outputs": [],
   "source": [
    "random_list = [1, 2, 5 , 10, 2] # list can include duplicate and they won't interfere with each other"
   ]
  },
  {
   "cell_type": "code",
   "execution_count": 51,
   "id": "82d9e735-4fff-4334-8eb0-dbedd40bfee3",
   "metadata": {},
   "outputs": [
    {
     "name": "stdout",
     "output_type": "stream",
     "text": [
      "[1, 2, 5]\n"
     ]
    }
   ],
   "source": [
    "print(random_list[0:3]) # when we are doing slicing we should always add 1 "
   ]
  },
  {
   "cell_type": "code",
   "execution_count": 53,
   "id": "e199701f-8ab8-4ee5-8ff6-b654bfebe71a",
   "metadata": {},
   "outputs": [
    {
     "name": "stdout",
     "output_type": "stream",
     "text": [
      "[1, 2, 5]\n"
     ]
    }
   ],
   "source": [
    "print(random_list[:3]) # second method of slicing"
   ]
  },
  {
   "cell_type": "code",
   "execution_count": 54,
   "id": "50f44b88-fff8-4972-8594-73bc3a892c38",
   "metadata": {},
   "outputs": [
    {
     "name": "stdout",
     "output_type": "stream",
     "text": [
      "[1, 2, 5, 10]\n"
     ]
    }
   ],
   "source": [
    "print(random_list[:4])"
   ]
  },
  {
   "cell_type": "code",
   "execution_count": 55,
   "id": "5af14da8-e5ac-42e2-b95a-b4deab69b5df",
   "metadata": {},
   "outputs": [
    {
     "name": "stdout",
     "output_type": "stream",
     "text": [
      "[5, 10, 2]\n"
     ]
    }
   ],
   "source": [
    "print(random_list[2:])"
   ]
  },
  {
   "cell_type": "code",
   "execution_count": 56,
   "id": "13fa55af-e698-4da7-a6b2-04a02ee25ac3",
   "metadata": {},
   "outputs": [
    {
     "name": "stdout",
     "output_type": "stream",
     "text": [
      "[5, 10, 2]\n"
     ]
    }
   ],
   "source": [
    "print(random_list[2:])"
   ]
  },
  {
   "cell_type": "code",
   "execution_count": 57,
   "id": "192bd268-8a68-430d-9c3a-aa687e133659",
   "metadata": {},
   "outputs": [],
   "source": [
    "name = \"chinyere the boss lady\""
   ]
  },
  {
   "cell_type": "code",
   "execution_count": 58,
   "id": "3053a315-a4ea-4026-ab9a-c0313371b219",
   "metadata": {},
   "outputs": [
    {
     "name": "stdout",
     "output_type": "stream",
     "text": [
      "22\n"
     ]
    }
   ],
   "source": [
    "print(len(name))"
   ]
  },
  {
   "cell_type": "code",
   "execution_count": 59,
   "id": "8657bc29-7add-46d8-84d6-b6747580d75f",
   "metadata": {},
   "outputs": [
    {
     "name": "stdout",
     "output_type": "stream",
     "text": [
      "chinyere\n"
     ]
    }
   ],
   "source": [
    "print(name[0:8])"
   ]
  },
  {
   "cell_type": "markdown",
   "id": "6f5a3afe-f425-4d37-9b2f-dd0c66e93098",
   "metadata": {},
   "source": [
    "### Element changing"
   ]
  },
  {
   "cell_type": "code",
   "execution_count": 60,
   "id": "00049fb9-2410-4437-b35a-809822164066",
   "metadata": {},
   "outputs": [],
   "source": [
    "num = [1, 4, 2]"
   ]
  },
  {
   "cell_type": "code",
   "execution_count": 61,
   "id": "10cab09d-0bcf-43d9-abd9-499f66e38ef2",
   "metadata": {},
   "outputs": [
    {
     "name": "stdout",
     "output_type": "stream",
     "text": [
      "1\n"
     ]
    }
   ],
   "source": [
    "print(num[0])"
   ]
  },
  {
   "cell_type": "code",
   "execution_count": 62,
   "id": "71f2c65a-968e-4ab0-916d-df81c05d0a79",
   "metadata": {},
   "outputs": [],
   "source": [
    "num[0] = 10"
   ]
  },
  {
   "cell_type": "code",
   "execution_count": 63,
   "id": "afdca915-7941-41c5-9fe9-193b16d929d0",
   "metadata": {},
   "outputs": [
    {
     "name": "stdout",
     "output_type": "stream",
     "text": [
      "[10, 4, 2]\n"
     ]
    }
   ],
   "source": [
    "print(num)"
   ]
  },
  {
   "cell_type": "code",
   "execution_count": 64,
   "id": "064775f7-8ef0-4ca8-8a63-33db6576c0f2",
   "metadata": {},
   "outputs": [],
   "source": [
    "num[-1] = 20"
   ]
  },
  {
   "cell_type": "code",
   "execution_count": 65,
   "id": "049aa282-54d6-4ab3-8f5a-bcb3ac59318d",
   "metadata": {},
   "outputs": [
    {
     "name": "stdout",
     "output_type": "stream",
     "text": [
      "[10, 4, 20]\n"
     ]
    }
   ],
   "source": [
    "print(num)"
   ]
  },
  {
   "cell_type": "markdown",
   "id": "302b4eb8-c4e2-4231-b295-a5b3c4e1b12b",
   "metadata": {},
   "source": [
    "### Adding elements (append)"
   ]
  },
  {
   "cell_type": "code",
   "execution_count": 66,
   "id": "31f58098-dabf-4db5-90e7-967f11e3a25c",
   "metadata": {},
   "outputs": [],
   "source": [
    "fruits = [\"apple\", \"banana\", \"mango\"]"
   ]
  },
  {
   "cell_type": "code",
   "execution_count": 67,
   "id": "1d551ab3-8840-46b3-942f-2088a525335d",
   "metadata": {},
   "outputs": [],
   "source": [
    "fruits.append(\"cherry\")"
   ]
  },
  {
   "cell_type": "code",
   "execution_count": 68,
   "id": "ddb48d36-c254-4625-a1f6-1fdde3886f26",
   "metadata": {},
   "outputs": [
    {
     "name": "stdout",
     "output_type": "stream",
     "text": [
      "['apple', 'banana', 'mango', 'cherry']\n"
     ]
    }
   ],
   "source": [
    "print(fruits)"
   ]
  },
  {
   "cell_type": "code",
   "execution_count": 69,
   "id": "7eadbacb-9e4d-4f96-ada6-954cfc51c6a8",
   "metadata": {},
   "outputs": [],
   "source": [
    "cart = []"
   ]
  },
  {
   "cell_type": "code",
   "execution_count": 70,
   "id": "67060df9-f78e-4af4-a3c8-1d44daa70b10",
   "metadata": {},
   "outputs": [
    {
     "name": "stdout",
     "output_type": "stream",
     "text": [
      "<class 'list'>\n"
     ]
    }
   ],
   "source": [
    "print(type(cart))"
   ]
  },
  {
   "cell_type": "code",
   "execution_count": 71,
   "id": "360211ee-9808-47e0-97eb-9d12b7420f79",
   "metadata": {},
   "outputs": [],
   "source": [
    "cart.append(\"shiny leather jacket\")"
   ]
  },
  {
   "cell_type": "code",
   "execution_count": 72,
   "id": "cb2f842a-b503-420d-8a86-e1f29c7638c0",
   "metadata": {},
   "outputs": [
    {
     "name": "stdout",
     "output_type": "stream",
     "text": [
      "['shiny leather jacket']\n"
     ]
    }
   ],
   "source": [
    "print(cart)"
   ]
  },
  {
   "cell_type": "code",
   "execution_count": 73,
   "id": "66f4e48c-e0fb-4f98-91ae-5b3e3fca29c4",
   "metadata": {},
   "outputs": [
    {
     "ename": "TypeError",
     "evalue": "list.append() takes exactly one argument (2 given)",
     "output_type": "error",
     "traceback": [
      "\u001b[0;31m---------------------------------------------------------------------------\u001b[0m",
      "\u001b[0;31mTypeError\u001b[0m                                 Traceback (most recent call last)",
      "Cell \u001b[0;32mIn[73], line 1\u001b[0m\n\u001b[0;32m----> 1\u001b[0m \u001b[43mcart\u001b[49m\u001b[38;5;241;43m.\u001b[39;49m\u001b[43mappend\u001b[49m\u001b[43m(\u001b[49m\u001b[38;5;124;43m\"\u001b[39;49m\u001b[38;5;124;43mjeans\u001b[39;49m\u001b[38;5;124;43m\"\u001b[39;49m\u001b[43m,\u001b[49m\u001b[43m \u001b[49m\u001b[38;5;124;43m\"\u001b[39;49m\u001b[38;5;124;43mshirt\u001b[39;49m\u001b[38;5;124;43m\"\u001b[39;49m\u001b[43m)\u001b[49m\n",
      "\u001b[0;31mTypeError\u001b[0m: list.append() takes exactly one argument (2 given)"
     ]
    }
   ],
   "source": [
    "cart.append(\"jeans\", \"shirt\")"
   ]
  },
  {
   "cell_type": "code",
   "execution_count": 74,
   "id": "1c7cbdc8-4045-4c4a-a85a-765e27e29e98",
   "metadata": {},
   "outputs": [
    {
     "name": "stdout",
     "output_type": "stream",
     "text": [
      "['shiny leather jacket']\n"
     ]
    }
   ],
   "source": [
    "print(cart)"
   ]
  },
  {
   "cell_type": "code",
   "execution_count": 76,
   "id": "d8761c39-c2a7-417e-b755-eb9f3c7c7022",
   "metadata": {},
   "outputs": [],
   "source": [
    "cars = [\"bmw\", \"benz\"]"
   ]
  },
  {
   "cell_type": "code",
   "execution_count": 78,
   "id": "7d5c8293-389a-4e29-a3e7-b138b086600e",
   "metadata": {},
   "outputs": [],
   "source": [
    "cars.remove(\"benz\")"
   ]
  },
  {
   "cell_type": "code",
   "execution_count": 79,
   "id": "53ace6b9-f8b1-46f8-91f7-8ff176b78aed",
   "metadata": {},
   "outputs": [
    {
     "name": "stdout",
     "output_type": "stream",
     "text": [
      "['bmw']\n"
     ]
    }
   ],
   "source": [
    "print(cars)"
   ]
  },
  {
   "cell_type": "code",
   "execution_count": 80,
   "id": "1536adee-ad2a-4ba2-9faa-97904268e92a",
   "metadata": {},
   "outputs": [
    {
     "ename": "ValueError",
     "evalue": "list.remove(x): x not in list",
     "output_type": "error",
     "traceback": [
      "\u001b[0;31m---------------------------------------------------------------------------\u001b[0m",
      "\u001b[0;31mValueError\u001b[0m                                Traceback (most recent call last)",
      "Cell \u001b[0;32mIn[80], line 1\u001b[0m\n\u001b[0;32m----> 1\u001b[0m \u001b[43mcars\u001b[49m\u001b[38;5;241;43m.\u001b[39;49m\u001b[43mremove\u001b[49m\u001b[43m(\u001b[49m\u001b[38;5;124;43m\"\u001b[39;49m\u001b[38;5;124;43mmayowa\u001b[39;49m\u001b[38;5;124;43m\"\u001b[39;49m\u001b[43m)\u001b[49m\n",
      "\u001b[0;31mValueError\u001b[0m: list.remove(x): x not in list"
     ]
    }
   ],
   "source": [
    "cars.remove(\"mayowa\")"
   ]
  },
  {
   "cell_type": "markdown",
   "id": "b6344db1-012b-459f-84c3-9c86b0a7b0d7",
   "metadata": {},
   "source": [
    "#### Sorting elements"
   ]
  },
  {
   "cell_type": "code",
   "execution_count": 81,
   "id": "e90687ab-7f3f-4f80-b734-80f258aa1c58",
   "metadata": {},
   "outputs": [],
   "source": [
    "alphabets = [\"e\", \"b\", \"a\", \"c\", \"d\"]"
   ]
  },
  {
   "cell_type": "code",
   "execution_count": 83,
   "id": "2196202d-1c9c-41b6-8eae-eab7f6f6b3c4",
   "metadata": {},
   "outputs": [],
   "source": [
    "alphabets.sort()"
   ]
  },
  {
   "cell_type": "code",
   "execution_count": 84,
   "id": "58eb0042-3a90-4784-953b-ef92948f1dc3",
   "metadata": {},
   "outputs": [
    {
     "name": "stdout",
     "output_type": "stream",
     "text": [
      "['a', 'b', 'c', 'd', 'e']\n"
     ]
    }
   ],
   "source": [
    "print(alphabets)"
   ]
  },
  {
   "cell_type": "code",
   "execution_count": 85,
   "id": "f1387d1e-a9c4-48fa-85e3-9c80fbeec520",
   "metadata": {},
   "outputs": [],
   "source": [
    "numbers = [3, 6, 4, 8, 2, 9,34]"
   ]
  },
  {
   "cell_type": "code",
   "execution_count": 86,
   "id": "e4c8a27e-5e10-4044-9e82-cda748aa8129",
   "metadata": {},
   "outputs": [],
   "source": [
    "numbers.sort()"
   ]
  },
  {
   "cell_type": "code",
   "execution_count": 87,
   "id": "e438e806-6944-459e-9fb5-8a8e3fbb8bab",
   "metadata": {},
   "outputs": [
    {
     "name": "stdout",
     "output_type": "stream",
     "text": [
      "[2, 3, 4, 6, 8, 9, 34]\n"
     ]
    }
   ],
   "source": [
    "print(numbers)"
   ]
  },
  {
   "cell_type": "code",
   "execution_count": 88,
   "id": "852ed973-1e3c-467b-b2bf-dd75c973c7d4",
   "metadata": {},
   "outputs": [],
   "source": [
    "numbers.sort(reverse=True)"
   ]
  },
  {
   "cell_type": "code",
   "execution_count": 89,
   "id": "1e71c35d-4640-46b2-aa3d-d2bd7ad8e1ed",
   "metadata": {},
   "outputs": [
    {
     "name": "stdout",
     "output_type": "stream",
     "text": [
      "[34, 9, 8, 6, 4, 3, 2]\n"
     ]
    }
   ],
   "source": [
    "print(numbers)"
   ]
  },
  {
   "cell_type": "code",
   "execution_count": 90,
   "id": "d38c57f8-9483-480f-bd46-dee629d1c8e8",
   "metadata": {},
   "outputs": [],
   "source": [
    "dates = [\"2023-12-04\", \"2023-12-01\", \"2023-12-02\", \"2023-12-10\"]"
   ]
  },
  {
   "cell_type": "code",
   "execution_count": 91,
   "id": "304b051b-800c-4596-8b43-688a964474ef",
   "metadata": {},
   "outputs": [],
   "source": [
    "dates.sort(reverse=True)"
   ]
  },
  {
   "cell_type": "code",
   "execution_count": 92,
   "id": "61b45b09-b6af-41ad-9812-5b95f90fee03",
   "metadata": {},
   "outputs": [
    {
     "name": "stdout",
     "output_type": "stream",
     "text": [
      "['2023-12-10', '2023-12-04', '2023-12-02', '2023-12-01']\n"
     ]
    }
   ],
   "source": [
    "print(dates)"
   ]
  },
  {
   "cell_type": "markdown",
   "id": "de862941-3da4-44be-8037-6479ae415449",
   "metadata": {},
   "source": [
    "### Range Function"
   ]
  },
  {
   "cell_type": "code",
   "execution_count": 1,
   "id": "1cb65471-2eea-448a-b22c-d4c1519c82c6",
   "metadata": {},
   "outputs": [],
   "source": [
    "long_list = range(1, 100)"
   ]
  },
  {
   "cell_type": "code",
   "execution_count": 2,
   "id": "c86491ce-ab8a-4036-a002-3c4509804787",
   "metadata": {},
   "outputs": [
    {
     "name": "stdout",
     "output_type": "stream",
     "text": [
      "range(1, 100)\n"
     ]
    }
   ],
   "source": [
    "print(long_list)"
   ]
  },
  {
   "cell_type": "code",
   "execution_count": 3,
   "id": "23a29d9f-c93a-44e6-b1bb-0b73f36a4f53",
   "metadata": {},
   "outputs": [
    {
     "name": "stdout",
     "output_type": "stream",
     "text": [
      "[1, 2, 3, 4, 5, 6, 7, 8, 9, 10, 11, 12, 13, 14, 15, 16, 17, 18, 19, 20, 21, 22, 23, 24, 25, 26, 27, 28, 29, 30, 31, 32, 33, 34, 35, 36, 37, 38, 39, 40, 41, 42, 43, 44, 45, 46, 47, 48, 49, 50, 51, 52, 53, 54, 55, 56, 57, 58, 59, 60, 61, 62, 63, 64, 65, 66, 67, 68, 69, 70, 71, 72, 73, 74, 75, 76, 77, 78, 79, 80, 81, 82, 83, 84, 85, 86, 87, 88, 89, 90, 91, 92, 93, 94, 95, 96, 97, 98, 99]\n"
     ]
    }
   ],
   "source": [
    "print(list(long_list))"
   ]
  },
  {
   "cell_type": "markdown",
   "id": "b2e09cf2-9214-4424-b6ce-1b2683b67645",
   "metadata": {},
   "source": [
    "#### Dictionary"
   ]
  },
  {
   "cell_type": "code",
   "execution_count": 1,
   "id": "2777a575-a29b-4313-9da1-6309affdc044",
   "metadata": {},
   "outputs": [],
   "source": [
    "basic_dict = {\"name\": \"mayowa\"}"
   ]
  },
  {
   "cell_type": "code",
   "execution_count": 2,
   "id": "3add7e68-fec9-493d-8396-89ffa6bd8263",
   "metadata": {},
   "outputs": [],
   "source": [
    "yinka_data = {\"name\": \"yinka\", \"age\": 16, \"is_student\": True, \"gender\": \"female\"}"
   ]
  },
  {
   "cell_type": "code",
   "execution_count": 3,
   "id": "5708d684-367b-4d07-a467-c3636af08b4a",
   "metadata": {},
   "outputs": [
    {
     "name": "stdout",
     "output_type": "stream",
     "text": [
      "{'name': 'yinka', 'age': 16, 'is_student': True, 'gender': 'female'}\n"
     ]
    }
   ],
   "source": [
    "print(yinka_data)"
   ]
  },
  {
   "cell_type": "code",
   "execution_count": 4,
   "id": "1cb373bf-7930-4e08-939d-c14a22aed7da",
   "metadata": {},
   "outputs": [
    {
     "name": "stdout",
     "output_type": "stream",
     "text": [
      "<class 'dict'>\n"
     ]
    }
   ],
   "source": [
    "print(type(yinka_data))"
   ]
  },
  {
   "cell_type": "markdown",
   "id": "4258f6e5-da0f-4683-a1cf-720f41c4f307",
   "metadata": {},
   "source": [
    "#### Retrieving dictionary values"
   ]
  },
  {
   "cell_type": "code",
   "execution_count": 5,
   "id": "15f0948f-f051-4462-8892-ba07a5e3f456",
   "metadata": {},
   "outputs": [
    {
     "name": "stdout",
     "output_type": "stream",
     "text": [
      "16\n"
     ]
    }
   ],
   "source": [
    "print(yinka_data[\"age\"])"
   ]
  },
  {
   "cell_type": "code",
   "execution_count": 6,
   "id": "4726a489-2c5a-4193-9f6c-b9f913bc1e27",
   "metadata": {},
   "outputs": [
    {
     "name": "stdout",
     "output_type": "stream",
     "text": [
      "female\n"
     ]
    }
   ],
   "source": [
    "print(yinka_data[\"gender\"])"
   ]
  },
  {
   "cell_type": "code",
   "execution_count": 7,
   "id": "41e8459d-8f76-44a2-a5ee-8808bfc7878b",
   "metadata": {},
   "outputs": [],
   "source": [
    "yinka_data = {\"name\": \"yinka\", \"age\": 16, \"is_student\": True, \"gender\": \"female\"}"
   ]
  },
  {
   "cell_type": "code",
   "execution_count": 9,
   "id": "79c8e9fa-8171-40bd-a0c5-c19db52e2c35",
   "metadata": {},
   "outputs": [
    {
     "name": "stdout",
     "output_type": "stream",
     "text": [
      "yinka\n"
     ]
    }
   ],
   "source": [
    "print(yinka_data[\"name\"])"
   ]
  },
  {
   "cell_type": "code",
   "execution_count": 11,
   "id": "7f3381cb-5b5d-4e8f-8f11-4c1d9bcbb1e2",
   "metadata": {},
   "outputs": [
    {
     "name": "stdout",
     "output_type": "stream",
     "text": [
      "<class 'str'>\n"
     ]
    }
   ],
   "source": [
    "print(type(yinka_data[\"name\"]))"
   ]
  },
  {
   "cell_type": "code",
   "execution_count": 14,
   "id": "4976b2c1-9c18-4e0e-88cf-a35ae82e0e9f",
   "metadata": {},
   "outputs": [
    {
     "data": {
      "text/plain": [
       "'My name is yinka, i am 16 years old, i am currently a student is true about me and i belong to female gender'"
      ]
     },
     "execution_count": 14,
     "metadata": {},
     "output_type": "execute_result"
    }
   ],
   "source": [
    "(\"My name is yinka, i am 16 years old, i am currently a student is true about me and i belong to female gender\")"
   ]
  },
  {
   "cell_type": "code",
   "execution_count": 17,
   "id": "715bad2b-64dd-43c7-9350-ada1d3a01537",
   "metadata": {},
   "outputs": [
    {
     "name": "stdout",
     "output_type": "stream",
     "text": [
      "My name is yinka, i am 16 years old,i am currently a student is True about me and i belong to female gender\n"
     ]
    }
   ],
   "source": [
    "print(f\"My name is {yinka_data['name']}, i am {yinka_data['age']} years old,\\\n",
    "i am currently a student is {yinka_data['is_student']} about me \\\n",
    "and i belong to {yinka_data['gender']} gender\")"
   ]
  },
  {
   "cell_type": "code",
   "execution_count": 18,
   "id": "e5e90c21-ea55-464a-b948-4096b8029d90",
   "metadata": {},
   "outputs": [],
   "source": [
    "score = {\"maths\": 24, \"english\": 40}"
   ]
  },
  {
   "cell_type": "code",
   "execution_count": 19,
   "id": "a51df910-dee4-4b5c-be1e-412db1fdb27d",
   "metadata": {},
   "outputs": [
    {
     "name": "stdout",
     "output_type": "stream",
     "text": [
      "40\n"
     ]
    }
   ],
   "source": [
    "print(score[\"english\"])"
   ]
  },
  {
   "cell_type": "code",
   "execution_count": 21,
   "id": "87e91f30-8d61-441c-9e12-b4f6f5ca77d9",
   "metadata": {},
   "outputs": [
    {
     "name": "stdout",
     "output_type": "stream",
     "text": [
      "20\n"
     ]
    }
   ],
   "source": [
    "print(score[\"english\"]// 2)"
   ]
  },
  {
   "cell_type": "code",
   "execution_count": 22,
   "id": "c796be27-1f60-4360-922d-3edb351e1bf1",
   "metadata": {},
   "outputs": [],
   "source": [
    "new_score = round(score[\"english\"] / 2)"
   ]
  },
  {
   "cell_type": "code",
   "execution_count": 23,
   "id": "62b15533-f303-4738-b982-d5bf8edc5d93",
   "metadata": {},
   "outputs": [
    {
     "name": "stdout",
     "output_type": "stream",
     "text": [
      "20\n"
     ]
    }
   ],
   "source": [
    "print(new_score)"
   ]
  },
  {
   "cell_type": "code",
   "execution_count": 24,
   "id": "14894d2e-ee1a-4b3b-9712-22546fff1a83",
   "metadata": {},
   "outputs": [],
   "source": [
    "score = {\"maths\": 24, \"english\": 40}"
   ]
  },
  {
   "cell_type": "code",
   "execution_count": 25,
   "id": "9120ba9b-f4dd-4470-b819-9af5dc025bd4",
   "metadata": {},
   "outputs": [
    {
     "ename": "SyntaxError",
     "evalue": "unterminated string literal (detected at line 1) (913385527.py, line 1)",
     "output_type": "error",
     "traceback": [
      "\u001b[0;36m  Cell \u001b[0;32mIn[25], line 1\u001b[0;36m\u001b[0m\n\u001b[0;31m    print(score[\"mathss]\u001b[0m\n\u001b[0m                ^\u001b[0m\n\u001b[0;31mSyntaxError\u001b[0m\u001b[0;31m:\u001b[0m unterminated string literal (detected at line 1)\n"
     ]
    }
   ],
   "source": [
    "print(score[\"mathss]"
   ]
  },
  {
   "cell_type": "code",
   "execution_count": 27,
   "id": "bb6ff4b2-c99f-434a-ae38-3715083cfeb2",
   "metadata": {},
   "outputs": [
    {
     "name": "stdout",
     "output_type": "stream",
     "text": [
      "24\n"
     ]
    }
   ],
   "source": [
    "# get () method\n",
    "print(score.get(\"maths\"))"
   ]
  },
  {
   "cell_type": "code",
   "execution_count": 28,
   "id": "62977a1e-c33a-43a6-8de1-f051956f974e",
   "metadata": {},
   "outputs": [
    {
     "name": "stdout",
     "output_type": "stream",
     "text": [
      "None\n"
     ]
    }
   ],
   "source": [
    "print(score.get(\"literature\"))"
   ]
  },
  {
   "cell_type": "code",
   "execution_count": 29,
   "id": "f0c9d83b-3e19-41be-b220-efcbe60bfc68",
   "metadata": {},
   "outputs": [
    {
     "ename": "TypeError",
     "evalue": "'dict' object is not callable",
     "output_type": "error",
     "traceback": [
      "\u001b[0;31m---------------------------------------------------------------------------\u001b[0m",
      "\u001b[0;31mTypeError\u001b[0m                                 Traceback (most recent call last)",
      "Cell \u001b[0;32mIn[29], line 1\u001b[0m\n\u001b[0;32m----> 1\u001b[0m \u001b[38;5;28mprint\u001b[39m(\u001b[43mscore\u001b[49m\u001b[43m(\u001b[49m\u001b[38;5;124;43m\"\u001b[39;49m\u001b[38;5;124;43mliterature\u001b[39;49m\u001b[38;5;124;43m\"\u001b[39;49m\u001b[43m)\u001b[49m)\n",
      "\u001b[0;31mTypeError\u001b[0m: 'dict' object is not callable"
     ]
    }
   ],
   "source": [
    "print(score(\"literature\"))"
   ]
  },
  {
   "cell_type": "code",
   "execution_count": 30,
   "id": "98f23af7-3899-4ee4-8e03-6839788f0b45",
   "metadata": {},
   "outputs": [],
   "source": [
    "score = {\"maths\": 24, \"english\": 40}"
   ]
  },
  {
   "cell_type": "code",
   "execution_count": 31,
   "id": "14edeb22-a021-4ca4-92b1-ab4c02ff51e3",
   "metadata": {},
   "outputs": [
    {
     "name": "stdout",
     "output_type": "stream",
     "text": [
      "24\n"
     ]
    }
   ],
   "source": [
    "print(score.get(\"maths\", 34))"
   ]
  },
  {
   "cell_type": "code",
   "execution_count": 32,
   "id": "99b2d67b-f4ec-4947-80d7-0861fcf1db73",
   "metadata": {},
   "outputs": [],
   "source": [
    "students = {\"mayowa\": 22, \"chinyere\": 11, \"segun\": 23}"
   ]
  },
  {
   "cell_type": "code",
   "execution_count": 33,
   "id": "97de7c86-edbb-45b1-b155-f9522276c318",
   "metadata": {},
   "outputs": [
    {
     "name": "stdout",
     "output_type": "stream",
     "text": [
      "11\n"
     ]
    }
   ],
   "source": [
    "print(students.get(\"chinyere\"))"
   ]
  },
  {
   "cell_type": "code",
   "execution_count": 34,
   "id": "11a8c52b-0999-4623-8d2d-a186fb7d73fc",
   "metadata": {},
   "outputs": [
    {
     "name": "stdout",
     "output_type": "stream",
     "text": [
      "23\n"
     ]
    }
   ],
   "source": [
    "print(students.get(\"segun\"))"
   ]
  },
  {
   "cell_type": "code",
   "execution_count": 35,
   "id": "dc0f8644-aaed-481b-9be1-ee52b4a5c68f",
   "metadata": {},
   "outputs": [
    {
     "name": "stdout",
     "output_type": "stream",
     "text": [
      "None\n"
     ]
    }
   ],
   "source": [
    "print(students.get(\"22\"))"
   ]
  },
  {
   "cell_type": "code",
   "execution_count": 36,
   "id": "341ffd6e-a5e6-41eb-897d-1e3512858e99",
   "metadata": {},
   "outputs": [
    {
     "ename": "KeyError",
     "evalue": "'22'",
     "output_type": "error",
     "traceback": [
      "\u001b[0;31m---------------------------------------------------------------------------\u001b[0m",
      "\u001b[0;31mKeyError\u001b[0m                                  Traceback (most recent call last)",
      "Cell \u001b[0;32mIn[36], line 1\u001b[0m\n\u001b[0;32m----> 1\u001b[0m \u001b[38;5;28mprint\u001b[39m(\u001b[43mstudents\u001b[49m\u001b[43m[\u001b[49m\u001b[38;5;124;43m\"\u001b[39;49m\u001b[38;5;124;43m22\u001b[39;49m\u001b[38;5;124;43m\"\u001b[39;49m\u001b[43m]\u001b[49m)\n",
      "\u001b[0;31mKeyError\u001b[0m: '22'"
     ]
    }
   ],
   "source": [
    "print(students[\"22\"])"
   ]
  },
  {
   "cell_type": "code",
   "execution_count": 37,
   "id": "0550da75-bc82-4934-9c86-dd60d081edec",
   "metadata": {},
   "outputs": [],
   "source": [
    "students = {\"mayowa\": 22, \"chinyere\": 11, \"segun\": 23}"
   ]
  },
  {
   "cell_type": "code",
   "execution_count": 38,
   "id": "19705eaa-adff-4b1b-8c61-8fc824e9df47",
   "metadata": {},
   "outputs": [
    {
     "name": "stdout",
     "output_type": "stream",
     "text": [
      "3\n"
     ]
    }
   ],
   "source": [
    "print(len(students))"
   ]
  },
  {
   "cell_type": "code",
   "execution_count": 39,
   "id": "539a1071-0bee-46d3-8735-137b51584ca8",
   "metadata": {},
   "outputs": [
    {
     "name": "stdout",
     "output_type": "stream",
     "text": [
      "dict_keys(['mayowa', 'chinyere', 'segun'])\n"
     ]
    }
   ],
   "source": [
    "print(students.keys())"
   ]
  },
  {
   "cell_type": "code",
   "execution_count": 41,
   "id": "0ee39db9-c2ee-4adf-99e8-555ad8a5310c",
   "metadata": {},
   "outputs": [
    {
     "name": "stdout",
     "output_type": "stream",
     "text": [
      "dict_values([22, 11, 23])\n"
     ]
    }
   ],
   "source": [
    "print(students.values())"
   ]
  },
  {
   "cell_type": "code",
   "execution_count": 42,
   "id": "78440ea1-24b5-4733-a8e0-5167340758d1",
   "metadata": {},
   "outputs": [
    {
     "name": "stdout",
     "output_type": "stream",
     "text": [
      "dict_items([('mayowa', 22), ('chinyere', 11), ('segun', 23)])\n"
     ]
    }
   ],
   "source": [
    "print(students.items())"
   ]
  },
  {
   "cell_type": "code",
   "execution_count": 43,
   "id": "dae26080-0048-40a0-86b0-41eab578db97",
   "metadata": {},
   "outputs": [],
   "source": [
    "students = {\"mayowa\": 22, \"chinyere\": 11, \"segun\": 23}"
   ]
  },
  {
   "cell_type": "code",
   "execution_count": 44,
   "id": "445d747d-3535-4ad5-bc77-64b136c349c9",
   "metadata": {},
   "outputs": [],
   "source": [
    "students[\"mayowa\"] = 50"
   ]
  },
  {
   "cell_type": "code",
   "execution_count": 45,
   "id": "ca0898be-1116-4163-a689-6047158b7810",
   "metadata": {},
   "outputs": [
    {
     "name": "stdout",
     "output_type": "stream",
     "text": [
      "{'mayowa': 50, 'chinyere': 11, 'segun': 23}\n"
     ]
    }
   ],
   "source": [
    "print(students)"
   ]
  },
  {
   "cell_type": "code",
   "execution_count": 46,
   "id": "af7021ee-27d1-41ac-9901-7604926a06f9",
   "metadata": {},
   "outputs": [],
   "source": [
    "students[\"segun\"] = \"boy\""
   ]
  },
  {
   "cell_type": "code",
   "execution_count": 47,
   "id": "33cd38de-b7f0-42dc-85df-638c4f621650",
   "metadata": {},
   "outputs": [
    {
     "name": "stdout",
     "output_type": "stream",
     "text": [
      "{'mayowa': 50, 'chinyere': 11, 'segun': 'boy'}\n"
     ]
    }
   ],
   "source": [
    "print(students)"
   ]
  },
  {
   "cell_type": "code",
   "execution_count": 48,
   "id": "9f5f3f2f-0cbd-4941-8cf7-c23fdc78be8d",
   "metadata": {},
   "outputs": [],
   "source": [
    "students.update({\"chukwu\": 24})"
   ]
  },
  {
   "cell_type": "code",
   "execution_count": 49,
   "id": "7272cb78-382d-4c15-b80b-44bda8fc06f0",
   "metadata": {},
   "outputs": [
    {
     "name": "stdout",
     "output_type": "stream",
     "text": [
      "{'mayowa': 50, 'chinyere': 11, 'segun': 'boy', 'chukwu': 24}\n"
     ]
    }
   ],
   "source": [
    "print(students)"
   ]
  },
  {
   "cell_type": "code",
   "execution_count": 50,
   "id": "5fc290f7-ed81-4975-978a-3b64aaddcece",
   "metadata": {},
   "outputs": [
    {
     "data": {
      "text/plain": [
       "11"
      ]
     },
     "execution_count": 50,
     "metadata": {},
     "output_type": "execute_result"
    }
   ],
   "source": [
    "students.pop(\"chinyere\")"
   ]
  },
  {
   "cell_type": "code",
   "execution_count": 51,
   "id": "8f0f4739-6143-41cc-a08d-d29a7dc02d1e",
   "metadata": {},
   "outputs": [
    {
     "name": "stdout",
     "output_type": "stream",
     "text": [
      "{'mayowa': 50, 'segun': 'boy', 'chukwu': 24}\n"
     ]
    }
   ],
   "source": [
    "print(students)"
   ]
  },
  {
   "cell_type": "code",
   "execution_count": null,
   "id": "42b1121f-138c-4701-8dec-3c36f5f76b5c",
   "metadata": {},
   "outputs": [],
   "source": []
  }
 ],
 "metadata": {
  "kernelspec": {
   "display_name": "Python 3 (ipykernel)",
   "language": "python",
   "name": "python3"
  },
  "language_info": {
   "codemirror_mode": {
    "name": "ipython",
    "version": 3
   },
   "file_extension": ".py",
   "mimetype": "text/x-python",
   "name": "python",
   "nbconvert_exporter": "python",
   "pygments_lexer": "ipython3",
   "version": "3.12.1"
  }
 },
 "nbformat": 4,
 "nbformat_minor": 5
}
