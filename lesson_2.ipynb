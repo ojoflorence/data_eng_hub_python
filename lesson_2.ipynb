{
 "cells": [
  {
   "cell_type": "markdown",
   "id": "a07592c6-4ebc-408f-b66b-51414d4d884a",
   "metadata": {},
   "source": [
    "## Python Data Structures"
   ]
  },
  {
   "cell_type": "markdown",
   "id": "72eca2f8-e8fd-4aa8-9896-272b9d4accb6",
   "metadata": {},
   "source": [
    "- List\n",
    "- Dictionary\n",
    "- Tuple\n",
    "- Set"
   ]
  },
  {
   "cell_type": "markdown",
   "id": "32136bb9-7fb0-48e9-a1bc-7eea62401e9f",
   "metadata": {},
   "source": [
    "##### List"
   ]
  },
  {
   "cell_type": "code",
   "execution_count": 6,
   "id": "09717d34-efcb-498d-bbe9-c528a204e0fa",
   "metadata": {},
   "outputs": [],
   "source": [
    "students = [\"yinka\", \"mayowa\", \"chukwu\", \"amanda\", \"chinyere\", \"joachim\"]"
   ]
  },
  {
   "cell_type": "code",
   "execution_count": 7,
   "id": "8db072b7-ff45-467b-9fe0-76c12c728c83",
   "metadata": {},
   "outputs": [
    {
     "name": "stdout",
     "output_type": "stream",
     "text": [
      "['yinka', 'mayowa', 'chukwu', 'amanda', 'chinyere', 'joachim']\n"
     ]
    }
   ],
   "source": [
    "print(students)"
   ]
  },
  {
   "cell_type": "code",
   "execution_count": 8,
   "id": "e212d491-12b7-41b6-8aae-9f853693d35e",
   "metadata": {},
   "outputs": [
    {
     "name": "stdout",
     "output_type": "stream",
     "text": [
      "<class 'list'>\n"
     ]
    }
   ],
   "source": [
    "print(type(students))"
   ]
  },
  {
   "cell_type": "code",
   "execution_count": 9,
   "id": "b32c20b7-d100-48b8-92a0-5e81b7311aa2",
   "metadata": {},
   "outputs": [],
   "source": [
    "age = [23, 44, 45, 26, 32, 35]"
   ]
  },
  {
   "cell_type": "code",
   "execution_count": 10,
   "id": "4759b286-9774-41a1-b1e8-ee7ffdc4abba",
   "metadata": {},
   "outputs": [
    {
     "name": "stdout",
     "output_type": "stream",
     "text": [
      "<class 'list'>\n"
     ]
    }
   ],
   "source": [
    "print(type(age))"
   ]
  },
  {
   "cell_type": "code",
   "execution_count": 11,
   "id": "10cc7bdc-ab80-4f97-8ae1-5c4a5b2ca637",
   "metadata": {},
   "outputs": [],
   "source": [
    "yinka_info = [\"yinka\", \"1.56\", \"16\", \"data engineer\", True]"
   ]
  },
  {
   "cell_type": "code",
   "execution_count": 12,
   "id": "b4dee91b-9814-4aac-9de0-359af43cbd55",
   "metadata": {},
   "outputs": [
    {
     "name": "stdout",
     "output_type": "stream",
     "text": [
      "<class 'list'>\n"
     ]
    }
   ],
   "source": [
    "print(type(yinka_info))"
   ]
  },
  {
   "cell_type": "markdown",
   "id": "46c8d9af-eb06-4ae0-a816-dc5232687503",
   "metadata": {},
   "source": [
    "### index/position"
   ]
  },
  {
   "cell_type": "code",
   "execution_count": null,
   "id": "47e9ba4e-b40a-4b13-9008-1de915ebfec3",
   "metadata": {},
   "outputs": [],
   "source": [
    "Y I M I K A\n",
    "1 2 3 4 5 6  # human numbering\n",
    "0 1 2 3 4 5  # python numbering"
   ]
  },
  {
   "cell_type": "code",
   "execution_count": 13,
   "id": "ee844b0b-8eb9-4ef9-86e8-f61b21c032f4",
   "metadata": {},
   "outputs": [],
   "source": [
    "cars = [\"toyota\", \"bmw\", \"benz\", \"honda\"] # items in a list is called element"
   ]
  },
  {
   "cell_type": "code",
   "execution_count": 14,
   "id": "086b6bc7-0a3e-4609-a929-ed72c541455e",
   "metadata": {},
   "outputs": [
    {
     "name": "stdout",
     "output_type": "stream",
     "text": [
      "bmw\n"
     ]
    }
   ],
   "source": [
    "print(cars[1])"
   ]
  },
  {
   "cell_type": "code",
   "execution_count": 15,
   "id": "c6daaf74-c695-48a2-892c-0c1459153cc9",
   "metadata": {},
   "outputs": [
    {
     "name": "stdout",
     "output_type": "stream",
     "text": [
      "benz\n"
     ]
    }
   ],
   "source": [
    "print(cars[2])"
   ]
  },
  {
   "cell_type": "code",
   "execution_count": 16,
   "id": "a47270be-e582-4380-99dc-4543ea5c7222",
   "metadata": {},
   "outputs": [
    {
     "name": "stdout",
     "output_type": "stream",
     "text": [
      "honda\n"
     ]
    }
   ],
   "source": [
    "print(cars[3])"
   ]
  },
  {
   "cell_type": "code",
   "execution_count": 17,
   "id": "45ffd15e-9879-4ee1-8bdd-46ac791a5061",
   "metadata": {},
   "outputs": [
    {
     "name": "stdout",
     "output_type": "stream",
     "text": [
      "toyota\n"
     ]
    }
   ],
   "source": [
    "print(cars[0])"
   ]
  },
  {
   "cell_type": "code",
   "execution_count": 19,
   "id": "802aa137-4dbe-413b-915d-10d0a19aba71",
   "metadata": {},
   "outputs": [
    {
     "ename": "IndexError",
     "evalue": "list index out of range",
     "output_type": "error",
     "traceback": [
      "\u001b[0;31m---------------------------------------------------------------------------\u001b[0m",
      "\u001b[0;31mIndexError\u001b[0m                                Traceback (most recent call last)",
      "Cell \u001b[0;32mIn[19], line 1\u001b[0m\n\u001b[0;32m----> 1\u001b[0m \u001b[38;5;28mprint\u001b[39m(\u001b[43mcars\u001b[49m\u001b[43m[\u001b[49m\u001b[38;5;241;43m4\u001b[39;49m\u001b[43m]\u001b[49m) \u001b[38;5;66;03m# 0bviosly failed due to list doesn't have index/positioin 4 \u001b[39;00m\n",
      "\u001b[0;31mIndexError\u001b[0m: list index out of range"
     ]
    }
   ],
   "source": [
    "print(cars[4]) # 0bviosly failed due to list doesn't have index/positioin 4 "
   ]
  },
  {
   "cell_type": "code",
   "execution_count": 27,
   "id": "b3ec69a2-1622-4230-84cf-45ba58404c05",
   "metadata": {},
   "outputs": [],
   "source": [
    "cars = [\"toyota\", \"bmw\", \"benz\", \"honda\"] # we have four elements in the list but position starts from zero"
   ]
  },
  {
   "cell_type": "code",
   "execution_count": 24,
   "id": "3989d8b3-192c-486f-8a5b-e91229b8205b",
   "metadata": {},
   "outputs": [
    {
     "name": "stdout",
     "output_type": "stream",
     "text": [
      "honda\n"
     ]
    }
   ],
   "source": [
    "print(cars[-1])  # only to retrieve the last element in the list"
   ]
  },
  {
   "cell_type": "code",
   "execution_count": 29,
   "id": "819a383c-61f6-48c0-8a29-d62a5bdbca2d",
   "metadata": {},
   "outputs": [
    {
     "name": "stdout",
     "output_type": "stream",
     "text": [
      "4\n"
     ]
    }
   ],
   "source": [
    "print(len(cars)) # len is to know number of element"
   ]
  },
  {
   "cell_type": "code",
   "execution_count": 32,
   "id": "d756196a-e7b4-4676-ad7c-83bf59a359d7",
   "metadata": {},
   "outputs": [],
   "source": [
    "name = \"yimika\""
   ]
  },
  {
   "cell_type": "code",
   "execution_count": 33,
   "id": "68f897ac-5975-4cac-9bfe-8b99c3dfe138",
   "metadata": {},
   "outputs": [
    {
     "name": "stdout",
     "output_type": "stream",
     "text": [
      "6\n"
     ]
    }
   ],
   "source": [
    "print(len(name))"
   ]
  },
  {
   "cell_type": "code",
   "execution_count": 36,
   "id": "216949be-2141-47f2-af06-5bc650788193",
   "metadata": {},
   "outputs": [],
   "source": [
    "age = 45 "
   ]
  },
  {
   "cell_type": "code",
   "execution_count": 35,
   "id": "490e50e7-2dce-4772-9762-db65029f9e25",
   "metadata": {},
   "outputs": [
    {
     "ename": "TypeError",
     "evalue": "object of type 'int' has no len()",
     "output_type": "error",
     "traceback": [
      "\u001b[0;31m---------------------------------------------------------------------------\u001b[0m",
      "\u001b[0;31mTypeError\u001b[0m                                 Traceback (most recent call last)",
      "Cell \u001b[0;32mIn[35], line 1\u001b[0m\n\u001b[0;32m----> 1\u001b[0m \u001b[38;5;28mprint\u001b[39m(\u001b[38;5;28;43mlen\u001b[39;49m\u001b[43m(\u001b[49m\u001b[43mage\u001b[49m\u001b[43m)\u001b[49m)\n",
      "\u001b[0;31mTypeError\u001b[0m: object of type 'int' has no len()"
     ]
    }
   ],
   "source": [
    "print(len(age))"
   ]
  },
  {
   "cell_type": "code",
   "execution_count": 37,
   "id": "864dc43b-385d-401f-8bed-7138992aabd6",
   "metadata": {},
   "outputs": [],
   "source": [
    "bad_age_define = \"45\" "
   ]
  },
  {
   "cell_type": "code",
   "execution_count": 38,
   "id": "c8a38600-2645-4ed8-9b3e-78cec1a7d00c",
   "metadata": {},
   "outputs": [
    {
     "name": "stdout",
     "output_type": "stream",
     "text": [
      "2\n"
     ]
    }
   ],
   "source": [
    "print(len(bad_age_define))"
   ]
  },
  {
   "cell_type": "code",
   "execution_count": 39,
   "id": "ea9ec17c-1195-43d4-a5cb-3d0e3d29298c",
   "metadata": {},
   "outputs": [],
   "source": [
    "list = [\" \", \"25\", 30, \"yellow\"]"
   ]
  },
  {
   "cell_type": "code",
   "execution_count": 42,
   "id": "2b70f85a-917b-44da-acf0-af8da9331e12",
   "metadata": {},
   "outputs": [
    {
     "name": "stdout",
     "output_type": "stream",
     "text": [
      " \n"
     ]
    }
   ],
   "source": [
    "print(list[0])"
   ]
  },
  {
   "cell_type": "code",
   "execution_count": null,
   "id": "4d1f20ca-db33-44d1-9b45-ee48468ffd7f",
   "metadata": {},
   "outputs": [],
   "source": []
  }
 ],
 "metadata": {
  "kernelspec": {
   "display_name": "Python 3 (ipykernel)",
   "language": "python",
   "name": "python3"
  },
  "language_info": {
   "codemirror_mode": {
    "name": "ipython",
    "version": 3
   },
   "file_extension": ".py",
   "mimetype": "text/x-python",
   "name": "python",
   "nbconvert_exporter": "python",
   "pygments_lexer": "ipython3",
   "version": "3.12.1"
  }
 },
 "nbformat": 4,
 "nbformat_minor": 5
}
