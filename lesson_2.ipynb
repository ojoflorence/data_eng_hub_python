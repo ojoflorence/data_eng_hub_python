{
 "cells": [
  {
   "cell_type": "markdown",
   "id": "a07592c6-4ebc-408f-b66b-51414d4d884a",
   "metadata": {},
   "source": [
    "## Python Data Structures"
   ]
  },
  {
   "cell_type": "markdown",
   "id": "72eca2f8-e8fd-4aa8-9896-272b9d4accb6",
   "metadata": {},
   "source": [
    "- List\n",
    "- Dictionary\n",
    "- Tuple\n",
    "- Set"
   ]
  },
  {
   "cell_type": "markdown",
   "id": "32136bb9-7fb0-48e9-a1bc-7eea62401e9f",
   "metadata": {},
   "source": [
    "##### List"
   ]
  },
  {
   "cell_type": "code",
   "execution_count": 6,
   "id": "09717d34-efcb-498d-bbe9-c528a204e0fa",
   "metadata": {},
   "outputs": [],
   "source": [
    "students = [\"yinka\", \"mayowa\", \"chukwu\", \"amanda\", \"chinyere\", \"joachim\"]"
   ]
  },
  {
   "cell_type": "code",
   "execution_count": 7,
   "id": "8db072b7-ff45-467b-9fe0-76c12c728c83",
   "metadata": {},
   "outputs": [
    {
     "name": "stdout",
     "output_type": "stream",
     "text": [
      "['yinka', 'mayowa', 'chukwu', 'amanda', 'chinyere', 'joachim']\n"
     ]
    }
   ],
   "source": [
    "print(students)"
   ]
  },
  {
   "cell_type": "code",
   "execution_count": 8,
   "id": "e212d491-12b7-41b6-8aae-9f853693d35e",
   "metadata": {},
   "outputs": [
    {
     "name": "stdout",
     "output_type": "stream",
     "text": [
      "<class 'list'>\n"
     ]
    }
   ],
   "source": [
    "print(type(students))"
   ]
  },
  {
   "cell_type": "code",
   "execution_count": 9,
   "id": "b32c20b7-d100-48b8-92a0-5e81b7311aa2",
   "metadata": {},
   "outputs": [],
   "source": [
    "age = [23, 44, 45, 26, 32, 35]"
   ]
  },
  {
   "cell_type": "code",
   "execution_count": 10,
   "id": "4759b286-9774-41a1-b1e8-ee7ffdc4abba",
   "metadata": {},
   "outputs": [
    {
     "name": "stdout",
     "output_type": "stream",
     "text": [
      "<class 'list'>\n"
     ]
    }
   ],
   "source": [
    "print(type(age))"
   ]
  },
  {
   "cell_type": "code",
   "execution_count": 11,
   "id": "10cc7bdc-ab80-4f97-8ae1-5c4a5b2ca637",
   "metadata": {},
   "outputs": [],
   "source": [
    "yinka_info = [\"yinka\", \"1.56\", \"16\", \"data engineer\", True]"
   ]
  },
  {
   "cell_type": "code",
   "execution_count": 12,
   "id": "b4dee91b-9814-4aac-9de0-359af43cbd55",
   "metadata": {},
   "outputs": [
    {
     "name": "stdout",
     "output_type": "stream",
     "text": [
      "<class 'list'>\n"
     ]
    }
   ],
   "source": [
    "print(type(yinka_info))"
   ]
  },
  {
   "cell_type": "markdown",
   "id": "46c8d9af-eb06-4ae0-a816-dc5232687503",
   "metadata": {},
   "source": [
    "### index/position"
   ]
  },
  {
   "cell_type": "code",
   "execution_count": null,
   "id": "47e9ba4e-b40a-4b13-9008-1de915ebfec3",
   "metadata": {},
   "outputs": [],
   "source": [
    "Y I M I K A\n",
    "1 2 3 4 5 6  # human numbering\n",
    "0 1 2 3 4 5  # python numbering"
   ]
  },
  {
   "cell_type": "code",
   "execution_count": 13,
   "id": "ee844b0b-8eb9-4ef9-86e8-f61b21c032f4",
   "metadata": {},
   "outputs": [],
   "source": [
    "cars = [\"toyota\", \"bmw\", \"benz\", \"honda\"] # items in a list is called element"
   ]
  },
  {
   "cell_type": "code",
   "execution_count": 14,
   "id": "086b6bc7-0a3e-4609-a929-ed72c541455e",
   "metadata": {},
   "outputs": [
    {
     "name": "stdout",
     "output_type": "stream",
     "text": [
      "bmw\n"
     ]
    }
   ],
   "source": [
    "print(cars[1])"
   ]
  },
  {
   "cell_type": "code",
   "execution_count": 15,
   "id": "c6daaf74-c695-48a2-892c-0c1459153cc9",
   "metadata": {},
   "outputs": [
    {
     "name": "stdout",
     "output_type": "stream",
     "text": [
      "benz\n"
     ]
    }
   ],
   "source": [
    "print(cars[2])"
   ]
  },
  {
   "cell_type": "code",
   "execution_count": 16,
   "id": "a47270be-e582-4380-99dc-4543ea5c7222",
   "metadata": {},
   "outputs": [
    {
     "name": "stdout",
     "output_type": "stream",
     "text": [
      "honda\n"
     ]
    }
   ],
   "source": [
    "print(cars[3])"
   ]
  },
  {
   "cell_type": "code",
   "execution_count": 17,
   "id": "45ffd15e-9879-4ee1-8bdd-46ac791a5061",
   "metadata": {},
   "outputs": [
    {
     "name": "stdout",
     "output_type": "stream",
     "text": [
      "toyota\n"
     ]
    }
   ],
   "source": [
    "print(cars[0])"
   ]
  },
  {
   "cell_type": "code",
   "execution_count": 19,
   "id": "802aa137-4dbe-413b-915d-10d0a19aba71",
   "metadata": {},
   "outputs": [
    {
     "ename": "IndexError",
     "evalue": "list index out of range",
     "output_type": "error",
     "traceback": [
      "\u001b[0;31m---------------------------------------------------------------------------\u001b[0m",
      "\u001b[0;31mIndexError\u001b[0m                                Traceback (most recent call last)",
      "Cell \u001b[0;32mIn[19], line 1\u001b[0m\n\u001b[0;32m----> 1\u001b[0m \u001b[38;5;28mprint\u001b[39m(\u001b[43mcars\u001b[49m\u001b[43m[\u001b[49m\u001b[38;5;241;43m4\u001b[39;49m\u001b[43m]\u001b[49m) \u001b[38;5;66;03m# 0bviosly failed due to list doesn't have index/positioin 4 \u001b[39;00m\n",
      "\u001b[0;31mIndexError\u001b[0m: list index out of range"
     ]
    }
   ],
   "source": [
    "print(cars[4]) # 0bviosly failed due to list doesn't have index/positioin 4 "
   ]
  },
  {
   "cell_type": "code",
   "execution_count": 27,
   "id": "b3ec69a2-1622-4230-84cf-45ba58404c05",
   "metadata": {},
   "outputs": [],
   "source": [
    "cars = [\"toyota\", \"bmw\", \"benz\", \"honda\"] # we have four elements in the list but position starts from zero"
   ]
  },
  {
   "cell_type": "code",
   "execution_count": 24,
   "id": "3989d8b3-192c-486f-8a5b-e91229b8205b",
   "metadata": {},
   "outputs": [
    {
     "name": "stdout",
     "output_type": "stream",
     "text": [
      "honda\n"
     ]
    }
   ],
   "source": [
    "print(cars[-1])  # only to retrieve the last element in the list"
   ]
  },
  {
   "cell_type": "code",
   "execution_count": 29,
   "id": "819a383c-61f6-48c0-8a29-d62a5bdbca2d",
   "metadata": {},
   "outputs": [
    {
     "name": "stdout",
     "output_type": "stream",
     "text": [
      "4\n"
     ]
    }
   ],
   "source": [
    "print(len(cars)) # len is to know number of element"
   ]
  },
  {
   "cell_type": "code",
   "execution_count": 32,
   "id": "d756196a-e7b4-4676-ad7c-83bf59a359d7",
   "metadata": {},
   "outputs": [],
   "source": [
    "name = \"yimika\""
   ]
  },
  {
   "cell_type": "code",
   "execution_count": 33,
   "id": "68f897ac-5975-4cac-9bfe-8b99c3dfe138",
   "metadata": {},
   "outputs": [
    {
     "name": "stdout",
     "output_type": "stream",
     "text": [
      "6\n"
     ]
    }
   ],
   "source": [
    "print(len(name))"
   ]
  },
  {
   "cell_type": "code",
   "execution_count": 36,
   "id": "216949be-2141-47f2-af06-5bc650788193",
   "metadata": {},
   "outputs": [],
   "source": [
    "age = 45 "
   ]
  },
  {
   "cell_type": "code",
   "execution_count": 35,
   "id": "490e50e7-2dce-4772-9762-db65029f9e25",
   "metadata": {},
   "outputs": [
    {
     "ename": "TypeError",
     "evalue": "object of type 'int' has no len()",
     "output_type": "error",
     "traceback": [
      "\u001b[0;31m---------------------------------------------------------------------------\u001b[0m",
      "\u001b[0;31mTypeError\u001b[0m                                 Traceback (most recent call last)",
      "Cell \u001b[0;32mIn[35], line 1\u001b[0m\n\u001b[0;32m----> 1\u001b[0m \u001b[38;5;28mprint\u001b[39m(\u001b[38;5;28;43mlen\u001b[39;49m\u001b[43m(\u001b[49m\u001b[43mage\u001b[49m\u001b[43m)\u001b[49m)\n",
      "\u001b[0;31mTypeError\u001b[0m: object of type 'int' has no len()"
     ]
    }
   ],
   "source": [
    "print(len(age))"
   ]
  },
  {
   "cell_type": "code",
   "execution_count": 37,
   "id": "864dc43b-385d-401f-8bed-7138992aabd6",
   "metadata": {},
   "outputs": [],
   "source": [
    "bad_age_define = \"45\" "
   ]
  },
  {
   "cell_type": "code",
   "execution_count": 38,
   "id": "c8a38600-2645-4ed8-9b3e-78cec1a7d00c",
   "metadata": {},
   "outputs": [
    {
     "name": "stdout",
     "output_type": "stream",
     "text": [
      "2\n"
     ]
    }
   ],
   "source": [
    "print(len(bad_age_define))"
   ]
  },
  {
   "cell_type": "code",
   "execution_count": 39,
   "id": "ea9ec17c-1195-43d4-a5cb-3d0e3d29298c",
   "metadata": {},
   "outputs": [],
   "source": [
    "list = [\" \", \"25\", 30, \"yellow\"]"
   ]
  },
  {
   "cell_type": "code",
   "execution_count": 42,
   "id": "2b70f85a-917b-44da-acf0-af8da9331e12",
   "metadata": {},
   "outputs": [
    {
     "name": "stdout",
     "output_type": "stream",
     "text": [
      " \n"
     ]
    }
   ],
   "source": [
    "print(list[0])"
   ]
  },
  {
   "cell_type": "markdown",
   "id": "759428ce-667a-48da-84d4-a3d56aae547c",
   "metadata": {},
   "source": [
    "### Slicing"
   ]
  },
  {
   "cell_type": "code",
   "execution_count": 50,
   "id": "bf318e1f-c787-4008-83ef-bba865097ea7",
   "metadata": {},
   "outputs": [],
   "source": [
    "random_list = [1, 2, 5 , 10, 2] # list can include duplicate and they won't interfere with each other"
   ]
  },
  {
   "cell_type": "code",
   "execution_count": 51,
   "id": "82d9e735-4fff-4334-8eb0-dbedd40bfee3",
   "metadata": {},
   "outputs": [
    {
     "name": "stdout",
     "output_type": "stream",
     "text": [
      "[1, 2, 5]\n"
     ]
    }
   ],
   "source": [
    "print(random_list[0:3]) # when we are doing slicing we should always add 1 "
   ]
  },
  {
   "cell_type": "code",
   "execution_count": 53,
   "id": "e199701f-8ab8-4ee5-8ff6-b654bfebe71a",
   "metadata": {},
   "outputs": [
    {
     "name": "stdout",
     "output_type": "stream",
     "text": [
      "[1, 2, 5]\n"
     ]
    }
   ],
   "source": [
    "print(random_list[:3]) # second method of slicing"
   ]
  },
  {
   "cell_type": "code",
   "execution_count": 54,
   "id": "50f44b88-fff8-4972-8594-73bc3a892c38",
   "metadata": {},
   "outputs": [
    {
     "name": "stdout",
     "output_type": "stream",
     "text": [
      "[1, 2, 5, 10]\n"
     ]
    }
   ],
   "source": [
    "print(random_list[:4])"
   ]
  },
  {
   "cell_type": "code",
   "execution_count": 55,
   "id": "5af14da8-e5ac-42e2-b95a-b4deab69b5df",
   "metadata": {},
   "outputs": [
    {
     "name": "stdout",
     "output_type": "stream",
     "text": [
      "[5, 10, 2]\n"
     ]
    }
   ],
   "source": [
    "print(random_list[2:])"
   ]
  },
  {
   "cell_type": "code",
   "execution_count": 56,
   "id": "13fa55af-e698-4da7-a6b2-04a02ee25ac3",
   "metadata": {},
   "outputs": [
    {
     "name": "stdout",
     "output_type": "stream",
     "text": [
      "[5, 10, 2]\n"
     ]
    }
   ],
   "source": [
    "print(random_list[2:])"
   ]
  },
  {
   "cell_type": "code",
   "execution_count": 57,
   "id": "192bd268-8a68-430d-9c3a-aa687e133659",
   "metadata": {},
   "outputs": [],
   "source": [
    "name = \"chinyere the boss lady\""
   ]
  },
  {
   "cell_type": "code",
   "execution_count": 58,
   "id": "3053a315-a4ea-4026-ab9a-c0313371b219",
   "metadata": {},
   "outputs": [
    {
     "name": "stdout",
     "output_type": "stream",
     "text": [
      "22\n"
     ]
    }
   ],
   "source": [
    "print(len(name))"
   ]
  },
  {
   "cell_type": "code",
   "execution_count": 59,
   "id": "8657bc29-7add-46d8-84d6-b6747580d75f",
   "metadata": {},
   "outputs": [
    {
     "name": "stdout",
     "output_type": "stream",
     "text": [
      "chinyere\n"
     ]
    }
   ],
   "source": [
    "print(name[0:8])"
   ]
  },
  {
   "cell_type": "markdown",
   "id": "6f5a3afe-f425-4d37-9b2f-dd0c66e93098",
   "metadata": {},
   "source": [
    "### Element changing"
   ]
  },
  {
   "cell_type": "code",
   "execution_count": 60,
   "id": "00049fb9-2410-4437-b35a-809822164066",
   "metadata": {},
   "outputs": [],
   "source": [
    "num = [1, 4, 2]"
   ]
  },
  {
   "cell_type": "code",
   "execution_count": 61,
   "id": "10cab09d-0bcf-43d9-abd9-499f66e38ef2",
   "metadata": {},
   "outputs": [
    {
     "name": "stdout",
     "output_type": "stream",
     "text": [
      "1\n"
     ]
    }
   ],
   "source": [
    "print(num[0])"
   ]
  },
  {
   "cell_type": "code",
   "execution_count": 62,
   "id": "71f2c65a-968e-4ab0-916d-df81c05d0a79",
   "metadata": {},
   "outputs": [],
   "source": [
    "num[0] = 10"
   ]
  },
  {
   "cell_type": "code",
   "execution_count": 63,
   "id": "afdca915-7941-41c5-9fe9-193b16d929d0",
   "metadata": {},
   "outputs": [
    {
     "name": "stdout",
     "output_type": "stream",
     "text": [
      "[10, 4, 2]\n"
     ]
    }
   ],
   "source": [
    "print(num)"
   ]
  },
  {
   "cell_type": "code",
   "execution_count": 64,
   "id": "064775f7-8ef0-4ca8-8a63-33db6576c0f2",
   "metadata": {},
   "outputs": [],
   "source": [
    "num[-1] = 20"
   ]
  },
  {
   "cell_type": "code",
   "execution_count": 65,
   "id": "049aa282-54d6-4ab3-8f5a-bcb3ac59318d",
   "metadata": {},
   "outputs": [
    {
     "name": "stdout",
     "output_type": "stream",
     "text": [
      "[10, 4, 20]\n"
     ]
    }
   ],
   "source": [
    "print(num)"
   ]
  },
  {
   "cell_type": "markdown",
   "id": "302b4eb8-c4e2-4231-b295-a5b3c4e1b12b",
   "metadata": {},
   "source": [
    "### Adding elements (append)"
   ]
  },
  {
   "cell_type": "code",
   "execution_count": 66,
   "id": "31f58098-dabf-4db5-90e7-967f11e3a25c",
   "metadata": {},
   "outputs": [],
   "source": [
    "fruits = [\"apple\", \"banana\", \"mango\"]"
   ]
  },
  {
   "cell_type": "code",
   "execution_count": 67,
   "id": "1d551ab3-8840-46b3-942f-2088a525335d",
   "metadata": {},
   "outputs": [],
   "source": [
    "fruits.append(\"cherry\")"
   ]
  },
  {
   "cell_type": "code",
   "execution_count": 68,
   "id": "ddb48d36-c254-4625-a1f6-1fdde3886f26",
   "metadata": {},
   "outputs": [
    {
     "name": "stdout",
     "output_type": "stream",
     "text": [
      "['apple', 'banana', 'mango', 'cherry']\n"
     ]
    }
   ],
   "source": [
    "print(fruits)"
   ]
  },
  {
   "cell_type": "code",
   "execution_count": 69,
   "id": "7eadbacb-9e4d-4f96-ada6-954cfc51c6a8",
   "metadata": {},
   "outputs": [],
   "source": [
    "cart = []"
   ]
  },
  {
   "cell_type": "code",
   "execution_count": 70,
   "id": "67060df9-f78e-4af4-a3c8-1d44daa70b10",
   "metadata": {},
   "outputs": [
    {
     "name": "stdout",
     "output_type": "stream",
     "text": [
      "<class 'list'>\n"
     ]
    }
   ],
   "source": [
    "print(type(cart))"
   ]
  },
  {
   "cell_type": "code",
   "execution_count": 71,
   "id": "360211ee-9808-47e0-97eb-9d12b7420f79",
   "metadata": {},
   "outputs": [],
   "source": [
    "cart.append(\"shiny leather jacket\")"
   ]
  },
  {
   "cell_type": "code",
   "execution_count": 72,
   "id": "cb2f842a-b503-420d-8a86-e1f29c7638c0",
   "metadata": {},
   "outputs": [
    {
     "name": "stdout",
     "output_type": "stream",
     "text": [
      "['shiny leather jacket']\n"
     ]
    }
   ],
   "source": [
    "print(cart)"
   ]
  },
  {
   "cell_type": "code",
   "execution_count": 73,
   "id": "66f4e48c-e0fb-4f98-91ae-5b3e3fca29c4",
   "metadata": {},
   "outputs": [
    {
     "ename": "TypeError",
     "evalue": "list.append() takes exactly one argument (2 given)",
     "output_type": "error",
     "traceback": [
      "\u001b[0;31m---------------------------------------------------------------------------\u001b[0m",
      "\u001b[0;31mTypeError\u001b[0m                                 Traceback (most recent call last)",
      "Cell \u001b[0;32mIn[73], line 1\u001b[0m\n\u001b[0;32m----> 1\u001b[0m \u001b[43mcart\u001b[49m\u001b[38;5;241;43m.\u001b[39;49m\u001b[43mappend\u001b[49m\u001b[43m(\u001b[49m\u001b[38;5;124;43m\"\u001b[39;49m\u001b[38;5;124;43mjeans\u001b[39;49m\u001b[38;5;124;43m\"\u001b[39;49m\u001b[43m,\u001b[49m\u001b[43m \u001b[49m\u001b[38;5;124;43m\"\u001b[39;49m\u001b[38;5;124;43mshirt\u001b[39;49m\u001b[38;5;124;43m\"\u001b[39;49m\u001b[43m)\u001b[49m\n",
      "\u001b[0;31mTypeError\u001b[0m: list.append() takes exactly one argument (2 given)"
     ]
    }
   ],
   "source": [
    "cart.append(\"jeans\", \"shirt\")"
   ]
  },
  {
   "cell_type": "code",
   "execution_count": 74,
   "id": "1c7cbdc8-4045-4c4a-a85a-765e27e29e98",
   "metadata": {},
   "outputs": [
    {
     "name": "stdout",
     "output_type": "stream",
     "text": [
      "['shiny leather jacket']\n"
     ]
    }
   ],
   "source": [
    "print(cart)"
   ]
  },
  {
   "cell_type": "code",
   "execution_count": 76,
   "id": "d8761c39-c2a7-417e-b755-eb9f3c7c7022",
   "metadata": {},
   "outputs": [],
   "source": [
    "cars = [\"bmw\", \"benz\"]"
   ]
  },
  {
   "cell_type": "code",
   "execution_count": 78,
   "id": "7d5c8293-389a-4e29-a3e7-b138b086600e",
   "metadata": {},
   "outputs": [],
   "source": [
    "cars.remove(\"benz\")"
   ]
  },
  {
   "cell_type": "code",
   "execution_count": 79,
   "id": "53ace6b9-f8b1-46f8-91f7-8ff176b78aed",
   "metadata": {},
   "outputs": [
    {
     "name": "stdout",
     "output_type": "stream",
     "text": [
      "['bmw']\n"
     ]
    }
   ],
   "source": [
    "print(cars)"
   ]
  },
  {
   "cell_type": "code",
   "execution_count": 80,
   "id": "1536adee-ad2a-4ba2-9faa-97904268e92a",
   "metadata": {},
   "outputs": [
    {
     "ename": "ValueError",
     "evalue": "list.remove(x): x not in list",
     "output_type": "error",
     "traceback": [
      "\u001b[0;31m---------------------------------------------------------------------------\u001b[0m",
      "\u001b[0;31mValueError\u001b[0m                                Traceback (most recent call last)",
      "Cell \u001b[0;32mIn[80], line 1\u001b[0m\n\u001b[0;32m----> 1\u001b[0m \u001b[43mcars\u001b[49m\u001b[38;5;241;43m.\u001b[39;49m\u001b[43mremove\u001b[49m\u001b[43m(\u001b[49m\u001b[38;5;124;43m\"\u001b[39;49m\u001b[38;5;124;43mmayowa\u001b[39;49m\u001b[38;5;124;43m\"\u001b[39;49m\u001b[43m)\u001b[49m\n",
      "\u001b[0;31mValueError\u001b[0m: list.remove(x): x not in list"
     ]
    }
   ],
   "source": [
    "cars.remove(\"mayowa\")"
   ]
  },
  {
   "cell_type": "markdown",
   "id": "b6344db1-012b-459f-84c3-9c86b0a7b0d7",
   "metadata": {},
   "source": [
    "#### Sorting elements"
   ]
  },
  {
   "cell_type": "code",
   "execution_count": 81,
   "id": "e90687ab-7f3f-4f80-b734-80f258aa1c58",
   "metadata": {},
   "outputs": [],
   "source": [
    "alphabets = [\"e\", \"b\", \"a\", \"c\", \"d\"]"
   ]
  },
  {
   "cell_type": "code",
   "execution_count": 83,
   "id": "2196202d-1c9c-41b6-8eae-eab7f6f6b3c4",
   "metadata": {},
   "outputs": [],
   "source": [
    "alphabets.sort()"
   ]
  },
  {
   "cell_type": "code",
   "execution_count": 84,
   "id": "58eb0042-3a90-4784-953b-ef92948f1dc3",
   "metadata": {},
   "outputs": [
    {
     "name": "stdout",
     "output_type": "stream",
     "text": [
      "['a', 'b', 'c', 'd', 'e']\n"
     ]
    }
   ],
   "source": [
    "print(alphabets)"
   ]
  },
  {
   "cell_type": "code",
   "execution_count": 85,
   "id": "f1387d1e-a9c4-48fa-85e3-9c80fbeec520",
   "metadata": {},
   "outputs": [],
   "source": [
    "numbers = [3, 6, 4, 8, 2, 9,34]"
   ]
  },
  {
   "cell_type": "code",
   "execution_count": 86,
   "id": "e4c8a27e-5e10-4044-9e82-cda748aa8129",
   "metadata": {},
   "outputs": [],
   "source": [
    "numbers.sort()"
   ]
  },
  {
   "cell_type": "code",
   "execution_count": 87,
   "id": "e438e806-6944-459e-9fb5-8a8e3fbb8bab",
   "metadata": {},
   "outputs": [
    {
     "name": "stdout",
     "output_type": "stream",
     "text": [
      "[2, 3, 4, 6, 8, 9, 34]\n"
     ]
    }
   ],
   "source": [
    "print(numbers)"
   ]
  },
  {
   "cell_type": "code",
   "execution_count": 88,
   "id": "852ed973-1e3c-467b-b2bf-dd75c973c7d4",
   "metadata": {},
   "outputs": [],
   "source": [
    "numbers.sort(reverse=True)"
   ]
  },
  {
   "cell_type": "code",
   "execution_count": 89,
   "id": "1e71c35d-4640-46b2-aa3d-d2bd7ad8e1ed",
   "metadata": {},
   "outputs": [
    {
     "name": "stdout",
     "output_type": "stream",
     "text": [
      "[34, 9, 8, 6, 4, 3, 2]\n"
     ]
    }
   ],
   "source": [
    "print(numbers)"
   ]
  },
  {
   "cell_type": "code",
   "execution_count": 90,
   "id": "d38c57f8-9483-480f-bd46-dee629d1c8e8",
   "metadata": {},
   "outputs": [],
   "source": [
    "dates = [\"2023-12-04\", \"2023-12-01\", \"2023-12-02\", \"2023-12-10\"]"
   ]
  },
  {
   "cell_type": "code",
   "execution_count": 91,
   "id": "304b051b-800c-4596-8b43-688a964474ef",
   "metadata": {},
   "outputs": [],
   "source": [
    "dates.sort(reverse=True)"
   ]
  },
  {
   "cell_type": "code",
   "execution_count": 92,
   "id": "61b45b09-b6af-41ad-9812-5b95f90fee03",
   "metadata": {},
   "outputs": [
    {
     "name": "stdout",
     "output_type": "stream",
     "text": [
      "['2023-12-10', '2023-12-04', '2023-12-02', '2023-12-01']\n"
     ]
    }
   ],
   "source": [
    "print(dates)"
   ]
  },
  {
   "cell_type": "markdown",
   "id": "de862941-3da4-44be-8037-6479ae415449",
   "metadata": {},
   "source": [
    "### Range Function"
   ]
  },
  {
   "cell_type": "code",
   "execution_count": 1,
   "id": "1cb65471-2eea-448a-b22c-d4c1519c82c6",
   "metadata": {},
   "outputs": [],
   "source": [
    "long_list = range(1, 100)"
   ]
  },
  {
   "cell_type": "code",
   "execution_count": 2,
   "id": "c86491ce-ab8a-4036-a002-3c4509804787",
   "metadata": {},
   "outputs": [
    {
     "name": "stdout",
     "output_type": "stream",
     "text": [
      "range(1, 100)\n"
     ]
    }
   ],
   "source": [
    "print(long_list)"
   ]
  },
  {
   "cell_type": "code",
   "execution_count": 3,
   "id": "23a29d9f-c93a-44e6-b1bb-0b73f36a4f53",
   "metadata": {},
   "outputs": [
    {
     "name": "stdout",
     "output_type": "stream",
     "text": [
      "[1, 2, 3, 4, 5, 6, 7, 8, 9, 10, 11, 12, 13, 14, 15, 16, 17, 18, 19, 20, 21, 22, 23, 24, 25, 26, 27, 28, 29, 30, 31, 32, 33, 34, 35, 36, 37, 38, 39, 40, 41, 42, 43, 44, 45, 46, 47, 48, 49, 50, 51, 52, 53, 54, 55, 56, 57, 58, 59, 60, 61, 62, 63, 64, 65, 66, 67, 68, 69, 70, 71, 72, 73, 74, 75, 76, 77, 78, 79, 80, 81, 82, 83, 84, 85, 86, 87, 88, 89, 90, 91, 92, 93, 94, 95, 96, 97, 98, 99]\n"
     ]
    }
   ],
   "source": [
    "print(list(long_list))"
   ]
  },
  {
   "cell_type": "code",
   "execution_count": null,
   "id": "c4f4a385-7946-4bd0-8b40-56f6f4b6052e",
   "metadata": {},
   "outputs": [],
   "source": []
  }
 ],
 "metadata": {
  "kernelspec": {
   "display_name": "Python 3 (ipykernel)",
   "language": "python",
   "name": "python3"
  },
  "language_info": {
   "codemirror_mode": {
    "name": "ipython",
    "version": 3
   },
   "file_extension": ".py",
   "mimetype": "text/x-python",
   "name": "python",
   "nbconvert_exporter": "python",
   "pygments_lexer": "ipython3",
   "version": "3.12.1"
  }
 },
 "nbformat": 4,
 "nbformat_minor": 5
}
