{
 "cells": [
  {
   "cell_type": "markdown",
   "id": "d32f0d04-8d7b-4fed-9c42-df13654ae498",
   "metadata": {},
   "source": [
    "### create a variable called few_number and assign a range of number between 25 to 106 using the range function"
   ]
  },
  {
   "cell_type": "code",
   "execution_count": 115,
   "id": "34ba2bf6-942e-4ec3-a671-656af32865f3",
   "metadata": {},
   "outputs": [],
   "source": [
    "few_number = range(25, 106)"
   ]
  },
  {
   "cell_type": "code",
   "execution_count": 116,
   "id": "6bafa093-ef95-4df0-b2db-2e93275e0d83",
   "metadata": {},
   "outputs": [
    {
     "name": "stdout",
     "output_type": "stream",
     "text": [
      "range(25, 106)\n"
     ]
    }
   ],
   "source": [
    "print(few_number)"
   ]
  },
  {
   "cell_type": "code",
   "execution_count": 117,
   "id": "4c0b0141-cac9-452b-94c0-2699fa927a39",
   "metadata": {},
   "outputs": [],
   "source": [
    "#print the list of the range"
   ]
  },
  {
   "cell_type": "code",
   "execution_count": 118,
   "id": "ff3b2db0-4cc9-42a6-b1b7-9385fc8dbd24",
   "metadata": {},
   "outputs": [
    {
     "name": "stdout",
     "output_type": "stream",
     "text": [
      "[25, 26, 27, 28, 29, 30, 31, 32, 33, 34, 35, 36, 37, 38, 39, 40, 41, 42, 43, 44, 45, 46, 47, 48, 49, 50, 51, 52, 53, 54, 55, 56, 57, 58, 59, 60, 61, 62, 63, 64, 65, 66, 67, 68, 69, 70, 71, 72, 73, 74, 75, 76, 77, 78, 79, 80, 81, 82, 83, 84, 85, 86, 87, 88, 89, 90, 91, 92, 93, 94, 95, 96, 97, 98, 99, 100, 101, 102, 103, 104, 105]\n"
     ]
    }
   ],
   "source": [
    "print(list(few_number))"
   ]
  },
  {
   "cell_type": "code",
   "execution_count": 119,
   "id": "bfd52296-5482-4b48-a520-d1c2f6dbee58",
   "metadata": {},
   "outputs": [],
   "source": [
    "#count the total number of elements in the variable few_number"
   ]
  },
  {
   "cell_type": "code",
   "execution_count": 120,
   "id": "8501e36d-3d41-4d3a-8104-b8a3977d85c9",
   "metadata": {},
   "outputs": [
    {
     "name": "stdout",
     "output_type": "stream",
     "text": [
      "81\n"
     ]
    }
   ],
   "source": [
    "print(len(few_number))"
   ]
  },
  {
   "cell_type": "code",
   "execution_count": 121,
   "id": "d2622d69-5f25-4d8f-bf8e-e34d2a630315",
   "metadata": {},
   "outputs": [],
   "source": [
    "#retrieve the last element in the list"
   ]
  },
  {
   "cell_type": "code",
   "execution_count": 122,
   "id": "c349f3d8-e272-4c25-b169-30dc3daa5d60",
   "metadata": {},
   "outputs": [
    {
     "name": "stdout",
     "output_type": "stream",
     "text": [
      "105\n"
     ]
    }
   ],
   "source": [
    "print(few_number[-1])"
   ]
  },
  {
   "cell_type": "code",
   "execution_count": 123,
   "id": "43b3aa65-fdda-479d-b2df-ce510d047ef4",
   "metadata": {},
   "outputs": [],
   "source": [
    "#sort the element in descending order"
   ]
  },
  {
   "cell_type": "code",
   "execution_count": 124,
   "id": "5c30c16b-8edb-4f5f-b7c1-6cd2c16ae79a",
   "metadata": {},
   "outputs": [
    {
     "name": "stdout",
     "output_type": "stream",
     "text": [
      "[25, 26, 27, 28, 29, 30, 31, 32, 33, 34, 35, 36, 37, 38, 39, 40, 41, 42, 43, 44, 45, 46, 47, 48, 49, 50, 51, 52, 53, 54, 55, 56, 57, 58, 59, 60, 61, 62, 63, 64, 65, 66, 67, 68, 69, 70, 71, 72, 73, 74, 75, 76, 77, 78, 79, 80, 81, 82, 83, 84, 85, 86, 87, 88, 89, 90, 91, 92, 93, 94, 95, 96, 97, 98, 99, 100, 101, 102, 103, 104, 105]\n"
     ]
    }
   ],
   "source": [
    "print(list(few_number))"
   ]
  },
  {
   "cell_type": "code",
   "execution_count": 125,
   "id": "cb018e25-1199-417e-8538-7cc4b7506eae",
   "metadata": {},
   "outputs": [],
   "source": [
    "few_number = [25, 26, 27, 28, 29, 30, 31, 32, 33, 34, 35, 36, 37, 38, 39, 40, 41, 42, 43, 44, 45, 46, 47, 48, 49, 50, 51, 52, 53, 54, 55, 56, 57, 58, 59, \n",
    "              60, 61, 62, 63, 64, 65, 66, 67, 68, 69, 70, 71, 72, 73, 74, 75, 76, 77, 78, 79, 80, 81, 82, 83, 84, 85, 86, 87, 88, 89, 90, 91, 92, 93, 94,\n",
    "              95, 96, 97, 98, 99, 100, 101, 102, 103, 104, 105]\n",
    "              "
   ]
  },
  {
   "cell_type": "code",
   "execution_count": 126,
   "id": "d9473483-f941-40da-8bb2-429e4a4bb52d",
   "metadata": {},
   "outputs": [],
   "source": [
    "few_number.sort(reverse=True)"
   ]
  },
  {
   "cell_type": "code",
   "execution_count": 127,
   "id": "56c34715-83f6-4ab0-a523-7ef7ae2f2e87",
   "metadata": {},
   "outputs": [
    {
     "name": "stdout",
     "output_type": "stream",
     "text": [
      "[105, 104, 103, 102, 101, 100, 99, 98, 97, 96, 95, 94, 93, 92, 91, 90, 89, 88, 87, 86, 85, 84, 83, 82, 81, 80, 79, 78, 77, 76, 75, 74, 73, 72, 71, 70, 69, 68, 67, 66, 65, 64, 63, 62, 61, 60, 59, 58, 57, 56, 55, 54, 53, 52, 51, 50, 49, 48, 47, 46, 45, 44, 43, 42, 41, 40, 39, 38, 37, 36, 35, 34, 33, 32, 31, 30, 29, 28, 27, 26, 25]\n"
     ]
    }
   ],
   "source": [
    "print(few_number)"
   ]
  },
  {
   "cell_type": "code",
   "execution_count": 128,
   "id": "791f1b60-c784-4c1b-8502-0eb6c6766c0e",
   "metadata": {},
   "outputs": [],
   "source": [
    "#retrieve the last element in the list after sorting"
   ]
  },
  {
   "cell_type": "code",
   "execution_count": 129,
   "id": "3579c5e7-3c0c-42cc-a5c7-3c111b8ce9d5",
   "metadata": {},
   "outputs": [
    {
     "name": "stdout",
     "output_type": "stream",
     "text": [
      "25\n"
     ]
    }
   ],
   "source": [
    "print(few_number[-1])"
   ]
  },
  {
   "cell_type": "markdown",
   "id": "fe15a026-f02c-415d-ac9e-348a5d6fcc13",
   "metadata": {},
   "source": [
    "### create an empty list called data_engineers"
   ]
  },
  {
   "cell_type": "code",
   "execution_count": 130,
   "id": "a469d798-00f3-4736-a4ad-662aaaab2a79",
   "metadata": {},
   "outputs": [],
   "source": [
    "data_engineers = []"
   ]
  },
  {
   "cell_type": "code",
   "execution_count": 131,
   "id": "024d0c53-1402-4ae1-8228-f3198020cc88",
   "metadata": {},
   "outputs": [
    {
     "name": "stdout",
     "output_type": "stream",
     "text": [
      "<class 'list'>\n"
     ]
    }
   ],
   "source": [
    "print(type(data_engineers))"
   ]
  },
  {
   "cell_type": "code",
   "execution_count": 132,
   "id": "538095af-932f-4c49-a5fb-a5b9c8bc5348",
   "metadata": {},
   "outputs": [],
   "source": [
    "#add the name of the people in data engineering hub group to the empty list"
   ]
  },
  {
   "cell_type": "code",
   "execution_count": 133,
   "id": "99481727-2def-4c68-a530-2fb109939e45",
   "metadata": {},
   "outputs": [],
   "source": [
    "data_engineers.append(\"yinka\")"
   ]
  },
  {
   "cell_type": "code",
   "execution_count": 134,
   "id": "40c9fd22-94a2-465e-803f-6bf7bbbafdad",
   "metadata": {},
   "outputs": [
    {
     "name": "stdout",
     "output_type": "stream",
     "text": [
      "['yinka']\n"
     ]
    }
   ],
   "source": [
    "print(data_engineers)"
   ]
  },
  {
   "cell_type": "code",
   "execution_count": 135,
   "id": "c138c8af-de1c-41c7-9b09-ee8866fd6a8d",
   "metadata": {},
   "outputs": [],
   "source": [
    "data_engineers.append(\"mayowa\")"
   ]
  },
  {
   "cell_type": "code",
   "execution_count": 136,
   "id": "e1b30f55-b7b6-4da9-979e-61192c03ba2a",
   "metadata": {},
   "outputs": [
    {
     "name": "stdout",
     "output_type": "stream",
     "text": [
      "['yinka', 'mayowa']\n"
     ]
    }
   ],
   "source": [
    "print(data_engineers)"
   ]
  },
  {
   "cell_type": "code",
   "execution_count": 137,
   "id": "aab88050-1488-41ce-82ce-73a3876876a2",
   "metadata": {},
   "outputs": [],
   "source": [
    "data_engineers.append(\"chinyere\")"
   ]
  },
  {
   "cell_type": "code",
   "execution_count": 138,
   "id": "5eb0b82c-6404-4764-b055-57856a5ab208",
   "metadata": {},
   "outputs": [
    {
     "name": "stdout",
     "output_type": "stream",
     "text": [
      "['yinka', 'mayowa', 'chinyere']\n"
     ]
    }
   ],
   "source": [
    "print(data_engineers)"
   ]
  },
  {
   "cell_type": "code",
   "execution_count": 139,
   "id": "3c52ae73-b35f-43d2-a094-1b7ef671741a",
   "metadata": {},
   "outputs": [],
   "source": [
    "data_engineers.append(\"joachim\")"
   ]
  },
  {
   "cell_type": "code",
   "execution_count": 140,
   "id": "ab1603b9-8c06-4897-bf2a-261da5a28ae5",
   "metadata": {},
   "outputs": [
    {
     "name": "stdout",
     "output_type": "stream",
     "text": [
      "['yinka', 'mayowa', 'chinyere', 'joachim']\n"
     ]
    }
   ],
   "source": [
    "print(data_engineers)"
   ]
  },
  {
   "cell_type": "code",
   "execution_count": 141,
   "id": "f225c173-4da4-4e16-bf80-e77ca244f59a",
   "metadata": {},
   "outputs": [],
   "source": [
    "data_engineers.append(\"amanda\")"
   ]
  },
  {
   "cell_type": "code",
   "execution_count": 142,
   "id": "cd91b6ea-c45f-4c64-9745-8bdef08041dc",
   "metadata": {},
   "outputs": [
    {
     "name": "stdout",
     "output_type": "stream",
     "text": [
      "['yinka', 'mayowa', 'chinyere', 'joachim', 'amanda']\n"
     ]
    }
   ],
   "source": [
    "print(data_engineers)"
   ]
  },
  {
   "cell_type": "code",
   "execution_count": 143,
   "id": "8d2e8a33-b87a-4912-b62a-7195465f556c",
   "metadata": {},
   "outputs": [],
   "source": [
    "data_engineers.append(\"chukwu\")"
   ]
  },
  {
   "cell_type": "code",
   "execution_count": 144,
   "id": "7c3f3a00-e9a4-4f76-ad2d-17e2c0f0dc61",
   "metadata": {},
   "outputs": [
    {
     "name": "stdout",
     "output_type": "stream",
     "text": [
      "['yinka', 'mayowa', 'chinyere', 'joachim', 'amanda', 'chukwu']\n"
     ]
    }
   ],
   "source": [
    "print(data_engineers)"
   ]
  },
  {
   "cell_type": "code",
   "execution_count": 145,
   "id": "1ee675db-1eb4-484f-9def-447c95f8b269",
   "metadata": {},
   "outputs": [],
   "source": [
    "#sort the list in ascending order after adding everyone"
   ]
  },
  {
   "cell_type": "code",
   "execution_count": 146,
   "id": "5410219b-cef2-47af-a4f7-c8a54a4a89a2",
   "metadata": {},
   "outputs": [],
   "source": [
    "data_engineers.sort()"
   ]
  },
  {
   "cell_type": "code",
   "execution_count": 147,
   "id": "fc77ecf7-226b-4a5d-9fc5-46c904fa6a5b",
   "metadata": {},
   "outputs": [
    {
     "name": "stdout",
     "output_type": "stream",
     "text": [
      "['amanda', 'chinyere', 'chukwu', 'joachim', 'mayowa', 'yinka']\n"
     ]
    }
   ],
   "source": [
    "print(data_engineers)"
   ]
  },
  {
   "cell_type": "code",
   "execution_count": 148,
   "id": "5db677c2-5b6c-4ca9-b37e-196ddcf499a8",
   "metadata": {},
   "outputs": [],
   "source": [
    "#replace the last element with Caleb"
   ]
  },
  {
   "cell_type": "code",
   "execution_count": 149,
   "id": "65a30cd3-8c4e-4efc-babe-2a28d4f60164",
   "metadata": {},
   "outputs": [],
   "source": [
    "data_engineers = [\"amanda\", \"chinyere\", \"chukwu\", \"joachim\", \"mayowa\", \"yinka\"]"
   ]
  },
  {
   "cell_type": "code",
   "execution_count": 150,
   "id": "dde80cef-337e-4b7c-850f-ca372a498539",
   "metadata": {},
   "outputs": [
    {
     "name": "stdout",
     "output_type": "stream",
     "text": [
      "yinka\n"
     ]
    }
   ],
   "source": [
    "print(data_engineers[5])"
   ]
  },
  {
   "cell_type": "code",
   "execution_count": 151,
   "id": "2eb612b4-cefa-42c6-858c-3c1cd21ca366",
   "metadata": {},
   "outputs": [
    {
     "name": "stdout",
     "output_type": "stream",
     "text": [
      "yinka\n"
     ]
    }
   ],
   "source": [
    "print(data_engineers[-1])"
   ]
  },
  {
   "cell_type": "code",
   "execution_count": 152,
   "id": "8cdd4466-a035-4241-8f37-ba5e62f4abd3",
   "metadata": {},
   "outputs": [],
   "source": [
    "data_engineers[-1] = \"caleb\""
   ]
  },
  {
   "cell_type": "code",
   "execution_count": 153,
   "id": "51482d9b-cac5-40e7-8cb0-6d6cbca6579b",
   "metadata": {},
   "outputs": [
    {
     "name": "stdout",
     "output_type": "stream",
     "text": [
      "['amanda', 'chinyere', 'chukwu', 'joachim', 'mayowa', 'caleb']\n"
     ]
    }
   ],
   "source": [
    "print(data_engineers)"
   ]
  },
  {
   "cell_type": "code",
   "execution_count": 154,
   "id": "d8883775-0e4d-4167-ab37-f2d4d74b8e3e",
   "metadata": {},
   "outputs": [],
   "source": [
    "#retrieve 3 elements that follows each other starting from the first index (Expected to use slicing) and assign the output to a varaiable called subset_names\n"
   ]
  },
  {
   "cell_type": "code",
   "execution_count": 155,
   "id": "45cdbe09-cba2-4b74-8206-5a8260118774",
   "metadata": {},
   "outputs": [],
   "source": [
    "data_engineers = [\"amanda\", \"chinyere\", \"chukwu\", \"joachim\", \"mayowa\", \"yinka\"]"
   ]
  },
  {
   "cell_type": "code",
   "execution_count": 156,
   "id": "1c1d2c2b-0410-4567-a255-63bfc14cb4f2",
   "metadata": {},
   "outputs": [
    {
     "name": "stdout",
     "output_type": "stream",
     "text": [
      "['amanda', 'chinyere', 'chukwu']\n"
     ]
    }
   ],
   "source": [
    "print(data_engineers[0:3])"
   ]
  },
  {
   "cell_type": "code",
   "execution_count": 157,
   "id": "06368f39-e2ae-48d4-9774-daebc4c8e572",
   "metadata": {},
   "outputs": [
    {
     "name": "stdout",
     "output_type": "stream",
     "text": [
      "['amanda', 'chinyere', 'chukwu']\n"
     ]
    }
   ],
   "source": [
    "print(data_engineers[:3])"
   ]
  },
  {
   "cell_type": "code",
   "execution_count": 158,
   "id": "1cb66abc-4adf-48fe-a8fa-7e36f8b5699e",
   "metadata": {},
   "outputs": [],
   "source": [
    "subset_names = data_engineers[:3]"
   ]
  },
  {
   "cell_type": "code",
   "execution_count": 159,
   "id": "b6935830-71b5-44e6-95f2-b75cfe04d0b0",
   "metadata": {},
   "outputs": [
    {
     "name": "stdout",
     "output_type": "stream",
     "text": [
      "['amanda', 'chinyere', 'chukwu']\n"
     ]
    }
   ],
   "source": [
    "print(subset_names)"
   ]
  },
  {
   "cell_type": "code",
   "execution_count": 160,
   "id": "1b69a071-6017-46f2-9fb6-b8a2cd9d9f2e",
   "metadata": {},
   "outputs": [],
   "source": [
    "#print the total element in subset_names"
   ]
  },
  {
   "cell_type": "code",
   "execution_count": 161,
   "id": "3fc8fe01-08b5-4748-8f7b-515d95c18ebf",
   "metadata": {},
   "outputs": [
    {
     "name": "stdout",
     "output_type": "stream",
     "text": [
      "3\n"
     ]
    }
   ],
   "source": [
    "print(len(subset_names))"
   ]
  },
  {
   "cell_type": "markdown",
   "id": "08c9b3dd-089f-4076-bb38-0cb563f236af",
   "metadata": {},
   "source": [
    "### create a variable called price and assign a value 100 to it"
   ]
  },
  {
   "cell_type": "code",
   "execution_count": 162,
   "id": "37d48851-7bb5-40bc-9871-d412c90295de",
   "metadata": {},
   "outputs": [],
   "source": [
    "price = 100"
   ]
  },
  {
   "cell_type": "code",
   "execution_count": 163,
   "id": "7c3d0b71-3425-4d7a-bf2e-2049fbd815d3",
   "metadata": {},
   "outputs": [],
   "source": [
    "#print the value of price with a meaningful statement using string interpolation or formattted string"
   ]
  },
  {
   "cell_type": "code",
   "execution_count": 164,
   "id": "ef625ab6-8045-4c74-850b-b9a31647a8ed",
   "metadata": {},
   "outputs": [
    {
     "name": "stdout",
     "output_type": "stream",
     "text": [
      "100\n"
     ]
    }
   ],
   "source": [
    "print(price)"
   ]
  },
  {
   "cell_type": "code",
   "execution_count": 165,
   "id": "4eee02c2-2f0e-45c3-a34d-8f6803355426",
   "metadata": {},
   "outputs": [],
   "source": [
    "#1st approach"
   ]
  },
  {
   "cell_type": "code",
   "execution_count": 166,
   "id": "2702414b-c8c4-488d-a351-cde4eeaa8aae",
   "metadata": {},
   "outputs": [
    {
     "name": "stdout",
     "output_type": "stream",
     "text": [
      "my mango is 100 naira and i can't go below 100 naira, if you can't pay 100 naira then go to amanda's shop\n"
     ]
    }
   ],
   "source": [
    "print(f\"my mango is {price} naira and i can't go below {price} naira, if you can't pay {price} naira then go to amanda's shop\")"
   ]
  },
  {
   "cell_type": "code",
   "execution_count": 167,
   "id": "482d9025-e6c0-4027-ba2a-166fcc505dcf",
   "metadata": {},
   "outputs": [],
   "source": [
    "#2nd approach"
   ]
  },
  {
   "cell_type": "code",
   "execution_count": 168,
   "id": "f9f0607a-41ad-46b0-aa73-76a3433dfa07",
   "metadata": {},
   "outputs": [
    {
     "name": "stdout",
     "output_type": "stream",
     "text": [
      "my mango is 100\n"
     ]
    }
   ],
   "source": [
    "print(\"my mango is\", price)"
   ]
  },
  {
   "cell_type": "code",
   "execution_count": 169,
   "id": "c9e58675-b21e-473a-ac34-cea7d138aa44",
   "metadata": {},
   "outputs": [],
   "source": [
    "#create two random strings and assign them to their corresponding variables"
   ]
  },
  {
   "cell_type": "code",
   "execution_count": 170,
   "id": "d54e72c0-2ab3-4681-83c0-12f6ba0570fc",
   "metadata": {},
   "outputs": [],
   "source": [
    "summer = \"summer is very hot\""
   ]
  },
  {
   "cell_type": "code",
   "execution_count": 171,
   "id": "39b3ccb1-f01d-41f4-843d-01bf07d9d7d9",
   "metadata": {},
   "outputs": [],
   "source": [
    "winter = \" while winter is extremely cold\""
   ]
  },
  {
   "cell_type": "code",
   "execution_count": 172,
   "id": "2ae2b81e-10fe-4117-9a34-fe69dd821918",
   "metadata": {},
   "outputs": [],
   "source": [
    "#concatenate both strings together and assign the ouput to another variable called concatenated_strings"
   ]
  },
  {
   "cell_type": "code",
   "execution_count": 173,
   "id": "7d156441-f6da-4564-9232-7b256ec7891f",
   "metadata": {},
   "outputs": [
    {
     "name": "stdout",
     "output_type": "stream",
     "text": [
      "summer is very hot while winter is extremely cold\n"
     ]
    }
   ],
   "source": [
    "print(summer + winter)"
   ]
  },
  {
   "cell_type": "code",
   "execution_count": 174,
   "id": "f8b0f22c-ab42-4530-a455-192630c2f963",
   "metadata": {},
   "outputs": [],
   "source": [
    "concatenated_strings = (\"summer is very hot while winter is extremely cold\")"
   ]
  },
  {
   "cell_type": "code",
   "execution_count": 175,
   "id": "5861b24a-799b-452c-8a78-9a198be72886",
   "metadata": {},
   "outputs": [],
   "source": [
    "#print the new variable concatenated_string"
   ]
  },
  {
   "cell_type": "code",
   "execution_count": 176,
   "id": "b11eef1e-22b5-4ac8-ab3b-7f69213afd61",
   "metadata": {},
   "outputs": [
    {
     "name": "stdout",
     "output_type": "stream",
     "text": [
      "summer is very hot while winter is extremely cold\n"
     ]
    }
   ],
   "source": [
    "print(concatenated_strings)"
   ]
  },
  {
   "cell_type": "code",
   "execution_count": 177,
   "id": "0f79c13f-2b11-4781-8ec4-659b1129c5d4",
   "metadata": {},
   "outputs": [],
   "source": [
    "#print the total character in the variable concatenated_strings"
   ]
  },
  {
   "cell_type": "code",
   "execution_count": 178,
   "id": "8929c2e9-b347-4f30-bdeb-c0e7ceb8c4bd",
   "metadata": {},
   "outputs": [
    {
     "name": "stdout",
     "output_type": "stream",
     "text": [
      "49\n"
     ]
    }
   ],
   "source": [
    "print(len(concatenated_strings))"
   ]
  },
  {
   "cell_type": "code",
   "execution_count": null,
   "id": "161141a0-6b7d-45a6-b102-0c68af6e81a9",
   "metadata": {},
   "outputs": [],
   "source": []
  },
  {
   "cell_type": "code",
   "execution_count": null,
   "id": "7a7d7fb1-1819-4aa4-b54d-521d797312a1",
   "metadata": {},
   "outputs": [],
   "source": []
  }
 ],
 "metadata": {
  "kernelspec": {
   "display_name": "Python 3 (ipykernel)",
   "language": "python",
   "name": "python3"
  },
  "language_info": {
   "codemirror_mode": {
    "name": "ipython",
    "version": 3
   },
   "file_extension": ".py",
   "mimetype": "text/x-python",
   "name": "python",
   "nbconvert_exporter": "python",
   "pygments_lexer": "ipython3",
   "version": "3.12.1"
  }
 },
 "nbformat": 4,
 "nbformat_minor": 5
}
