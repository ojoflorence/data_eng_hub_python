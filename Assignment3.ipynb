{
 "cells": [
  {
   "cell_type": "code",
   "execution_count": 3,
   "id": "e6e177bd-e433-44eb-924e-1daa7a0707a3",
   "metadata": {},
   "outputs": [],
   "source": [
    "bucket_list_response = {'ResponseMetadata': {'RequestId': 'NC6YGDVEN48S3EFG',\n",
    "  'HostId': '+FJnmTwAwoEfp0jignXRueR6Bc62MwN1aBvK3SAJJ9fH0Y+AAsaSoEyjHyz8ij6QefhFquWb5Yk=',\n",
    "  'HTTPStatusCode': 200,\n",
    "  'HTTPHeaders': {'x-amz-id-2': '+FJnmTwAwoEfp0jignXRueR6Bc62MwN1aBvK3SAJJ9fH0Y+AAsaSoEyjHyz8ij6QefhFquWb5Yk=',\n",
    "   'x-amz-request-id': 'NC6YGDVEN48S3EFG',\n",
    "   'date': 'Wed, 20 Dec 2023 08:42:20 GMT',\n",
    "   'content-type': 'application/xml',\n",
    "   'transfer-encoding': 'chunked',\n",
    "   'server': 'AmazonS3'},\n",
    "  'RetryAttempts': 0},\n",
    " 'Buckets': [{'Name': 'amanda-igwe',\n",
    "   'CreationDate': 'datetime.datetime(2023, 12, 20, 8, 19, 13, tzinfo=tzutc())'},\n",
    "  {'Name': 'chinyere',\n",
    "   'CreationDate': 'datetime.datetime(2023, 12, 20, 8, 17, 54, tzinfo=tzutc())'},\n",
    "  {'Name': 'chukwujekwu-anah',\n",
    "   'CreationDate': 'datetime.datetime(2023, 12, 20, 8, 17, 3, tzinfo=tzutc())'},\n",
    "  {'Name': 'joachim-uche',\n",
    "   'CreationDate': 'datetime.datetime(2023, 12, 20, 8, 15, 53, tzinfo=tzutc())'},\n",
    "  {'Name': 'segun-lawal',\n",
    "   'CreationDate': 'datetime.datetime(2023, 12, 20, 8, 17, 31, tzinfo=tzutc())'},\n",
    "  {'Name': 'yimika',\n",
    "   'CreationDate': 'datetime.datetime(2023, 12, 20, 8, 42, 3, tzinfo=tzutc())'}],\n",
    " 'Owner': {'ID': 'fb45f4974068284041efc3a13b3321d277bb56c0029e7e6017f7cea998c249de'}}"
   ]
  },
  {
   "cell_type": "code",
   "execution_count": 4,
   "id": "37779107-800a-4dc4-bfb0-7fc92b1e4ea5",
   "metadata": {},
   "outputs": [
    {
     "name": "stdout",
     "output_type": "stream",
     "text": [
      "dict_keys(['ResponseMetadata', 'Buckets', 'Owner'])\n"
     ]
    }
   ],
   "source": [
    "print(bucket_list_response.keys())"
   ]
  },
  {
   "cell_type": "code",
   "execution_count": 5,
   "id": "656d2dff-c20a-4eca-88b0-92af47373a3a",
   "metadata": {},
   "outputs": [],
   "source": [
    "extracted_key = bucket_list_response[\"Buckets\"]"
   ]
  },
  {
   "cell_type": "code",
   "execution_count": 6,
   "id": "d3b638cd-13bb-408d-9704-605b5191f415",
   "metadata": {},
   "outputs": [
    {
     "name": "stdout",
     "output_type": "stream",
     "text": [
      "[{'Name': 'amanda-igwe', 'CreationDate': 'datetime.datetime(2023, 12, 20, 8, 19, 13, tzinfo=tzutc())'}, {'Name': 'chinyere', 'CreationDate': 'datetime.datetime(2023, 12, 20, 8, 17, 54, tzinfo=tzutc())'}, {'Name': 'chukwujekwu-anah', 'CreationDate': 'datetime.datetime(2023, 12, 20, 8, 17, 3, tzinfo=tzutc())'}, {'Name': 'joachim-uche', 'CreationDate': 'datetime.datetime(2023, 12, 20, 8, 15, 53, tzinfo=tzutc())'}, {'Name': 'segun-lawal', 'CreationDate': 'datetime.datetime(2023, 12, 20, 8, 17, 31, tzinfo=tzutc())'}, {'Name': 'yimika', 'CreationDate': 'datetime.datetime(2023, 12, 20, 8, 42, 3, tzinfo=tzutc())'}]\n"
     ]
    }
   ],
   "source": [
    "print(extracted_key)"
   ]
  },
  {
   "cell_type": "code",
   "execution_count": 7,
   "id": "e5001df9-2442-4f4a-a19d-ed636b27bbf1",
   "metadata": {},
   "outputs": [
    {
     "name": "stdout",
     "output_type": "stream",
     "text": [
      "{'Name': 'amanda-igwe', 'CreationDate': 'datetime.datetime(2023, 12, 20, 8, 19, 13, tzinfo=tzutc())'}\n"
     ]
    }
   ],
   "source": [
    "print(extracted_key[0])"
   ]
  },
  {
   "cell_type": "code",
   "execution_count": 9,
   "id": "655ef8cf-1d05-4709-9963-f1d8e9ad1714",
   "metadata": {},
   "outputs": [
    {
     "name": "stdout",
     "output_type": "stream",
     "text": [
      "amanda-igwe\n"
     ]
    }
   ],
   "source": [
    "print(extracted_key[0][\"Name\"])"
   ]
  },
  {
   "cell_type": "code",
   "execution_count": null,
   "id": "d9f10b84-66b8-44fb-ad52-cc6adb902744",
   "metadata": {},
   "outputs": [],
   "source": []
  },
  {
   "cell_type": "code",
   "execution_count": 10,
   "id": "76f5b183-18d6-4a52-94b2-e9e433a983b5",
   "metadata": {},
   "outputs": [
    {
     "name": "stdout",
     "output_type": "stream",
     "text": [
      "datetime.datetime(2023, 12, 20, 8, 19, 13, tzinfo=tzutc())\n"
     ]
    }
   ],
   "source": [
    "print(extracted_key[0][\"CreationDate\"])"
   ]
  },
  {
   "cell_type": "code",
   "execution_count": null,
   "id": "a1f96595-ef57-4f34-838a-80e2ab2bf87a",
   "metadata": {},
   "outputs": [],
   "source": []
  },
  {
   "cell_type": "code",
   "execution_count": 11,
   "id": "72a37a6b-d2cf-40e3-8815-54180fe26488",
   "metadata": {},
   "outputs": [
    {
     "name": "stdout",
     "output_type": "stream",
     "text": [
      "{'RequestId': 'NC6YGDVEN48S3EFG', 'HostId': '+FJnmTwAwoEfp0jignXRueR6Bc62MwN1aBvK3SAJJ9fH0Y+AAsaSoEyjHyz8ij6QefhFquWb5Yk=', 'HTTPStatusCode': 200, 'HTTPHeaders': {'x-amz-id-2': '+FJnmTwAwoEfp0jignXRueR6Bc62MwN1aBvK3SAJJ9fH0Y+AAsaSoEyjHyz8ij6QefhFquWb5Yk=', 'x-amz-request-id': 'NC6YGDVEN48S3EFG', 'date': 'Wed, 20 Dec 2023 08:42:20 GMT', 'content-type': 'application/xml', 'transfer-encoding': 'chunked', 'server': 'AmazonS3'}, 'RetryAttempts': 0}\n"
     ]
    }
   ],
   "source": [
    "print(bucket_list_response[\"ResponseMetadata\"])"
   ]
  },
  {
   "cell_type": "code",
   "execution_count": 12,
   "id": "2e68dc8b-7129-4e2a-8d89-7a86ceb60757",
   "metadata": {},
   "outputs": [
    {
     "name": "stdout",
     "output_type": "stream",
     "text": [
      "dict_keys(['RequestId', 'HostId', 'HTTPStatusCode', 'HTTPHeaders', 'RetryAttempts'])\n"
     ]
    }
   ],
   "source": [
    "print(bucket_list_response[\"ResponseMetadata\"].keys())"
   ]
  },
  {
   "cell_type": "code",
   "execution_count": 13,
   "id": "8f0f37a9-bd20-4cd5-9224-54fbeaec5534",
   "metadata": {},
   "outputs": [
    {
     "name": "stdout",
     "output_type": "stream",
     "text": [
      "{'x-amz-id-2': '+FJnmTwAwoEfp0jignXRueR6Bc62MwN1aBvK3SAJJ9fH0Y+AAsaSoEyjHyz8ij6QefhFquWb5Yk=', 'x-amz-request-id': 'NC6YGDVEN48S3EFG', 'date': 'Wed, 20 Dec 2023 08:42:20 GMT', 'content-type': 'application/xml', 'transfer-encoding': 'chunked', 'server': 'AmazonS3'}\n"
     ]
    }
   ],
   "source": [
    "print(bucket_list_response[\"ResponseMetadata\"][\"HTTPHeaders\"])"
   ]
  },
  {
   "cell_type": "code",
   "execution_count": 15,
   "id": "88e50e64-9ade-4c5f-a77c-bc61d0a09092",
   "metadata": {},
   "outputs": [
    {
     "name": "stdout",
     "output_type": "stream",
     "text": [
      "AmazonS3\n"
     ]
    }
   ],
   "source": [
    "print(bucket_list_response[\"ResponseMetadata\"][\"HTTPHeaders\"][\"server\"])"
   ]
  },
  {
   "cell_type": "code",
   "execution_count": 1,
   "id": "815eb7d5-cf85-4833-872b-2f48aaee1a5f",
   "metadata": {},
   "outputs": [],
   "source": [
    "#assignment"
   ]
  },
  {
   "cell_type": "code",
   "execution_count": null,
   "id": "6fb0829e-b95f-41d9-ae47-a91291047e37",
   "metadata": {},
   "outputs": [],
   "source": []
  }
 ],
 "metadata": {
  "kernelspec": {
   "display_name": "Python 3 (ipykernel)",
   "language": "python",
   "name": "python3"
  },
  "language_info": {
   "codemirror_mode": {
    "name": "ipython",
    "version": 3
   },
   "file_extension": ".py",
   "mimetype": "text/x-python",
   "name": "python",
   "nbconvert_exporter": "python",
   "pygments_lexer": "ipython3",
   "version": "3.12.1"
  }
 },
 "nbformat": 4,
 "nbformat_minor": 5
}
